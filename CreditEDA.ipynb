{
 "cells": [
  {
   "cell_type": "code",
   "execution_count": 1,
   "source": [
    "# Filtering out the warnings\n",
    "import warnings\n",
    "warnings.filterwarnings('ignore')"
   ],
   "outputs": [],
   "metadata": {}
  },
  {
   "cell_type": "code",
   "execution_count": 2,
   "source": [
    "#Import the required Libraries.\n",
    "import numpy as np\n",
    "import pandas as pd\n",
    "import matplotlib.pyplot as plt\n",
    "import seaborn as sns"
   ],
   "outputs": [],
   "metadata": {}
  },
  {
   "cell_type": "markdown",
   "source": [
    "## Notes"
   ],
   "metadata": {}
  },
  {
   "cell_type": "markdown",
   "source": [
    "- There could be multiple applications from the same customer\n",
    "- Amounts -> Can they be rounded off?\n",
    "\n",
    "AMT_APPLICATION, AMT_CREDIT, AMT_GOODS_PRICE\n",
    "- Goods Vs Amount loan\n",
    "- Is lesser amount given than that is asked for? AMT_APPLICATION\tAMT_CREDIT\t\n",
    "- Is more amount asked for than that is needed? AMT_APPLICATION\tAMT_GOODS_PRICE\n",
    "- No information on whether the applicant has paid off the previous loans\n",
    "- AMT_DOWN_PAYMENT & RATE_DOWN_PAYMENT occur together\n",
    "\n",
    "Current Application & Previous Application\n",
    "- Do all clients with current application have entries in previous application?\n",
    "- For each Client, number of previous applications & how many were completed.\n",
    "- 1 curr_id has multiple prev_ids. Add number of prev_ids associated with this curr_id\n",
    "\n",
    "Others\n",
    "- Replace all FLAG_DOCUMENT with a single FLAG_DOCUMENT with the sum\n",
    "- Correlation matrix\n",
    "- No information on whether the applicant has paid off the previous loans\n",
    "- Columns have empty values\n",
    "- Merge 2 datasets\n",
    "- How to show/hide output - o"
   ],
   "metadata": {}
  },
  {
   "cell_type": "markdown",
   "source": [
    "1. Data Cleaning: \n",
    "    - Remove the irrelevant columns. \n",
    "    - Remove/impute the missing values\n",
    "2. Outlier handling:\n",
    "    - Univariate: ordered or unordered, or it may be a numerical variable.\n",
    "        - Categorical unordered:\n",
    "        - Categorical ordered\n",
    "        - Numerical variable: mean, median, mode, quantiles, and box plots, \n",
    "            - continuous\n",
    "            - discrete \n",
    "        - Convert numerical variables into categorical ones\n",
    "    - Multivariate  \n",
    "        -  Bivariate: \n",
    "            - correlation and scatter plots on numerical variables\n",
    "            - numerical and categorical variables: Boxplot\n",
    "            - two categorical variables: bar graph\n",
    "        -  Multivariate: heat maps \n",
    "3. Standardising values\n",
    "Fixing invalid values\n",
    "Filter data\n"
   ],
   "metadata": {}
  },
  {
   "cell_type": "markdown",
   "source": [
    "### Table of Contents <a class=\"anchor\" id=\"toc\"></a>\n",
    "\n",
    "* [Definitions](#definitions)\n",
    "    * [Section 1.1](#section_1_1)\n",
    "    * [Section 1.2](sSection_1_2)\n",
    "        * [Section 1.2.1](#section_1_2_1)\n",
    "        * [Section 1.2.2](#section_1_2_2)\n",
    "        * [Section 1.2.3](#section_1_2_3)\n",
    "* [Chapter 2](#chapter2)\n",
    "    * [Section 2.1](#section_2_1)\n",
    "    * [Section 2.2](#section_2_2)\n"
   ],
   "metadata": {}
  },
  {
   "cell_type": "markdown",
   "source": [
    "## Problem Statement"
   ],
   "metadata": {}
  },
  {
   "cell_type": "markdown",
   "source": [
    "## Definitions <a class=\"anchor\" id=\"definitions\"></a> [TOC](#toc)"
   ],
   "metadata": {}
  },
  {
   "cell_type": "code",
   "execution_count": 104,
   "source": [
    "def percent(val, total):\n",
    "    return round(100 * val/total)\n",
    "\n",
    "def getIQR(df, col):\n",
    "    Q1, Q3 = df[col].quantile(0.25), df[col].quantile(0.75)\n",
    "    return Q3 - Q1\n",
    "\n",
    "def getMaxScore(df, col):\n",
    "    Q3 = df[col].quantile(0.75)\n",
    "    iqr = getIQR(df, col)\n",
    "    return Q3 + 1.5 * iqr\n",
    "\n",
    "def listColumsWithMissingData(df):\n",
    "    [ print(f\"{col:30}  {df[col].isna().sum(): 7d} {100 * df[col].isna().sum()/df.shape[0]: 2.1f}%\") for col in df.columns if df[col].isna().any() ]\n",
    "\n",
    "def getCategoricalValues(df):\n",
    "    cat_columns = df.select_dtypes(include=['object']).columns.tolist()\n",
    "    cat_columns.sort()\n",
    "    print(f\"Columns with categorical values {len(cat_columns)} --> {cat_columns}\")\n",
    "    for col in cat_columns:\n",
    "        count_values = df[col].unique().shape[0]\n",
    "        print(f\"{col:27} : [{count_values:2}] --> {sorted((df[col].unique().tolist())) if np.NaN not in df[col].unique().tolist() else (df[col].unique().tolist())}\")\n",
    "        \n",
    "def getNumCategoricalValues(df, ncat_columns):\n",
    "    ncat_columns.sort()\n",
    "    print(f\"Columns with categorical values {len(ncat_columns)}\")\n",
    "    for col in ncat_columns:\n",
    "        count_values = df[col].unique().shape[0]\n",
    "        if count_values > 30:\n",
    "            print(f\"{col:26} : [{count_values:4}] --> {sorted(df[col].unique().tolist()[:10])}...{sorted(df[col].unique().tolist()[-10:])}\") \n",
    "        else:\n",
    "            print(f\"{col:26} : [{count_values:4}] --> {sorted(df[col].unique().tolist())}\") \n",
    "\n",
    "def makeDFForTarget(df, col, taretVal):\n",
    "    df_ = df[df['TARGET']==taretVal][[col,'TARGET']]\n",
    "    cnt = df_.shape[0]\n",
    "    df_ = groupByAndCount(df_, col, skipPercent=False)\n",
    "    df_.rename(columns={'Count':f'Target={taretVal}'},inplace=True)\n",
    "    #print(df_)\n",
    "    return df_, cnt\n",
    "\n",
    "\n",
    "def makeDFForTargets(df, col):\n",
    "    df_1, cnt_1 = makeDFForTarget(df, col, 1)\n",
    "    df_0, cnt_0 = makeDFForTarget(df, col, 0)\n",
    "    print(cnt_1, cnt_0)\n",
    "\n",
    "    df_ = df_0.merge(df_1, how='left',on=col)\n",
    "    print(df_)\n",
    "    df_.set_index(col, inplace=True)\n",
    "    return df_\n",
    "\n",
    "\n",
    "def groupByAndCount(df, col, sort = True, skipPercent=True):\n",
    "    total_rows = df.shape[0]\n",
    "    df_ = df.groupby(by=col).agg({col:\"count\"})\n",
    "    df_.rename(columns={col:'Count'}, inplace=True)\n",
    "    df_.reset_index(inplace=True)\n",
    "    if sort == True: df_.sort_values(by='Count', ascending=False, inplace=True)\n",
    "    if not skipPercent:\n",
    "        df_['%'] = round((df_['Count']/total_rows)*100,2)\n",
    "    return df_\n",
    "    \n",
    "def groupPerTarget(df, col):\n",
    "    df_1 = df[df['TARGET']==1][[col,'TARGET']]; print(df_1.shape[0])\n",
    "    df_1 = groupByAndCount(df_1, col, sort = False)\n",
    "    df_1.rename(columns={'Count':'Target=1'},inplace=True)\n",
    "    #print(df_1)\n",
    "\n",
    "    df_0 = df[df['TARGET']==0][[ col,'TARGET']]; print(df_0.shape[0])\n",
    "    df_0 = groupByAndCount(df_0, col, sort = False)\n",
    "    df_0.rename(columns={'Count':'Target=0'},inplace=True)\n",
    "    #print(df_0)\n",
    "\n",
    "\n",
    "    df_ = df_0.merge(df_1, how='left',on=col)\n",
    "    df_['Total'] = df_['Target=0'] + df_['Target=1']\n",
    "    df_['Target=0%'] = percent(df_['Target=0'], df_['Total']) \n",
    "    df_['Target=1%'] = percent(df_['Target=1'], df_['Total'])\n",
    "    df_.set_index(col, inplace=True)\n",
    "\n",
    "    df_= df_[['Total', 'Target=1', 'Target=0', 'Target=1%', 'Target=0%' ]]\n",
    "\n",
    "    print(df_)\n",
    "    \n",
    "    return df_\n",
    "\n",
    "# -----\n",
    "def groupByTargetAndCount(df, value, sort = True, skipPercent=True):\n",
    "    total_rows = df.shape[0]\n",
    "    df_ = df.groupby(by='TARGET').agg({'TARGET':\"count\"})\n",
    "    df_.rename(columns={'TARGET': f'{value}_Count'}, inplace=True)\n",
    "    df_.reset_index(inplace=True)\n",
    "    if sort == True: df_.sort_values(by=f'{value}_Count', ascending=False, inplace=True)\n",
    "    if not skipPercent:\n",
    "        df_[f'{value}_%'] = round((df_[f'{value}_Count']/total_rows)*100,2)\n",
    "    return df_\n",
    "\n",
    "def makeDFForTarget1(df, col, value):\n",
    "    df_ = df[df[col]==value][[col,'TARGET']]\n",
    "    #print(df_)\n",
    "    cnt = df_.shape[0]\n",
    "    df_ = groupByTargetAndCount(df_, value, skipPercent=False)\n",
    "    return df_, cnt\n",
    "\n",
    "\n",
    "def makeDFForTargets1(df, col):\n",
    "    df_1, cnt_1 = makeDFForTarget1(df_ca, col, 'N')\n",
    "    df_0, cnt_0 = makeDFForTarget1(df_ca, col, 'Y')\n",
    "    print(cnt_1, cnt_0)\n",
    "    df_ = df_0.merge(df_1, how='left',on='TARGET')\n",
    "    print(df_)\n",
    "    df_.set_index('TARGET', inplace=True)\n",
    "    df_ = df_.transpose()\n",
    "    df_ = df_.loc[['Y_%', 'N_%']]\n",
    "    return df_\n",
    "# ---"
   ],
   "outputs": [],
   "metadata": {}
  },
  {
   "cell_type": "code",
   "execution_count": 92,
   "source": [
    "def plotBar(df, title, w=10, h=10, logy=False):\n",
    "    plt.figure(figsize=(w, h), dpi=80)\n",
    "    ax = df.plot.bar(logy=logy) \n",
    "    # Annotate\n",
    "    for p in ax.patches:\n",
    "        ax.annotate(format(p.get_height(), '.0f'), \n",
    "                    (p.get_x() + p.get_width() / 2., p.get_height()), \n",
    "                    ha = 'center', va = 'center', \n",
    "                    xytext = (0, 9), \n",
    "                    textcoords = 'offset points')\n",
    "    ax.set_title(title)\n",
    "    plt.show()\n",
    "\n",
    "def annotate(ax):\n",
    "    for p in ax.patches:\n",
    "        ax.annotate(format(p.get_height(), '.0f'), \n",
    "                    (p.get_x() + p.get_width() / 2., p.get_height()), \n",
    "                    ha = 'center', va = 'center', \n",
    "                    xytext = (0, 9), \n",
    "                    textcoords = 'offset points')\n",
    "\n",
    "def plotScatter(df, col1, col2, title, pos=1, log=False):\n",
    "    plt.subplot(1, 2, pos)\n",
    "    ax = df.plot.scatter(col1, col2,figsize=(10, 6))\n",
    "    if log == True: ax.set_xscale('log')\n",
    "    ax.set_title(title)\n",
    "    plt.show()\n",
    "\n",
    "# TODO: annotation - add %\n",
    "def compare(df, col, title, labels=[], figsize=(10, 6)):\n",
    "    df_ = groupPerTarget(df, col)\n",
    "\n",
    "    plt.figure(dpi=80) #figsize=(20, 6),dpi=80\n",
    "    plt.subplot(1, 2, 1)\n",
    "\n",
    "    ax = df_[['Target=0','Target=1']].plot.bar(ax=plt.gca(), logy=True, figsize=figsize, rot=90)\n",
    "    annotate(ax)\n",
    "    if labels: ax.set_xticklabels(labels=labels, rotation=45)\n",
    "    ax.set_title(f\"{title} Vs Target - Absolute values\")\n",
    "\n",
    "    plt.subplot(1, 2, 2)\n",
    "    ax = df_[['Target=0%','Target=1%']].plot.bar(ax=plt.gca(), logy=True, figsize=figsize)\n",
    "    annotate(ax)\n",
    "    if labels: ax.set_xticklabels(labels=labels, rotation=45)\n",
    "    ax.set_title(f\"{title} Vs Target - %age values\")"
   ],
   "outputs": [],
   "metadata": {}
  },
  {
   "cell_type": "markdown",
   "source": [
    "## Data Exploration - Previous Application"
   ],
   "metadata": {}
  },
  {
   "cell_type": "markdown",
   "source": [
    "### Data Reading & Data Types "
   ],
   "metadata": {}
  },
  {
   "cell_type": "code",
   "execution_count": 5,
   "source": [
    "#Read the data in pandas\n",
    "df_pa = pd.read_csv(\"data/previous_application.csv\")"
   ],
   "outputs": [],
   "metadata": {}
  },
  {
   "cell_type": "code",
   "execution_count": 6,
   "source": [
    "df_pa.info()"
   ],
   "outputs": [
    {
     "output_type": "stream",
     "name": "stdout",
     "text": [
      "<class 'pandas.core.frame.DataFrame'>\n",
      "RangeIndex: 1670214 entries, 0 to 1670213\n",
      "Data columns (total 37 columns):\n",
      " #   Column                       Non-Null Count    Dtype  \n",
      "---  ------                       --------------    -----  \n",
      " 0   SK_ID_PREV                   1670214 non-null  int64  \n",
      " 1   SK_ID_CURR                   1670214 non-null  int64  \n",
      " 2   NAME_CONTRACT_TYPE           1670214 non-null  object \n",
      " 3   AMT_ANNUITY                  1297979 non-null  float64\n",
      " 4   AMT_APPLICATION              1670214 non-null  float64\n",
      " 5   AMT_CREDIT                   1670213 non-null  float64\n",
      " 6   AMT_DOWN_PAYMENT             774370 non-null   float64\n",
      " 7   AMT_GOODS_PRICE              1284699 non-null  float64\n",
      " 8   WEEKDAY_APPR_PROCESS_START   1670214 non-null  object \n",
      " 9   HOUR_APPR_PROCESS_START      1670214 non-null  int64  \n",
      " 10  FLAG_LAST_APPL_PER_CONTRACT  1670214 non-null  object \n",
      " 11  NFLAG_LAST_APPL_IN_DAY       1670214 non-null  int64  \n",
      " 12  RATE_DOWN_PAYMENT            774370 non-null   float64\n",
      " 13  RATE_INTEREST_PRIMARY        5951 non-null     float64\n",
      " 14  RATE_INTEREST_PRIVILEGED     5951 non-null     float64\n",
      " 15  NAME_CASH_LOAN_PURPOSE       1670214 non-null  object \n",
      " 16  NAME_CONTRACT_STATUS         1670214 non-null  object \n",
      " 17  DAYS_DECISION                1670214 non-null  int64  \n",
      " 18  NAME_PAYMENT_TYPE            1670214 non-null  object \n",
      " 19  CODE_REJECT_REASON           1670214 non-null  object \n",
      " 20  NAME_TYPE_SUITE              849809 non-null   object \n",
      " 21  NAME_CLIENT_TYPE             1670214 non-null  object \n",
      " 22  NAME_GOODS_CATEGORY          1670214 non-null  object \n",
      " 23  NAME_PORTFOLIO               1670214 non-null  object \n",
      " 24  NAME_PRODUCT_TYPE            1670214 non-null  object \n",
      " 25  CHANNEL_TYPE                 1670214 non-null  object \n",
      " 26  SELLERPLACE_AREA             1670214 non-null  int64  \n",
      " 27  NAME_SELLER_INDUSTRY         1670214 non-null  object \n",
      " 28  CNT_PAYMENT                  1297984 non-null  float64\n",
      " 29  NAME_YIELD_GROUP             1670214 non-null  object \n",
      " 30  PRODUCT_COMBINATION          1669868 non-null  object \n",
      " 31  DAYS_FIRST_DRAWING           997149 non-null   float64\n",
      " 32  DAYS_FIRST_DUE               997149 non-null   float64\n",
      " 33  DAYS_LAST_DUE_1ST_VERSION    997149 non-null   float64\n",
      " 34  DAYS_LAST_DUE                997149 non-null   float64\n",
      " 35  DAYS_TERMINATION             997149 non-null   float64\n",
      " 36  NFLAG_INSURED_ON_APPROVAL    997149 non-null   float64\n",
      "dtypes: float64(15), int64(6), object(16)\n",
      "memory usage: 471.5+ MB\n"
     ]
    }
   ],
   "metadata": {}
  },
  {
   "cell_type": "code",
   "execution_count": 7,
   "source": [
    "PA_COLUMNS = df_pa.columns.tolist()\n",
    "PA_ID_COLUMNS = ['SK_ID_PREV','SK_ID_CURR']\n",
    "PA_NCAT_COLUMNS = ['NFLAG_INSURED_ON_APPROVAL', 'NFLAG_LAST_APPL_IN_DAY', 'SELLERPLACE_AREA', 'HOUR_APPR_PROCESS_START']\n",
    "print(len(max(PA_COLUMNS)))\n",
    "getNumCategoricalValues(df_pa, PA_NCAT_COLUMNS)"
   ],
   "outputs": [
    {
     "output_type": "stream",
     "name": "stdout",
     "text": [
      "26\n",
      "Columns with categorical values 4\n",
      "HOUR_APPR_PROCESS_START    : [  24] --> [0, 1, 2, 3, 4, 5, 6, 7, 8, 9, 10, 11, 12, 13, 14, 15, 16, 17, 18, 19, 20, 21, 22, 23]\n",
      "NFLAG_INSURED_ON_APPROVAL  : [   3] --> [0.0, 1.0, nan]\n",
      "NFLAG_LAST_APPL_IN_DAY     : [   2] --> [0, 1]\n",
      "SELLERPLACE_AREA           : [2097] --> [-1, 6, 20, 35, 50, 61, 83, 130, 136, 200]...[887, 1164, 1419, 1948, 2054, 2164, 2233, 2420, 3420, 6989]\n"
     ]
    }
   ],
   "metadata": {}
  },
  {
   "cell_type": "code",
   "execution_count": 8,
   "source": [
    "getCategoricalValues(df_pa)"
   ],
   "outputs": [
    {
     "output_type": "stream",
     "name": "stdout",
     "text": [
      "Columns with categorical values 16 --> ['CHANNEL_TYPE', 'CODE_REJECT_REASON', 'FLAG_LAST_APPL_PER_CONTRACT', 'NAME_CASH_LOAN_PURPOSE', 'NAME_CLIENT_TYPE', 'NAME_CONTRACT_STATUS', 'NAME_CONTRACT_TYPE', 'NAME_GOODS_CATEGORY', 'NAME_PAYMENT_TYPE', 'NAME_PORTFOLIO', 'NAME_PRODUCT_TYPE', 'NAME_SELLER_INDUSTRY', 'NAME_TYPE_SUITE', 'NAME_YIELD_GROUP', 'PRODUCT_COMBINATION', 'WEEKDAY_APPR_PROCESS_START']\n",
      "CHANNEL_TYPE                : [ 8] --> ['AP+ (Cash loan)', 'Car dealer', 'Channel of corporate sales', 'Contact center', 'Country-wide', 'Credit and cash offices', 'Regional / Local', 'Stone']\n",
      "CODE_REJECT_REASON          : [ 9] --> ['CLIENT', 'HC', 'LIMIT', 'SCO', 'SCOFR', 'SYSTEM', 'VERIF', 'XAP', 'XNA']\n",
      "FLAG_LAST_APPL_PER_CONTRACT : [ 2] --> ['N', 'Y']\n",
      "NAME_CASH_LOAN_PURPOSE      : [25] --> ['Building a house or an annex', 'Business development', 'Buying a garage', 'Buying a holiday home / land', 'Buying a home', 'Buying a new car', 'Buying a used car', 'Car repairs', 'Education', 'Everyday expenses', 'Furniture', 'Gasification / water supply', 'Hobby', 'Journey', 'Medicine', 'Money for a third person', 'Other', 'Payments on other loans', 'Purchase of electronic equipment', 'Refusal to name the goal', 'Repairs', 'Urgent needs', 'Wedding / gift / holiday', 'XAP', 'XNA']\n",
      "NAME_CLIENT_TYPE            : [ 4] --> ['New', 'Refreshed', 'Repeater', 'XNA']\n",
      "NAME_CONTRACT_STATUS        : [ 4] --> ['Approved', 'Canceled', 'Refused', 'Unused offer']\n",
      "NAME_CONTRACT_TYPE          : [ 4] --> ['Cash loans', 'Consumer loans', 'Revolving loans', 'XNA']\n",
      "NAME_GOODS_CATEGORY         : [28] --> ['Additional Service', 'Animals', 'Audio/Video', 'Auto Accessories', 'Clothing and Accessories', 'Computers', 'Construction Materials', 'Consumer Electronics', 'Direct Sales', 'Education', 'Fitness', 'Furniture', 'Gardening', 'Homewares', 'House Construction', 'Insurance', 'Jewelry', 'Medical Supplies', 'Medicine', 'Mobile', 'Office Appliances', 'Other', 'Photo / Cinema Equipment', 'Sport and Leisure', 'Tourism', 'Vehicles', 'Weapon', 'XNA']\n",
      "NAME_PAYMENT_TYPE           : [ 4] --> ['Cash through the bank', 'Cashless from the account of the employer', 'Non-cash from your account', 'XNA']\n",
      "NAME_PORTFOLIO              : [ 5] --> ['Cards', 'Cars', 'Cash', 'POS', 'XNA']\n",
      "NAME_PRODUCT_TYPE           : [ 3] --> ['XNA', 'walk-in', 'x-sell']\n",
      "NAME_SELLER_INDUSTRY        : [11] --> ['Auto technology', 'Clothing', 'Connectivity', 'Construction', 'Consumer electronics', 'Furniture', 'Industry', 'Jewelry', 'MLM partners', 'Tourism', 'XNA']\n",
      "NAME_TYPE_SUITE             : [ 8] --> [nan, 'Unaccompanied', 'Spouse, partner', 'Family', 'Children', 'Other_B', 'Other_A', 'Group of people']\n",
      "NAME_YIELD_GROUP            : [ 5] --> ['XNA', 'high', 'low_action', 'low_normal', 'middle']\n",
      "PRODUCT_COMBINATION         : [18] --> ['POS mobile with interest', 'Cash X-Sell: low', 'Cash X-Sell: high', 'Cash X-Sell: middle', 'Cash Street: high', 'Cash', 'POS household without interest', 'POS household with interest', 'POS other with interest', 'Card X-Sell', 'POS mobile without interest', 'Card Street', 'POS industry with interest', 'Cash Street: low', 'POS industry without interest', 'Cash Street: middle', 'POS others without interest', nan]\n",
      "WEEKDAY_APPR_PROCESS_START  : [ 7] --> ['FRIDAY', 'MONDAY', 'SATURDAY', 'SUNDAY', 'THURSDAY', 'TUESDAY', 'WEDNESDAY']\n"
     ]
    }
   ],
   "metadata": {}
  },
  {
   "cell_type": "code",
   "execution_count": 9,
   "source": [
    "df_pa[df_pa.columns.difference(PA_ID_COLUMNS + PA_NCAT_COLUMNS)].describe()"
   ],
   "outputs": [
    {
     "output_type": "execute_result",
     "data": {
      "text/plain": [
       "        AMT_ANNUITY  AMT_APPLICATION    AMT_CREDIT  AMT_DOWN_PAYMENT  \\\n",
       "count  1.297979e+06     1.670214e+06  1.670213e+06      7.743700e+05   \n",
       "mean   1.595512e+04     1.752339e+05  1.961140e+05      6.697402e+03   \n",
       "std    1.478214e+04     2.927798e+05  3.185746e+05      2.092150e+04   \n",
       "min    0.000000e+00     0.000000e+00  0.000000e+00     -9.000000e-01   \n",
       "25%    6.321780e+03     1.872000e+04  2.416050e+04      0.000000e+00   \n",
       "50%    1.125000e+04     7.104600e+04  8.054100e+04      1.638000e+03   \n",
       "75%    2.065842e+04     1.803600e+05  2.164185e+05      7.740000e+03   \n",
       "max    4.180581e+05     6.905160e+06  6.905160e+06      3.060045e+06   \n",
       "\n",
       "       AMT_GOODS_PRICE   CNT_PAYMENT  DAYS_DECISION  DAYS_FIRST_DRAWING  \\\n",
       "count     1.284699e+06  1.297984e+06   1.670214e+06       997149.000000   \n",
       "mean      2.278473e+05  1.605408e+01  -8.806797e+02       342209.855039   \n",
       "std       3.153966e+05  1.456729e+01   7.790997e+02        88916.115833   \n",
       "min       0.000000e+00  0.000000e+00  -2.922000e+03        -2922.000000   \n",
       "25%       5.084100e+04  6.000000e+00  -1.300000e+03       365243.000000   \n",
       "50%       1.123200e+05  1.200000e+01  -5.810000e+02       365243.000000   \n",
       "75%       2.340000e+05  2.400000e+01  -2.800000e+02       365243.000000   \n",
       "max       6.905160e+06  8.400000e+01  -1.000000e+00       365243.000000   \n",
       "\n",
       "       DAYS_FIRST_DUE  DAYS_LAST_DUE  DAYS_LAST_DUE_1ST_VERSION  \\\n",
       "count   997149.000000  997149.000000              997149.000000   \n",
       "mean     13826.269337   76582.403064               33767.774054   \n",
       "std      72444.869708  149647.415123              106857.034789   \n",
       "min      -2892.000000   -2889.000000               -2801.000000   \n",
       "25%      -1628.000000   -1314.000000               -1242.000000   \n",
       "50%       -831.000000    -537.000000                -361.000000   \n",
       "75%       -411.000000     -74.000000                 129.000000   \n",
       "max     365243.000000  365243.000000              365243.000000   \n",
       "\n",
       "       DAYS_TERMINATION  RATE_DOWN_PAYMENT  RATE_INTEREST_PRIMARY  \\\n",
       "count     997149.000000      774370.000000            5951.000000   \n",
       "mean       81992.343838           0.079637               0.188357   \n",
       "std       153303.516729           0.107823               0.087671   \n",
       "min        -2874.000000          -0.000015               0.034781   \n",
       "25%        -1270.000000           0.000000               0.160716   \n",
       "50%         -499.000000           0.051605               0.189122   \n",
       "75%          -44.000000           0.108909               0.193330   \n",
       "max       365243.000000           1.000000               1.000000   \n",
       "\n",
       "       RATE_INTEREST_PRIVILEGED  \n",
       "count               5951.000000  \n",
       "mean                   0.773503  \n",
       "std                    0.100879  \n",
       "min                    0.373150  \n",
       "25%                    0.715645  \n",
       "50%                    0.835095  \n",
       "75%                    0.852537  \n",
       "max                    1.000000  "
      ],
      "text/html": [
       "<div>\n",
       "<style scoped>\n",
       "    .dataframe tbody tr th:only-of-type {\n",
       "        vertical-align: middle;\n",
       "    }\n",
       "\n",
       "    .dataframe tbody tr th {\n",
       "        vertical-align: top;\n",
       "    }\n",
       "\n",
       "    .dataframe thead th {\n",
       "        text-align: right;\n",
       "    }\n",
       "</style>\n",
       "<table border=\"1\" class=\"dataframe\">\n",
       "  <thead>\n",
       "    <tr style=\"text-align: right;\">\n",
       "      <th></th>\n",
       "      <th>AMT_ANNUITY</th>\n",
       "      <th>AMT_APPLICATION</th>\n",
       "      <th>AMT_CREDIT</th>\n",
       "      <th>AMT_DOWN_PAYMENT</th>\n",
       "      <th>AMT_GOODS_PRICE</th>\n",
       "      <th>CNT_PAYMENT</th>\n",
       "      <th>DAYS_DECISION</th>\n",
       "      <th>DAYS_FIRST_DRAWING</th>\n",
       "      <th>DAYS_FIRST_DUE</th>\n",
       "      <th>DAYS_LAST_DUE</th>\n",
       "      <th>DAYS_LAST_DUE_1ST_VERSION</th>\n",
       "      <th>DAYS_TERMINATION</th>\n",
       "      <th>RATE_DOWN_PAYMENT</th>\n",
       "      <th>RATE_INTEREST_PRIMARY</th>\n",
       "      <th>RATE_INTEREST_PRIVILEGED</th>\n",
       "    </tr>\n",
       "  </thead>\n",
       "  <tbody>\n",
       "    <tr>\n",
       "      <th>count</th>\n",
       "      <td>1.297979e+06</td>\n",
       "      <td>1.670214e+06</td>\n",
       "      <td>1.670213e+06</td>\n",
       "      <td>7.743700e+05</td>\n",
       "      <td>1.284699e+06</td>\n",
       "      <td>1.297984e+06</td>\n",
       "      <td>1.670214e+06</td>\n",
       "      <td>997149.000000</td>\n",
       "      <td>997149.000000</td>\n",
       "      <td>997149.000000</td>\n",
       "      <td>997149.000000</td>\n",
       "      <td>997149.000000</td>\n",
       "      <td>774370.000000</td>\n",
       "      <td>5951.000000</td>\n",
       "      <td>5951.000000</td>\n",
       "    </tr>\n",
       "    <tr>\n",
       "      <th>mean</th>\n",
       "      <td>1.595512e+04</td>\n",
       "      <td>1.752339e+05</td>\n",
       "      <td>1.961140e+05</td>\n",
       "      <td>6.697402e+03</td>\n",
       "      <td>2.278473e+05</td>\n",
       "      <td>1.605408e+01</td>\n",
       "      <td>-8.806797e+02</td>\n",
       "      <td>342209.855039</td>\n",
       "      <td>13826.269337</td>\n",
       "      <td>76582.403064</td>\n",
       "      <td>33767.774054</td>\n",
       "      <td>81992.343838</td>\n",
       "      <td>0.079637</td>\n",
       "      <td>0.188357</td>\n",
       "      <td>0.773503</td>\n",
       "    </tr>\n",
       "    <tr>\n",
       "      <th>std</th>\n",
       "      <td>1.478214e+04</td>\n",
       "      <td>2.927798e+05</td>\n",
       "      <td>3.185746e+05</td>\n",
       "      <td>2.092150e+04</td>\n",
       "      <td>3.153966e+05</td>\n",
       "      <td>1.456729e+01</td>\n",
       "      <td>7.790997e+02</td>\n",
       "      <td>88916.115833</td>\n",
       "      <td>72444.869708</td>\n",
       "      <td>149647.415123</td>\n",
       "      <td>106857.034789</td>\n",
       "      <td>153303.516729</td>\n",
       "      <td>0.107823</td>\n",
       "      <td>0.087671</td>\n",
       "      <td>0.100879</td>\n",
       "    </tr>\n",
       "    <tr>\n",
       "      <th>min</th>\n",
       "      <td>0.000000e+00</td>\n",
       "      <td>0.000000e+00</td>\n",
       "      <td>0.000000e+00</td>\n",
       "      <td>-9.000000e-01</td>\n",
       "      <td>0.000000e+00</td>\n",
       "      <td>0.000000e+00</td>\n",
       "      <td>-2.922000e+03</td>\n",
       "      <td>-2922.000000</td>\n",
       "      <td>-2892.000000</td>\n",
       "      <td>-2889.000000</td>\n",
       "      <td>-2801.000000</td>\n",
       "      <td>-2874.000000</td>\n",
       "      <td>-0.000015</td>\n",
       "      <td>0.034781</td>\n",
       "      <td>0.373150</td>\n",
       "    </tr>\n",
       "    <tr>\n",
       "      <th>25%</th>\n",
       "      <td>6.321780e+03</td>\n",
       "      <td>1.872000e+04</td>\n",
       "      <td>2.416050e+04</td>\n",
       "      <td>0.000000e+00</td>\n",
       "      <td>5.084100e+04</td>\n",
       "      <td>6.000000e+00</td>\n",
       "      <td>-1.300000e+03</td>\n",
       "      <td>365243.000000</td>\n",
       "      <td>-1628.000000</td>\n",
       "      <td>-1314.000000</td>\n",
       "      <td>-1242.000000</td>\n",
       "      <td>-1270.000000</td>\n",
       "      <td>0.000000</td>\n",
       "      <td>0.160716</td>\n",
       "      <td>0.715645</td>\n",
       "    </tr>\n",
       "    <tr>\n",
       "      <th>50%</th>\n",
       "      <td>1.125000e+04</td>\n",
       "      <td>7.104600e+04</td>\n",
       "      <td>8.054100e+04</td>\n",
       "      <td>1.638000e+03</td>\n",
       "      <td>1.123200e+05</td>\n",
       "      <td>1.200000e+01</td>\n",
       "      <td>-5.810000e+02</td>\n",
       "      <td>365243.000000</td>\n",
       "      <td>-831.000000</td>\n",
       "      <td>-537.000000</td>\n",
       "      <td>-361.000000</td>\n",
       "      <td>-499.000000</td>\n",
       "      <td>0.051605</td>\n",
       "      <td>0.189122</td>\n",
       "      <td>0.835095</td>\n",
       "    </tr>\n",
       "    <tr>\n",
       "      <th>75%</th>\n",
       "      <td>2.065842e+04</td>\n",
       "      <td>1.803600e+05</td>\n",
       "      <td>2.164185e+05</td>\n",
       "      <td>7.740000e+03</td>\n",
       "      <td>2.340000e+05</td>\n",
       "      <td>2.400000e+01</td>\n",
       "      <td>-2.800000e+02</td>\n",
       "      <td>365243.000000</td>\n",
       "      <td>-411.000000</td>\n",
       "      <td>-74.000000</td>\n",
       "      <td>129.000000</td>\n",
       "      <td>-44.000000</td>\n",
       "      <td>0.108909</td>\n",
       "      <td>0.193330</td>\n",
       "      <td>0.852537</td>\n",
       "    </tr>\n",
       "    <tr>\n",
       "      <th>max</th>\n",
       "      <td>4.180581e+05</td>\n",
       "      <td>6.905160e+06</td>\n",
       "      <td>6.905160e+06</td>\n",
       "      <td>3.060045e+06</td>\n",
       "      <td>6.905160e+06</td>\n",
       "      <td>8.400000e+01</td>\n",
       "      <td>-1.000000e+00</td>\n",
       "      <td>365243.000000</td>\n",
       "      <td>365243.000000</td>\n",
       "      <td>365243.000000</td>\n",
       "      <td>365243.000000</td>\n",
       "      <td>365243.000000</td>\n",
       "      <td>1.000000</td>\n",
       "      <td>1.000000</td>\n",
       "      <td>1.000000</td>\n",
       "    </tr>\n",
       "  </tbody>\n",
       "</table>\n",
       "</div>"
      ]
     },
     "metadata": {},
     "execution_count": 9
    }
   ],
   "metadata": {}
  },
  {
   "cell_type": "code",
   "execution_count": 10,
   "source": [
    "df_pa.loc[df_pa['NAME_PRODUCT_TYPE']!='x-sell'][['NAME_PRODUCT_TYPE','NAME_SELLER_INDUSTRY']]"
   ],
   "outputs": [
    {
     "output_type": "execute_result",
     "data": {
      "text/plain": [
       "        NAME_PRODUCT_TYPE  NAME_SELLER_INDUSTRY\n",
       "0                     XNA          Connectivity\n",
       "4                 walk-in                   XNA\n",
       "6                     XNA                   XNA\n",
       "7                     XNA                   XNA\n",
       "8                     XNA                   XNA\n",
       "...                   ...                   ...\n",
       "1670206           walk-in                   XNA\n",
       "1670207           walk-in                   XNA\n",
       "1670209               XNA             Furniture\n",
       "1670210               XNA             Furniture\n",
       "1670211               XNA  Consumer electronics\n",
       "\n",
       "[1213927 rows x 2 columns]"
      ],
      "text/html": [
       "<div>\n",
       "<style scoped>\n",
       "    .dataframe tbody tr th:only-of-type {\n",
       "        vertical-align: middle;\n",
       "    }\n",
       "\n",
       "    .dataframe tbody tr th {\n",
       "        vertical-align: top;\n",
       "    }\n",
       "\n",
       "    .dataframe thead th {\n",
       "        text-align: right;\n",
       "    }\n",
       "</style>\n",
       "<table border=\"1\" class=\"dataframe\">\n",
       "  <thead>\n",
       "    <tr style=\"text-align: right;\">\n",
       "      <th></th>\n",
       "      <th>NAME_PRODUCT_TYPE</th>\n",
       "      <th>NAME_SELLER_INDUSTRY</th>\n",
       "    </tr>\n",
       "  </thead>\n",
       "  <tbody>\n",
       "    <tr>\n",
       "      <th>0</th>\n",
       "      <td>XNA</td>\n",
       "      <td>Connectivity</td>\n",
       "    </tr>\n",
       "    <tr>\n",
       "      <th>4</th>\n",
       "      <td>walk-in</td>\n",
       "      <td>XNA</td>\n",
       "    </tr>\n",
       "    <tr>\n",
       "      <th>6</th>\n",
       "      <td>XNA</td>\n",
       "      <td>XNA</td>\n",
       "    </tr>\n",
       "    <tr>\n",
       "      <th>7</th>\n",
       "      <td>XNA</td>\n",
       "      <td>XNA</td>\n",
       "    </tr>\n",
       "    <tr>\n",
       "      <th>8</th>\n",
       "      <td>XNA</td>\n",
       "      <td>XNA</td>\n",
       "    </tr>\n",
       "    <tr>\n",
       "      <th>...</th>\n",
       "      <td>...</td>\n",
       "      <td>...</td>\n",
       "    </tr>\n",
       "    <tr>\n",
       "      <th>1670206</th>\n",
       "      <td>walk-in</td>\n",
       "      <td>XNA</td>\n",
       "    </tr>\n",
       "    <tr>\n",
       "      <th>1670207</th>\n",
       "      <td>walk-in</td>\n",
       "      <td>XNA</td>\n",
       "    </tr>\n",
       "    <tr>\n",
       "      <th>1670209</th>\n",
       "      <td>XNA</td>\n",
       "      <td>Furniture</td>\n",
       "    </tr>\n",
       "    <tr>\n",
       "      <th>1670210</th>\n",
       "      <td>XNA</td>\n",
       "      <td>Furniture</td>\n",
       "    </tr>\n",
       "    <tr>\n",
       "      <th>1670211</th>\n",
       "      <td>XNA</td>\n",
       "      <td>Consumer electronics</td>\n",
       "    </tr>\n",
       "  </tbody>\n",
       "</table>\n",
       "<p>1213927 rows × 2 columns</p>\n",
       "</div>"
      ]
     },
     "metadata": {},
     "execution_count": 10
    }
   ],
   "metadata": {}
  },
  {
   "cell_type": "code",
   "execution_count": 11,
   "source": [
    "df_pa[['NAME_PORTFOLIO', 'NAME_PRODUCT_TYPE','RATE_DOWN_PAYMENT', 'RATE_INTEREST_PRIMARY', 'RATE_INTEREST_PRIVILEGED', 'NAME_YIELD_GROUP', 'PRODUCT_COMBINATION']]"
   ],
   "outputs": [
    {
     "output_type": "execute_result",
     "data": {
      "text/plain": [
       "        NAME_PORTFOLIO NAME_PRODUCT_TYPE  RATE_DOWN_PAYMENT  \\\n",
       "0                  POS               XNA           0.000000   \n",
       "1                 Cash            x-sell                NaN   \n",
       "2                 Cash            x-sell                NaN   \n",
       "3                 Cash            x-sell                NaN   \n",
       "4                 Cash           walk-in                NaN   \n",
       "...                ...               ...                ...   \n",
       "1670209            POS               XNA           0.000000   \n",
       "1670210            POS               XNA           0.340554   \n",
       "1670211            POS               XNA           0.101401   \n",
       "1670212           Cash            x-sell                NaN   \n",
       "1670213           Cash            x-sell                NaN   \n",
       "\n",
       "         RATE_INTEREST_PRIMARY  RATE_INTEREST_PRIVILEGED NAME_YIELD_GROUP  \\\n",
       "0                     0.182832                  0.867336           middle   \n",
       "1                          NaN                       NaN       low_action   \n",
       "2                          NaN                       NaN             high   \n",
       "3                          NaN                       NaN           middle   \n",
       "4                          NaN                       NaN             high   \n",
       "...                        ...                       ...              ...   \n",
       "1670209                    NaN                       NaN       low_normal   \n",
       "1670210                    NaN                       NaN           middle   \n",
       "1670211                    NaN                       NaN       low_normal   \n",
       "1670212                    NaN                       NaN       low_normal   \n",
       "1670213                    NaN                       NaN           middle   \n",
       "\n",
       "                 PRODUCT_COMBINATION  \n",
       "0           POS mobile with interest  \n",
       "1                   Cash X-Sell: low  \n",
       "2                  Cash X-Sell: high  \n",
       "3                Cash X-Sell: middle  \n",
       "4                  Cash Street: high  \n",
       "...                              ...  \n",
       "1670209   POS industry with interest  \n",
       "1670210   POS industry with interest  \n",
       "1670211  POS household with interest  \n",
       "1670212             Cash X-Sell: low  \n",
       "1670213          Cash X-Sell: middle  \n",
       "\n",
       "[1670214 rows x 7 columns]"
      ],
      "text/html": [
       "<div>\n",
       "<style scoped>\n",
       "    .dataframe tbody tr th:only-of-type {\n",
       "        vertical-align: middle;\n",
       "    }\n",
       "\n",
       "    .dataframe tbody tr th {\n",
       "        vertical-align: top;\n",
       "    }\n",
       "\n",
       "    .dataframe thead th {\n",
       "        text-align: right;\n",
       "    }\n",
       "</style>\n",
       "<table border=\"1\" class=\"dataframe\">\n",
       "  <thead>\n",
       "    <tr style=\"text-align: right;\">\n",
       "      <th></th>\n",
       "      <th>NAME_PORTFOLIO</th>\n",
       "      <th>NAME_PRODUCT_TYPE</th>\n",
       "      <th>RATE_DOWN_PAYMENT</th>\n",
       "      <th>RATE_INTEREST_PRIMARY</th>\n",
       "      <th>RATE_INTEREST_PRIVILEGED</th>\n",
       "      <th>NAME_YIELD_GROUP</th>\n",
       "      <th>PRODUCT_COMBINATION</th>\n",
       "    </tr>\n",
       "  </thead>\n",
       "  <tbody>\n",
       "    <tr>\n",
       "      <th>0</th>\n",
       "      <td>POS</td>\n",
       "      <td>XNA</td>\n",
       "      <td>0.000000</td>\n",
       "      <td>0.182832</td>\n",
       "      <td>0.867336</td>\n",
       "      <td>middle</td>\n",
       "      <td>POS mobile with interest</td>\n",
       "    </tr>\n",
       "    <tr>\n",
       "      <th>1</th>\n",
       "      <td>Cash</td>\n",
       "      <td>x-sell</td>\n",
       "      <td>NaN</td>\n",
       "      <td>NaN</td>\n",
       "      <td>NaN</td>\n",
       "      <td>low_action</td>\n",
       "      <td>Cash X-Sell: low</td>\n",
       "    </tr>\n",
       "    <tr>\n",
       "      <th>2</th>\n",
       "      <td>Cash</td>\n",
       "      <td>x-sell</td>\n",
       "      <td>NaN</td>\n",
       "      <td>NaN</td>\n",
       "      <td>NaN</td>\n",
       "      <td>high</td>\n",
       "      <td>Cash X-Sell: high</td>\n",
       "    </tr>\n",
       "    <tr>\n",
       "      <th>3</th>\n",
       "      <td>Cash</td>\n",
       "      <td>x-sell</td>\n",
       "      <td>NaN</td>\n",
       "      <td>NaN</td>\n",
       "      <td>NaN</td>\n",
       "      <td>middle</td>\n",
       "      <td>Cash X-Sell: middle</td>\n",
       "    </tr>\n",
       "    <tr>\n",
       "      <th>4</th>\n",
       "      <td>Cash</td>\n",
       "      <td>walk-in</td>\n",
       "      <td>NaN</td>\n",
       "      <td>NaN</td>\n",
       "      <td>NaN</td>\n",
       "      <td>high</td>\n",
       "      <td>Cash Street: high</td>\n",
       "    </tr>\n",
       "    <tr>\n",
       "      <th>...</th>\n",
       "      <td>...</td>\n",
       "      <td>...</td>\n",
       "      <td>...</td>\n",
       "      <td>...</td>\n",
       "      <td>...</td>\n",
       "      <td>...</td>\n",
       "      <td>...</td>\n",
       "    </tr>\n",
       "    <tr>\n",
       "      <th>1670209</th>\n",
       "      <td>POS</td>\n",
       "      <td>XNA</td>\n",
       "      <td>0.000000</td>\n",
       "      <td>NaN</td>\n",
       "      <td>NaN</td>\n",
       "      <td>low_normal</td>\n",
       "      <td>POS industry with interest</td>\n",
       "    </tr>\n",
       "    <tr>\n",
       "      <th>1670210</th>\n",
       "      <td>POS</td>\n",
       "      <td>XNA</td>\n",
       "      <td>0.340554</td>\n",
       "      <td>NaN</td>\n",
       "      <td>NaN</td>\n",
       "      <td>middle</td>\n",
       "      <td>POS industry with interest</td>\n",
       "    </tr>\n",
       "    <tr>\n",
       "      <th>1670211</th>\n",
       "      <td>POS</td>\n",
       "      <td>XNA</td>\n",
       "      <td>0.101401</td>\n",
       "      <td>NaN</td>\n",
       "      <td>NaN</td>\n",
       "      <td>low_normal</td>\n",
       "      <td>POS household with interest</td>\n",
       "    </tr>\n",
       "    <tr>\n",
       "      <th>1670212</th>\n",
       "      <td>Cash</td>\n",
       "      <td>x-sell</td>\n",
       "      <td>NaN</td>\n",
       "      <td>NaN</td>\n",
       "      <td>NaN</td>\n",
       "      <td>low_normal</td>\n",
       "      <td>Cash X-Sell: low</td>\n",
       "    </tr>\n",
       "    <tr>\n",
       "      <th>1670213</th>\n",
       "      <td>Cash</td>\n",
       "      <td>x-sell</td>\n",
       "      <td>NaN</td>\n",
       "      <td>NaN</td>\n",
       "      <td>NaN</td>\n",
       "      <td>middle</td>\n",
       "      <td>Cash X-Sell: middle</td>\n",
       "    </tr>\n",
       "  </tbody>\n",
       "</table>\n",
       "<p>1670214 rows × 7 columns</p>\n",
       "</div>"
      ]
     },
     "metadata": {},
     "execution_count": 11
    }
   ],
   "metadata": {}
  },
  {
   "cell_type": "markdown",
   "source": [
    "Check if there are multiple entries for each client in the previous application."
   ],
   "metadata": {}
  },
  {
   "cell_type": "code",
   "execution_count": 12,
   "source": [
    "groupByAndCount(df_pa, 'SK_ID_PREV')"
   ],
   "outputs": [
    {
     "output_type": "execute_result",
     "data": {
      "text/plain": [
       "         SK_ID_PREV  Count\n",
       "0           1000001      1\n",
       "1113473     2230564      1\n",
       "1113483     2230574      1\n",
       "1113482     2230573      1\n",
       "1113481     2230572      1\n",
       "...             ...    ...\n",
       "556734      1615728      1\n",
       "556733      1615727      1\n",
       "556732      1615726      1\n",
       "556731      1615725      1\n",
       "1670213     2845382      1\n",
       "\n",
       "[1670214 rows x 2 columns]"
      ],
      "text/html": [
       "<div>\n",
       "<style scoped>\n",
       "    .dataframe tbody tr th:only-of-type {\n",
       "        vertical-align: middle;\n",
       "    }\n",
       "\n",
       "    .dataframe tbody tr th {\n",
       "        vertical-align: top;\n",
       "    }\n",
       "\n",
       "    .dataframe thead th {\n",
       "        text-align: right;\n",
       "    }\n",
       "</style>\n",
       "<table border=\"1\" class=\"dataframe\">\n",
       "  <thead>\n",
       "    <tr style=\"text-align: right;\">\n",
       "      <th></th>\n",
       "      <th>SK_ID_PREV</th>\n",
       "      <th>Count</th>\n",
       "    </tr>\n",
       "  </thead>\n",
       "  <tbody>\n",
       "    <tr>\n",
       "      <th>0</th>\n",
       "      <td>1000001</td>\n",
       "      <td>1</td>\n",
       "    </tr>\n",
       "    <tr>\n",
       "      <th>1113473</th>\n",
       "      <td>2230564</td>\n",
       "      <td>1</td>\n",
       "    </tr>\n",
       "    <tr>\n",
       "      <th>1113483</th>\n",
       "      <td>2230574</td>\n",
       "      <td>1</td>\n",
       "    </tr>\n",
       "    <tr>\n",
       "      <th>1113482</th>\n",
       "      <td>2230573</td>\n",
       "      <td>1</td>\n",
       "    </tr>\n",
       "    <tr>\n",
       "      <th>1113481</th>\n",
       "      <td>2230572</td>\n",
       "      <td>1</td>\n",
       "    </tr>\n",
       "    <tr>\n",
       "      <th>...</th>\n",
       "      <td>...</td>\n",
       "      <td>...</td>\n",
       "    </tr>\n",
       "    <tr>\n",
       "      <th>556734</th>\n",
       "      <td>1615728</td>\n",
       "      <td>1</td>\n",
       "    </tr>\n",
       "    <tr>\n",
       "      <th>556733</th>\n",
       "      <td>1615727</td>\n",
       "      <td>1</td>\n",
       "    </tr>\n",
       "    <tr>\n",
       "      <th>556732</th>\n",
       "      <td>1615726</td>\n",
       "      <td>1</td>\n",
       "    </tr>\n",
       "    <tr>\n",
       "      <th>556731</th>\n",
       "      <td>1615725</td>\n",
       "      <td>1</td>\n",
       "    </tr>\n",
       "    <tr>\n",
       "      <th>1670213</th>\n",
       "      <td>2845382</td>\n",
       "      <td>1</td>\n",
       "    </tr>\n",
       "  </tbody>\n",
       "</table>\n",
       "<p>1670214 rows × 2 columns</p>\n",
       "</div>"
      ]
     },
     "metadata": {},
     "execution_count": 12
    }
   ],
   "metadata": {}
  },
  {
   "cell_type": "code",
   "execution_count": 13,
   "source": [
    "groupByAndCount(df_pa, 'SK_ID_CURR')\n"
   ],
   "outputs": [
    {
     "output_type": "execute_result",
     "data": {
      "text/plain": [
       "        SK_ID_CURR  Count\n",
       "83581       187868     77\n",
       "157523      265681     73\n",
       "70132       173680     72\n",
       "135448      242412     68\n",
       "101569      206783     67\n",
       "...            ...    ...\n",
       "200467      310872      1\n",
       "85950       190357      1\n",
       "85951       190358      1\n",
       "33175       134814      1\n",
       "0           100001      1\n",
       "\n",
       "[338857 rows x 2 columns]"
      ],
      "text/html": [
       "<div>\n",
       "<style scoped>\n",
       "    .dataframe tbody tr th:only-of-type {\n",
       "        vertical-align: middle;\n",
       "    }\n",
       "\n",
       "    .dataframe tbody tr th {\n",
       "        vertical-align: top;\n",
       "    }\n",
       "\n",
       "    .dataframe thead th {\n",
       "        text-align: right;\n",
       "    }\n",
       "</style>\n",
       "<table border=\"1\" class=\"dataframe\">\n",
       "  <thead>\n",
       "    <tr style=\"text-align: right;\">\n",
       "      <th></th>\n",
       "      <th>SK_ID_CURR</th>\n",
       "      <th>Count</th>\n",
       "    </tr>\n",
       "  </thead>\n",
       "  <tbody>\n",
       "    <tr>\n",
       "      <th>83581</th>\n",
       "      <td>187868</td>\n",
       "      <td>77</td>\n",
       "    </tr>\n",
       "    <tr>\n",
       "      <th>157523</th>\n",
       "      <td>265681</td>\n",
       "      <td>73</td>\n",
       "    </tr>\n",
       "    <tr>\n",
       "      <th>70132</th>\n",
       "      <td>173680</td>\n",
       "      <td>72</td>\n",
       "    </tr>\n",
       "    <tr>\n",
       "      <th>135448</th>\n",
       "      <td>242412</td>\n",
       "      <td>68</td>\n",
       "    </tr>\n",
       "    <tr>\n",
       "      <th>101569</th>\n",
       "      <td>206783</td>\n",
       "      <td>67</td>\n",
       "    </tr>\n",
       "    <tr>\n",
       "      <th>...</th>\n",
       "      <td>...</td>\n",
       "      <td>...</td>\n",
       "    </tr>\n",
       "    <tr>\n",
       "      <th>200467</th>\n",
       "      <td>310872</td>\n",
       "      <td>1</td>\n",
       "    </tr>\n",
       "    <tr>\n",
       "      <th>85950</th>\n",
       "      <td>190357</td>\n",
       "      <td>1</td>\n",
       "    </tr>\n",
       "    <tr>\n",
       "      <th>85951</th>\n",
       "      <td>190358</td>\n",
       "      <td>1</td>\n",
       "    </tr>\n",
       "    <tr>\n",
       "      <th>33175</th>\n",
       "      <td>134814</td>\n",
       "      <td>1</td>\n",
       "    </tr>\n",
       "    <tr>\n",
       "      <th>0</th>\n",
       "      <td>100001</td>\n",
       "      <td>1</td>\n",
       "    </tr>\n",
       "  </tbody>\n",
       "</table>\n",
       "<p>338857 rows × 2 columns</p>\n",
       "</div>"
      ]
     },
     "metadata": {},
     "execution_count": 13
    }
   ],
   "metadata": {}
  },
  {
   "cell_type": "markdown",
   "source": [
    "There is only one entry per client"
   ],
   "metadata": {}
  },
  {
   "cell_type": "markdown",
   "source": [
    "Do all clients in current application have an entry in the previous application?"
   ],
   "metadata": {}
  },
  {
   "cell_type": "code",
   "execution_count": 14,
   "source": [
    "groupByAndCount(df_pa, 'NAME_CONTRACT_STATUS', skipPercent=False)"
   ],
   "outputs": [
    {
     "output_type": "execute_result",
     "data": {
      "text/plain": [
       "  NAME_CONTRACT_STATUS    Count      %\n",
       "0             Approved  1036781  62.07\n",
       "1             Canceled   316319  18.94\n",
       "2              Refused   290678  17.40\n",
       "3         Unused offer    26436   1.58"
      ],
      "text/html": [
       "<div>\n",
       "<style scoped>\n",
       "    .dataframe tbody tr th:only-of-type {\n",
       "        vertical-align: middle;\n",
       "    }\n",
       "\n",
       "    .dataframe tbody tr th {\n",
       "        vertical-align: top;\n",
       "    }\n",
       "\n",
       "    .dataframe thead th {\n",
       "        text-align: right;\n",
       "    }\n",
       "</style>\n",
       "<table border=\"1\" class=\"dataframe\">\n",
       "  <thead>\n",
       "    <tr style=\"text-align: right;\">\n",
       "      <th></th>\n",
       "      <th>NAME_CONTRACT_STATUS</th>\n",
       "      <th>Count</th>\n",
       "      <th>%</th>\n",
       "    </tr>\n",
       "  </thead>\n",
       "  <tbody>\n",
       "    <tr>\n",
       "      <th>0</th>\n",
       "      <td>Approved</td>\n",
       "      <td>1036781</td>\n",
       "      <td>62.07</td>\n",
       "    </tr>\n",
       "    <tr>\n",
       "      <th>1</th>\n",
       "      <td>Canceled</td>\n",
       "      <td>316319</td>\n",
       "      <td>18.94</td>\n",
       "    </tr>\n",
       "    <tr>\n",
       "      <th>2</th>\n",
       "      <td>Refused</td>\n",
       "      <td>290678</td>\n",
       "      <td>17.40</td>\n",
       "    </tr>\n",
       "    <tr>\n",
       "      <th>3</th>\n",
       "      <td>Unused offer</td>\n",
       "      <td>26436</td>\n",
       "      <td>1.58</td>\n",
       "    </tr>\n",
       "  </tbody>\n",
       "</table>\n",
       "</div>"
      ]
     },
     "metadata": {},
     "execution_count": 14
    }
   ],
   "metadata": {}
  },
  {
   "cell_type": "code",
   "execution_count": 15,
   "source": [
    "groupByAndCount(df_pa, 'NAME_CONTRACT_TYPE', skipPercent=False)"
   ],
   "outputs": [
    {
     "output_type": "execute_result",
     "data": {
      "text/plain": [
       "  NAME_CONTRACT_TYPE   Count      %\n",
       "0         Cash loans  747553  44.76\n",
       "1     Consumer loans  729151  43.66\n",
       "2    Revolving loans  193164  11.57\n",
       "3                XNA     346   0.02"
      ],
      "text/html": [
       "<div>\n",
       "<style scoped>\n",
       "    .dataframe tbody tr th:only-of-type {\n",
       "        vertical-align: middle;\n",
       "    }\n",
       "\n",
       "    .dataframe tbody tr th {\n",
       "        vertical-align: top;\n",
       "    }\n",
       "\n",
       "    .dataframe thead th {\n",
       "        text-align: right;\n",
       "    }\n",
       "</style>\n",
       "<table border=\"1\" class=\"dataframe\">\n",
       "  <thead>\n",
       "    <tr style=\"text-align: right;\">\n",
       "      <th></th>\n",
       "      <th>NAME_CONTRACT_TYPE</th>\n",
       "      <th>Count</th>\n",
       "      <th>%</th>\n",
       "    </tr>\n",
       "  </thead>\n",
       "  <tbody>\n",
       "    <tr>\n",
       "      <th>0</th>\n",
       "      <td>Cash loans</td>\n",
       "      <td>747553</td>\n",
       "      <td>44.76</td>\n",
       "    </tr>\n",
       "    <tr>\n",
       "      <th>1</th>\n",
       "      <td>Consumer loans</td>\n",
       "      <td>729151</td>\n",
       "      <td>43.66</td>\n",
       "    </tr>\n",
       "    <tr>\n",
       "      <th>2</th>\n",
       "      <td>Revolving loans</td>\n",
       "      <td>193164</td>\n",
       "      <td>11.57</td>\n",
       "    </tr>\n",
       "    <tr>\n",
       "      <th>3</th>\n",
       "      <td>XNA</td>\n",
       "      <td>346</td>\n",
       "      <td>0.02</td>\n",
       "    </tr>\n",
       "  </tbody>\n",
       "</table>\n",
       "</div>"
      ]
     },
     "metadata": {},
     "execution_count": 15
    }
   ],
   "metadata": {}
  },
  {
   "cell_type": "code",
   "execution_count": 16,
   "source": [
    "groupByAndCount(df_pa, 'NAME_CLIENT_TYPE', skipPercent=False)"
   ],
   "outputs": [
    {
     "output_type": "execute_result",
     "data": {
      "text/plain": [
       "  NAME_CLIENT_TYPE    Count      %\n",
       "2         Repeater  1231261  73.72\n",
       "0              New   301363  18.04\n",
       "1        Refreshed   135649   8.12\n",
       "3              XNA     1941   0.12"
      ],
      "text/html": [
       "<div>\n",
       "<style scoped>\n",
       "    .dataframe tbody tr th:only-of-type {\n",
       "        vertical-align: middle;\n",
       "    }\n",
       "\n",
       "    .dataframe tbody tr th {\n",
       "        vertical-align: top;\n",
       "    }\n",
       "\n",
       "    .dataframe thead th {\n",
       "        text-align: right;\n",
       "    }\n",
       "</style>\n",
       "<table border=\"1\" class=\"dataframe\">\n",
       "  <thead>\n",
       "    <tr style=\"text-align: right;\">\n",
       "      <th></th>\n",
       "      <th>NAME_CLIENT_TYPE</th>\n",
       "      <th>Count</th>\n",
       "      <th>%</th>\n",
       "    </tr>\n",
       "  </thead>\n",
       "  <tbody>\n",
       "    <tr>\n",
       "      <th>2</th>\n",
       "      <td>Repeater</td>\n",
       "      <td>1231261</td>\n",
       "      <td>73.72</td>\n",
       "    </tr>\n",
       "    <tr>\n",
       "      <th>0</th>\n",
       "      <td>New</td>\n",
       "      <td>301363</td>\n",
       "      <td>18.04</td>\n",
       "    </tr>\n",
       "    <tr>\n",
       "      <th>1</th>\n",
       "      <td>Refreshed</td>\n",
       "      <td>135649</td>\n",
       "      <td>8.12</td>\n",
       "    </tr>\n",
       "    <tr>\n",
       "      <th>3</th>\n",
       "      <td>XNA</td>\n",
       "      <td>1941</td>\n",
       "      <td>0.12</td>\n",
       "    </tr>\n",
       "  </tbody>\n",
       "</table>\n",
       "</div>"
      ]
     },
     "metadata": {},
     "execution_count": 16
    }
   ],
   "metadata": {}
  },
  {
   "cell_type": "code",
   "execution_count": 17,
   "source": [
    "df_pa['NAME_CLIENT_TYPE'].value_counts()"
   ],
   "outputs": [
    {
     "output_type": "execute_result",
     "data": {
      "text/plain": [
       "Repeater     1231261\n",
       "New           301363\n",
       "Refreshed     135649\n",
       "XNA             1941\n",
       "Name: NAME_CLIENT_TYPE, dtype: int64"
      ]
     },
     "metadata": {},
     "execution_count": 17
    }
   ],
   "metadata": {}
  },
  {
   "cell_type": "code",
   "execution_count": 18,
   "source": [
    "groupByAndCount(df_pa, 'NAME_PORTFOLIO', skipPercent=False)"
   ],
   "outputs": [
    {
     "output_type": "execute_result",
     "data": {
      "text/plain": [
       "  NAME_PORTFOLIO   Count      %\n",
       "3            POS  691011  41.37\n",
       "2           Cash  461563  27.63\n",
       "4            XNA  372230  22.29\n",
       "0          Cards  144985   8.68\n",
       "1           Cars     425   0.03"
      ],
      "text/html": [
       "<div>\n",
       "<style scoped>\n",
       "    .dataframe tbody tr th:only-of-type {\n",
       "        vertical-align: middle;\n",
       "    }\n",
       "\n",
       "    .dataframe tbody tr th {\n",
       "        vertical-align: top;\n",
       "    }\n",
       "\n",
       "    .dataframe thead th {\n",
       "        text-align: right;\n",
       "    }\n",
       "</style>\n",
       "<table border=\"1\" class=\"dataframe\">\n",
       "  <thead>\n",
       "    <tr style=\"text-align: right;\">\n",
       "      <th></th>\n",
       "      <th>NAME_PORTFOLIO</th>\n",
       "      <th>Count</th>\n",
       "      <th>%</th>\n",
       "    </tr>\n",
       "  </thead>\n",
       "  <tbody>\n",
       "    <tr>\n",
       "      <th>3</th>\n",
       "      <td>POS</td>\n",
       "      <td>691011</td>\n",
       "      <td>41.37</td>\n",
       "    </tr>\n",
       "    <tr>\n",
       "      <th>2</th>\n",
       "      <td>Cash</td>\n",
       "      <td>461563</td>\n",
       "      <td>27.63</td>\n",
       "    </tr>\n",
       "    <tr>\n",
       "      <th>4</th>\n",
       "      <td>XNA</td>\n",
       "      <td>372230</td>\n",
       "      <td>22.29</td>\n",
       "    </tr>\n",
       "    <tr>\n",
       "      <th>0</th>\n",
       "      <td>Cards</td>\n",
       "      <td>144985</td>\n",
       "      <td>8.68</td>\n",
       "    </tr>\n",
       "    <tr>\n",
       "      <th>1</th>\n",
       "      <td>Cars</td>\n",
       "      <td>425</td>\n",
       "      <td>0.03</td>\n",
       "    </tr>\n",
       "  </tbody>\n",
       "</table>\n",
       "</div>"
      ]
     },
     "metadata": {},
     "execution_count": 18
    }
   ],
   "metadata": {}
  },
  {
   "cell_type": "code",
   "execution_count": 19,
   "source": [
    "groupByAndCount(df_pa, 'NAME_GOODS_CATEGORY', skipPercent=False)"
   ],
   "outputs": [
    {
     "output_type": "execute_result",
     "data": {
      "text/plain": [
       "         NAME_GOODS_CATEGORY   Count      %\n",
       "27                       XNA  950809  56.93\n",
       "19                    Mobile  224708  13.45\n",
       "7       Consumer Electronics  121576   7.28\n",
       "5                  Computers  105769   6.33\n",
       "2                Audio/Video   99441   5.95\n",
       "11                 Furniture   53656   3.21\n",
       "22  Photo / Cinema Equipment   25021   1.50\n",
       "6     Construction Materials   24995   1.50\n",
       "4   Clothing and Accessories   23554   1.41\n",
       "3           Auto Accessories    7381   0.44\n",
       "16                   Jewelry    6290   0.38\n",
       "13                 Homewares    5023   0.30\n",
       "17          Medical Supplies    3843   0.23\n",
       "25                  Vehicles    3370   0.20\n",
       "23         Sport and Leisure    2981   0.18\n",
       "12                 Gardening    2668   0.16\n",
       "21                     Other    2554   0.15\n",
       "20         Office Appliances    2333   0.14\n",
       "24                   Tourism    1659   0.10\n",
       "18                  Medicine    1550   0.09\n",
       "8               Direct Sales     446   0.03\n",
       "10                   Fitness     209   0.01\n",
       "0         Additional Service     128   0.01\n",
       "9                  Education     107   0.01\n",
       "26                    Weapon      77   0.00\n",
       "15                 Insurance      64   0.00\n",
       "1                    Animals       1   0.00\n",
       "14        House Construction       1   0.00"
      ],
      "text/html": [
       "<div>\n",
       "<style scoped>\n",
       "    .dataframe tbody tr th:only-of-type {\n",
       "        vertical-align: middle;\n",
       "    }\n",
       "\n",
       "    .dataframe tbody tr th {\n",
       "        vertical-align: top;\n",
       "    }\n",
       "\n",
       "    .dataframe thead th {\n",
       "        text-align: right;\n",
       "    }\n",
       "</style>\n",
       "<table border=\"1\" class=\"dataframe\">\n",
       "  <thead>\n",
       "    <tr style=\"text-align: right;\">\n",
       "      <th></th>\n",
       "      <th>NAME_GOODS_CATEGORY</th>\n",
       "      <th>Count</th>\n",
       "      <th>%</th>\n",
       "    </tr>\n",
       "  </thead>\n",
       "  <tbody>\n",
       "    <tr>\n",
       "      <th>27</th>\n",
       "      <td>XNA</td>\n",
       "      <td>950809</td>\n",
       "      <td>56.93</td>\n",
       "    </tr>\n",
       "    <tr>\n",
       "      <th>19</th>\n",
       "      <td>Mobile</td>\n",
       "      <td>224708</td>\n",
       "      <td>13.45</td>\n",
       "    </tr>\n",
       "    <tr>\n",
       "      <th>7</th>\n",
       "      <td>Consumer Electronics</td>\n",
       "      <td>121576</td>\n",
       "      <td>7.28</td>\n",
       "    </tr>\n",
       "    <tr>\n",
       "      <th>5</th>\n",
       "      <td>Computers</td>\n",
       "      <td>105769</td>\n",
       "      <td>6.33</td>\n",
       "    </tr>\n",
       "    <tr>\n",
       "      <th>2</th>\n",
       "      <td>Audio/Video</td>\n",
       "      <td>99441</td>\n",
       "      <td>5.95</td>\n",
       "    </tr>\n",
       "    <tr>\n",
       "      <th>11</th>\n",
       "      <td>Furniture</td>\n",
       "      <td>53656</td>\n",
       "      <td>3.21</td>\n",
       "    </tr>\n",
       "    <tr>\n",
       "      <th>22</th>\n",
       "      <td>Photo / Cinema Equipment</td>\n",
       "      <td>25021</td>\n",
       "      <td>1.50</td>\n",
       "    </tr>\n",
       "    <tr>\n",
       "      <th>6</th>\n",
       "      <td>Construction Materials</td>\n",
       "      <td>24995</td>\n",
       "      <td>1.50</td>\n",
       "    </tr>\n",
       "    <tr>\n",
       "      <th>4</th>\n",
       "      <td>Clothing and Accessories</td>\n",
       "      <td>23554</td>\n",
       "      <td>1.41</td>\n",
       "    </tr>\n",
       "    <tr>\n",
       "      <th>3</th>\n",
       "      <td>Auto Accessories</td>\n",
       "      <td>7381</td>\n",
       "      <td>0.44</td>\n",
       "    </tr>\n",
       "    <tr>\n",
       "      <th>16</th>\n",
       "      <td>Jewelry</td>\n",
       "      <td>6290</td>\n",
       "      <td>0.38</td>\n",
       "    </tr>\n",
       "    <tr>\n",
       "      <th>13</th>\n",
       "      <td>Homewares</td>\n",
       "      <td>5023</td>\n",
       "      <td>0.30</td>\n",
       "    </tr>\n",
       "    <tr>\n",
       "      <th>17</th>\n",
       "      <td>Medical Supplies</td>\n",
       "      <td>3843</td>\n",
       "      <td>0.23</td>\n",
       "    </tr>\n",
       "    <tr>\n",
       "      <th>25</th>\n",
       "      <td>Vehicles</td>\n",
       "      <td>3370</td>\n",
       "      <td>0.20</td>\n",
       "    </tr>\n",
       "    <tr>\n",
       "      <th>23</th>\n",
       "      <td>Sport and Leisure</td>\n",
       "      <td>2981</td>\n",
       "      <td>0.18</td>\n",
       "    </tr>\n",
       "    <tr>\n",
       "      <th>12</th>\n",
       "      <td>Gardening</td>\n",
       "      <td>2668</td>\n",
       "      <td>0.16</td>\n",
       "    </tr>\n",
       "    <tr>\n",
       "      <th>21</th>\n",
       "      <td>Other</td>\n",
       "      <td>2554</td>\n",
       "      <td>0.15</td>\n",
       "    </tr>\n",
       "    <tr>\n",
       "      <th>20</th>\n",
       "      <td>Office Appliances</td>\n",
       "      <td>2333</td>\n",
       "      <td>0.14</td>\n",
       "    </tr>\n",
       "    <tr>\n",
       "      <th>24</th>\n",
       "      <td>Tourism</td>\n",
       "      <td>1659</td>\n",
       "      <td>0.10</td>\n",
       "    </tr>\n",
       "    <tr>\n",
       "      <th>18</th>\n",
       "      <td>Medicine</td>\n",
       "      <td>1550</td>\n",
       "      <td>0.09</td>\n",
       "    </tr>\n",
       "    <tr>\n",
       "      <th>8</th>\n",
       "      <td>Direct Sales</td>\n",
       "      <td>446</td>\n",
       "      <td>0.03</td>\n",
       "    </tr>\n",
       "    <tr>\n",
       "      <th>10</th>\n",
       "      <td>Fitness</td>\n",
       "      <td>209</td>\n",
       "      <td>0.01</td>\n",
       "    </tr>\n",
       "    <tr>\n",
       "      <th>0</th>\n",
       "      <td>Additional Service</td>\n",
       "      <td>128</td>\n",
       "      <td>0.01</td>\n",
       "    </tr>\n",
       "    <tr>\n",
       "      <th>9</th>\n",
       "      <td>Education</td>\n",
       "      <td>107</td>\n",
       "      <td>0.01</td>\n",
       "    </tr>\n",
       "    <tr>\n",
       "      <th>26</th>\n",
       "      <td>Weapon</td>\n",
       "      <td>77</td>\n",
       "      <td>0.00</td>\n",
       "    </tr>\n",
       "    <tr>\n",
       "      <th>15</th>\n",
       "      <td>Insurance</td>\n",
       "      <td>64</td>\n",
       "      <td>0.00</td>\n",
       "    </tr>\n",
       "    <tr>\n",
       "      <th>1</th>\n",
       "      <td>Animals</td>\n",
       "      <td>1</td>\n",
       "      <td>0.00</td>\n",
       "    </tr>\n",
       "    <tr>\n",
       "      <th>14</th>\n",
       "      <td>House Construction</td>\n",
       "      <td>1</td>\n",
       "      <td>0.00</td>\n",
       "    </tr>\n",
       "  </tbody>\n",
       "</table>\n",
       "</div>"
      ]
     },
     "metadata": {},
     "execution_count": 19
    }
   ],
   "metadata": {}
  },
  {
   "cell_type": "code",
   "execution_count": 20,
   "source": [
    "groupByAndCount(df_pa, 'NAME_PRODUCT_TYPE', skipPercent=False)"
   ],
   "outputs": [
    {
     "output_type": "execute_result",
     "data": {
      "text/plain": [
       "  NAME_PRODUCT_TYPE    Count      %\n",
       "0               XNA  1063666  63.68\n",
       "2            x-sell   456287  27.32\n",
       "1           walk-in   150261   9.00"
      ],
      "text/html": [
       "<div>\n",
       "<style scoped>\n",
       "    .dataframe tbody tr th:only-of-type {\n",
       "        vertical-align: middle;\n",
       "    }\n",
       "\n",
       "    .dataframe tbody tr th {\n",
       "        vertical-align: top;\n",
       "    }\n",
       "\n",
       "    .dataframe thead th {\n",
       "        text-align: right;\n",
       "    }\n",
       "</style>\n",
       "<table border=\"1\" class=\"dataframe\">\n",
       "  <thead>\n",
       "    <tr style=\"text-align: right;\">\n",
       "      <th></th>\n",
       "      <th>NAME_PRODUCT_TYPE</th>\n",
       "      <th>Count</th>\n",
       "      <th>%</th>\n",
       "    </tr>\n",
       "  </thead>\n",
       "  <tbody>\n",
       "    <tr>\n",
       "      <th>0</th>\n",
       "      <td>XNA</td>\n",
       "      <td>1063666</td>\n",
       "      <td>63.68</td>\n",
       "    </tr>\n",
       "    <tr>\n",
       "      <th>2</th>\n",
       "      <td>x-sell</td>\n",
       "      <td>456287</td>\n",
       "      <td>27.32</td>\n",
       "    </tr>\n",
       "    <tr>\n",
       "      <th>1</th>\n",
       "      <td>walk-in</td>\n",
       "      <td>150261</td>\n",
       "      <td>9.00</td>\n",
       "    </tr>\n",
       "  </tbody>\n",
       "</table>\n",
       "</div>"
      ]
     },
     "metadata": {},
     "execution_count": 20
    }
   ],
   "metadata": {}
  },
  {
   "cell_type": "code",
   "execution_count": 21,
   "source": [
    "groupByAndCount(df_pa, 'CHANNEL_TYPE', skipPercent=False)"
   ],
   "outputs": [
    {
     "output_type": "execute_result",
     "data": {
      "text/plain": [
       "                 CHANNEL_TYPE   Count      %\n",
       "5     Credit and cash offices  719968  43.11\n",
       "4                Country-wide  494690  29.62\n",
       "7                       Stone  212083  12.70\n",
       "6            Regional / Local  108528   6.50\n",
       "3              Contact center   71297   4.27\n",
       "0             AP+ (Cash loan)   57046   3.42\n",
       "2  Channel of corporate sales    6150   0.37\n",
       "1                  Car dealer     452   0.03"
      ],
      "text/html": [
       "<div>\n",
       "<style scoped>\n",
       "    .dataframe tbody tr th:only-of-type {\n",
       "        vertical-align: middle;\n",
       "    }\n",
       "\n",
       "    .dataframe tbody tr th {\n",
       "        vertical-align: top;\n",
       "    }\n",
       "\n",
       "    .dataframe thead th {\n",
       "        text-align: right;\n",
       "    }\n",
       "</style>\n",
       "<table border=\"1\" class=\"dataframe\">\n",
       "  <thead>\n",
       "    <tr style=\"text-align: right;\">\n",
       "      <th></th>\n",
       "      <th>CHANNEL_TYPE</th>\n",
       "      <th>Count</th>\n",
       "      <th>%</th>\n",
       "    </tr>\n",
       "  </thead>\n",
       "  <tbody>\n",
       "    <tr>\n",
       "      <th>5</th>\n",
       "      <td>Credit and cash offices</td>\n",
       "      <td>719968</td>\n",
       "      <td>43.11</td>\n",
       "    </tr>\n",
       "    <tr>\n",
       "      <th>4</th>\n",
       "      <td>Country-wide</td>\n",
       "      <td>494690</td>\n",
       "      <td>29.62</td>\n",
       "    </tr>\n",
       "    <tr>\n",
       "      <th>7</th>\n",
       "      <td>Stone</td>\n",
       "      <td>212083</td>\n",
       "      <td>12.70</td>\n",
       "    </tr>\n",
       "    <tr>\n",
       "      <th>6</th>\n",
       "      <td>Regional / Local</td>\n",
       "      <td>108528</td>\n",
       "      <td>6.50</td>\n",
       "    </tr>\n",
       "    <tr>\n",
       "      <th>3</th>\n",
       "      <td>Contact center</td>\n",
       "      <td>71297</td>\n",
       "      <td>4.27</td>\n",
       "    </tr>\n",
       "    <tr>\n",
       "      <th>0</th>\n",
       "      <td>AP+ (Cash loan)</td>\n",
       "      <td>57046</td>\n",
       "      <td>3.42</td>\n",
       "    </tr>\n",
       "    <tr>\n",
       "      <th>2</th>\n",
       "      <td>Channel of corporate sales</td>\n",
       "      <td>6150</td>\n",
       "      <td>0.37</td>\n",
       "    </tr>\n",
       "    <tr>\n",
       "      <th>1</th>\n",
       "      <td>Car dealer</td>\n",
       "      <td>452</td>\n",
       "      <td>0.03</td>\n",
       "    </tr>\n",
       "  </tbody>\n",
       "</table>\n",
       "</div>"
      ]
     },
     "metadata": {},
     "execution_count": 21
    }
   ],
   "metadata": {}
  },
  {
   "cell_type": "code",
   "execution_count": 22,
   "source": [
    "groupByAndCount(df_pa, 'PRODUCT_COMBINATION', skipPercent=False)"
   ],
   "outputs": [
    {
     "output_type": "execute_result",
     "data": {
      "text/plain": [
       "               PRODUCT_COMBINATION   Count      %\n",
       "2                             Cash  285990  17.12\n",
       "9      POS household with interest  263622  15.78\n",
       "13        POS mobile with interest  220670  13.21\n",
       "8              Cash X-Sell: middle  143883   8.61\n",
       "7                 Cash X-Sell: low  130248   7.80\n",
       "0                      Card Street  112582   6.74\n",
       "11      POS industry with interest   98833   5.92\n",
       "10  POS household without interest   82908   4.96\n",
       "1                      Card X-Sell   80582   4.82\n",
       "3                Cash Street: high   59639   3.57\n",
       "6                Cash X-Sell: high   59301   3.55\n",
       "5              Cash Street: middle   34658   2.08\n",
       "4                 Cash Street: low   33834   2.03\n",
       "14     POS mobile without interest   24082   1.44\n",
       "15         POS other with interest   23879   1.43\n",
       "12   POS industry without interest   12602   0.75\n",
       "16     POS others without interest    2555   0.15"
      ],
      "text/html": [
       "<div>\n",
       "<style scoped>\n",
       "    .dataframe tbody tr th:only-of-type {\n",
       "        vertical-align: middle;\n",
       "    }\n",
       "\n",
       "    .dataframe tbody tr th {\n",
       "        vertical-align: top;\n",
       "    }\n",
       "\n",
       "    .dataframe thead th {\n",
       "        text-align: right;\n",
       "    }\n",
       "</style>\n",
       "<table border=\"1\" class=\"dataframe\">\n",
       "  <thead>\n",
       "    <tr style=\"text-align: right;\">\n",
       "      <th></th>\n",
       "      <th>PRODUCT_COMBINATION</th>\n",
       "      <th>Count</th>\n",
       "      <th>%</th>\n",
       "    </tr>\n",
       "  </thead>\n",
       "  <tbody>\n",
       "    <tr>\n",
       "      <th>2</th>\n",
       "      <td>Cash</td>\n",
       "      <td>285990</td>\n",
       "      <td>17.12</td>\n",
       "    </tr>\n",
       "    <tr>\n",
       "      <th>9</th>\n",
       "      <td>POS household with interest</td>\n",
       "      <td>263622</td>\n",
       "      <td>15.78</td>\n",
       "    </tr>\n",
       "    <tr>\n",
       "      <th>13</th>\n",
       "      <td>POS mobile with interest</td>\n",
       "      <td>220670</td>\n",
       "      <td>13.21</td>\n",
       "    </tr>\n",
       "    <tr>\n",
       "      <th>8</th>\n",
       "      <td>Cash X-Sell: middle</td>\n",
       "      <td>143883</td>\n",
       "      <td>8.61</td>\n",
       "    </tr>\n",
       "    <tr>\n",
       "      <th>7</th>\n",
       "      <td>Cash X-Sell: low</td>\n",
       "      <td>130248</td>\n",
       "      <td>7.80</td>\n",
       "    </tr>\n",
       "    <tr>\n",
       "      <th>0</th>\n",
       "      <td>Card Street</td>\n",
       "      <td>112582</td>\n",
       "      <td>6.74</td>\n",
       "    </tr>\n",
       "    <tr>\n",
       "      <th>11</th>\n",
       "      <td>POS industry with interest</td>\n",
       "      <td>98833</td>\n",
       "      <td>5.92</td>\n",
       "    </tr>\n",
       "    <tr>\n",
       "      <th>10</th>\n",
       "      <td>POS household without interest</td>\n",
       "      <td>82908</td>\n",
       "      <td>4.96</td>\n",
       "    </tr>\n",
       "    <tr>\n",
       "      <th>1</th>\n",
       "      <td>Card X-Sell</td>\n",
       "      <td>80582</td>\n",
       "      <td>4.82</td>\n",
       "    </tr>\n",
       "    <tr>\n",
       "      <th>3</th>\n",
       "      <td>Cash Street: high</td>\n",
       "      <td>59639</td>\n",
       "      <td>3.57</td>\n",
       "    </tr>\n",
       "    <tr>\n",
       "      <th>6</th>\n",
       "      <td>Cash X-Sell: high</td>\n",
       "      <td>59301</td>\n",
       "      <td>3.55</td>\n",
       "    </tr>\n",
       "    <tr>\n",
       "      <th>5</th>\n",
       "      <td>Cash Street: middle</td>\n",
       "      <td>34658</td>\n",
       "      <td>2.08</td>\n",
       "    </tr>\n",
       "    <tr>\n",
       "      <th>4</th>\n",
       "      <td>Cash Street: low</td>\n",
       "      <td>33834</td>\n",
       "      <td>2.03</td>\n",
       "    </tr>\n",
       "    <tr>\n",
       "      <th>14</th>\n",
       "      <td>POS mobile without interest</td>\n",
       "      <td>24082</td>\n",
       "      <td>1.44</td>\n",
       "    </tr>\n",
       "    <tr>\n",
       "      <th>15</th>\n",
       "      <td>POS other with interest</td>\n",
       "      <td>23879</td>\n",
       "      <td>1.43</td>\n",
       "    </tr>\n",
       "    <tr>\n",
       "      <th>12</th>\n",
       "      <td>POS industry without interest</td>\n",
       "      <td>12602</td>\n",
       "      <td>0.75</td>\n",
       "    </tr>\n",
       "    <tr>\n",
       "      <th>16</th>\n",
       "      <td>POS others without interest</td>\n",
       "      <td>2555</td>\n",
       "      <td>0.15</td>\n",
       "    </tr>\n",
       "  </tbody>\n",
       "</table>\n",
       "</div>"
      ]
     },
     "metadata": {},
     "execution_count": 22
    }
   ],
   "metadata": {}
  },
  {
   "cell_type": "code",
   "execution_count": 23,
   "source": [
    "df_pa['RATE_DOWN_PAYMENT'].isna().sum() "
   ],
   "outputs": [
    {
     "output_type": "execute_result",
     "data": {
      "text/plain": [
       "895844"
      ]
     },
     "metadata": {},
     "execution_count": 23
    }
   ],
   "metadata": {}
  },
  {
   "cell_type": "code",
   "execution_count": 24,
   "source": [
    "df_pa['interest'] = np.NaN\n",
    "df_pa['interest'].isna().sum() "
   ],
   "outputs": [
    {
     "output_type": "execute_result",
     "data": {
      "text/plain": [
       "1670214"
      ]
     },
     "metadata": {},
     "execution_count": 24
    }
   ],
   "metadata": {}
  },
  {
   "cell_type": "code",
   "execution_count": 25,
   "source": [
    "df_pa['interest'] = df_pa.apply(lambda x: x['RATE_DOWN_PAYMENT'] + x['RATE_INTEREST_PRIMARY'] + x['RATE_INTEREST_PRIVILEGED'], axis=1)"
   ],
   "outputs": [],
   "metadata": {}
  },
  {
   "cell_type": "code",
   "execution_count": 26,
   "source": [
    "df_pa['interest'] "
   ],
   "outputs": [
    {
     "output_type": "execute_result",
     "data": {
      "text/plain": [
       "0          1.050168\n",
       "1               NaN\n",
       "2               NaN\n",
       "3               NaN\n",
       "4               NaN\n",
       "             ...   \n",
       "1670209         NaN\n",
       "1670210         NaN\n",
       "1670211         NaN\n",
       "1670212         NaN\n",
       "1670213         NaN\n",
       "Name: interest, Length: 1670214, dtype: float64"
      ]
     },
     "metadata": {},
     "execution_count": 26
    }
   ],
   "metadata": {}
  },
  {
   "cell_type": "code",
   "execution_count": 27,
   "source": [
    "\n",
    "PRODUCT_COMBINATION_COLUMNS = ['interest', 'NAME_PORTFOLIO', 'NAME_GOODS_CATEGORY', 'NAME_PRODUCT_TYPE',   'NAME_YIELD_GROUP', \t'PRODUCT_COMBINATION']"
   ],
   "outputs": [],
   "metadata": {}
  },
  {
   "cell_type": "code",
   "execution_count": 28,
   "source": [
    "df_pa[PRODUCT_COMBINATION_COLUMNS]"
   ],
   "outputs": [
    {
     "output_type": "execute_result",
     "data": {
      "text/plain": [
       "         interest NAME_PORTFOLIO   NAME_GOODS_CATEGORY NAME_PRODUCT_TYPE  \\\n",
       "0        1.050168            POS                Mobile               XNA   \n",
       "1             NaN           Cash                   XNA            x-sell   \n",
       "2             NaN           Cash                   XNA            x-sell   \n",
       "3             NaN           Cash                   XNA            x-sell   \n",
       "4             NaN           Cash                   XNA           walk-in   \n",
       "...           ...            ...                   ...               ...   \n",
       "1670209       NaN            POS             Furniture               XNA   \n",
       "1670210       NaN            POS             Furniture               XNA   \n",
       "1670211       NaN            POS  Consumer Electronics               XNA   \n",
       "1670212       NaN           Cash                   XNA            x-sell   \n",
       "1670213       NaN           Cash                   XNA            x-sell   \n",
       "\n",
       "        NAME_YIELD_GROUP          PRODUCT_COMBINATION  \n",
       "0                 middle     POS mobile with interest  \n",
       "1             low_action             Cash X-Sell: low  \n",
       "2                   high            Cash X-Sell: high  \n",
       "3                 middle          Cash X-Sell: middle  \n",
       "4                   high            Cash Street: high  \n",
       "...                  ...                          ...  \n",
       "1670209       low_normal   POS industry with interest  \n",
       "1670210           middle   POS industry with interest  \n",
       "1670211       low_normal  POS household with interest  \n",
       "1670212       low_normal             Cash X-Sell: low  \n",
       "1670213           middle          Cash X-Sell: middle  \n",
       "\n",
       "[1670214 rows x 6 columns]"
      ],
      "text/html": [
       "<div>\n",
       "<style scoped>\n",
       "    .dataframe tbody tr th:only-of-type {\n",
       "        vertical-align: middle;\n",
       "    }\n",
       "\n",
       "    .dataframe tbody tr th {\n",
       "        vertical-align: top;\n",
       "    }\n",
       "\n",
       "    .dataframe thead th {\n",
       "        text-align: right;\n",
       "    }\n",
       "</style>\n",
       "<table border=\"1\" class=\"dataframe\">\n",
       "  <thead>\n",
       "    <tr style=\"text-align: right;\">\n",
       "      <th></th>\n",
       "      <th>interest</th>\n",
       "      <th>NAME_PORTFOLIO</th>\n",
       "      <th>NAME_GOODS_CATEGORY</th>\n",
       "      <th>NAME_PRODUCT_TYPE</th>\n",
       "      <th>NAME_YIELD_GROUP</th>\n",
       "      <th>PRODUCT_COMBINATION</th>\n",
       "    </tr>\n",
       "  </thead>\n",
       "  <tbody>\n",
       "    <tr>\n",
       "      <th>0</th>\n",
       "      <td>1.050168</td>\n",
       "      <td>POS</td>\n",
       "      <td>Mobile</td>\n",
       "      <td>XNA</td>\n",
       "      <td>middle</td>\n",
       "      <td>POS mobile with interest</td>\n",
       "    </tr>\n",
       "    <tr>\n",
       "      <th>1</th>\n",
       "      <td>NaN</td>\n",
       "      <td>Cash</td>\n",
       "      <td>XNA</td>\n",
       "      <td>x-sell</td>\n",
       "      <td>low_action</td>\n",
       "      <td>Cash X-Sell: low</td>\n",
       "    </tr>\n",
       "    <tr>\n",
       "      <th>2</th>\n",
       "      <td>NaN</td>\n",
       "      <td>Cash</td>\n",
       "      <td>XNA</td>\n",
       "      <td>x-sell</td>\n",
       "      <td>high</td>\n",
       "      <td>Cash X-Sell: high</td>\n",
       "    </tr>\n",
       "    <tr>\n",
       "      <th>3</th>\n",
       "      <td>NaN</td>\n",
       "      <td>Cash</td>\n",
       "      <td>XNA</td>\n",
       "      <td>x-sell</td>\n",
       "      <td>middle</td>\n",
       "      <td>Cash X-Sell: middle</td>\n",
       "    </tr>\n",
       "    <tr>\n",
       "      <th>4</th>\n",
       "      <td>NaN</td>\n",
       "      <td>Cash</td>\n",
       "      <td>XNA</td>\n",
       "      <td>walk-in</td>\n",
       "      <td>high</td>\n",
       "      <td>Cash Street: high</td>\n",
       "    </tr>\n",
       "    <tr>\n",
       "      <th>...</th>\n",
       "      <td>...</td>\n",
       "      <td>...</td>\n",
       "      <td>...</td>\n",
       "      <td>...</td>\n",
       "      <td>...</td>\n",
       "      <td>...</td>\n",
       "    </tr>\n",
       "    <tr>\n",
       "      <th>1670209</th>\n",
       "      <td>NaN</td>\n",
       "      <td>POS</td>\n",
       "      <td>Furniture</td>\n",
       "      <td>XNA</td>\n",
       "      <td>low_normal</td>\n",
       "      <td>POS industry with interest</td>\n",
       "    </tr>\n",
       "    <tr>\n",
       "      <th>1670210</th>\n",
       "      <td>NaN</td>\n",
       "      <td>POS</td>\n",
       "      <td>Furniture</td>\n",
       "      <td>XNA</td>\n",
       "      <td>middle</td>\n",
       "      <td>POS industry with interest</td>\n",
       "    </tr>\n",
       "    <tr>\n",
       "      <th>1670211</th>\n",
       "      <td>NaN</td>\n",
       "      <td>POS</td>\n",
       "      <td>Consumer Electronics</td>\n",
       "      <td>XNA</td>\n",
       "      <td>low_normal</td>\n",
       "      <td>POS household with interest</td>\n",
       "    </tr>\n",
       "    <tr>\n",
       "      <th>1670212</th>\n",
       "      <td>NaN</td>\n",
       "      <td>Cash</td>\n",
       "      <td>XNA</td>\n",
       "      <td>x-sell</td>\n",
       "      <td>low_normal</td>\n",
       "      <td>Cash X-Sell: low</td>\n",
       "    </tr>\n",
       "    <tr>\n",
       "      <th>1670213</th>\n",
       "      <td>NaN</td>\n",
       "      <td>Cash</td>\n",
       "      <td>XNA</td>\n",
       "      <td>x-sell</td>\n",
       "      <td>middle</td>\n",
       "      <td>Cash X-Sell: middle</td>\n",
       "    </tr>\n",
       "  </tbody>\n",
       "</table>\n",
       "<p>1670214 rows × 6 columns</p>\n",
       "</div>"
      ]
     },
     "metadata": {},
     "execution_count": 28
    }
   ],
   "metadata": {}
  },
  {
   "cell_type": "code",
   "execution_count": 29,
   "source": [
    "# TODO: Change this to .csv\n",
    "df_columns = pd.read_excel(\"data/columns_description.xlsx\")\n",
    "df_columns.info()"
   ],
   "outputs": [
    {
     "output_type": "stream",
     "name": "stdout",
     "text": [
      "<class 'pandas.core.frame.DataFrame'>\n",
      "RangeIndex: 160 entries, 0 to 159\n",
      "Data columns (total 11 columns):\n",
      " #   Column       Non-Null Count  Dtype  \n",
      "---  ------       --------------  -----  \n",
      " 0   Unnamed: 0   160 non-null    int64  \n",
      " 1   Table        160 non-null    object \n",
      " 2   Category     154 non-null    object \n",
      " 3   Values       45 non-null     object \n",
      " 4   Common       8 non-null      float64\n",
      " 5   Type         160 non-null    object \n",
      " 6   Remarks      20 non-null     object \n",
      " 7   Row          160 non-null    object \n",
      " 8   Description  160 non-null    object \n",
      " 9   Special      69 non-null     object \n",
      " 10  Unnamed: 10  3 non-null      object \n",
      "dtypes: float64(1), int64(1), object(9)\n",
      "memory usage: 13.9+ KB\n"
     ]
    }
   ],
   "metadata": {}
  },
  {
   "cell_type": "code",
   "execution_count": 30,
   "source": [
    "PA_CONTRACT_COLUMNS = df_columns[(df_columns['Table']=='previous_application.csv') & (df_columns['Category']=='CONTRACT')]['Row'].tolist()\n",
    "PA_CONTRACT_COLUMNS"
   ],
   "outputs": [
    {
     "output_type": "execute_result",
     "data": {
      "text/plain": [
       "['NAME_CONTRACT_TYPE',\n",
       " 'AMT_ANNUITY',\n",
       " 'AMT_APPLICATION',\n",
       " 'AMT_CREDIT',\n",
       " 'AMT_DOWN_PAYMENT',\n",
       " 'RATE_DOWN_PAYMENT',\n",
       " 'RATE_INTEREST_PRIMARY',\n",
       " 'RATE_INTEREST_PRIVILEGED',\n",
       " 'NAME_CONTRACT_STATUS',\n",
       " 'NAME_PAYMENT_TYPE']"
      ]
     },
     "metadata": {},
     "execution_count": 30
    }
   ],
   "metadata": {}
  },
  {
   "cell_type": "code",
   "execution_count": 31,
   "source": [
    "df_pa_contract = df_pa[['SK_ID_PREV']  + PA_CONTRACT_COLUMNS]"
   ],
   "outputs": [],
   "metadata": {}
  },
  {
   "cell_type": "code",
   "execution_count": 32,
   "source": [
    "df_pa_contract['AMT_APP_CRED_DIFF'] = df_pa_contract['AMT_APPLICATION'] - df_pa_contract['AMT_CREDIT']\n",
    "df_pa_contract['AMT_APP_GOOD_DIFF'] = df_pa['AMT_APPLICATION'] - df_pa['AMT_GOODS_PRICE']"
   ],
   "outputs": [],
   "metadata": {}
  },
  {
   "cell_type": "code",
   "execution_count": 33,
   "source": [
    "df_pa_contract['AMT_APP_CRED_DIFF'] "
   ],
   "outputs": [
    {
     "output_type": "execute_result",
     "data": {
      "text/plain": [
       "0              0.0\n",
       "1         -72171.0\n",
       "2         -23944.5\n",
       "3         -20790.0\n",
       "4         -66555.0\n",
       "            ...   \n",
       "1670209   -44104.5\n",
       "1670210    23458.5\n",
       "1670211     2713.5\n",
       "1670212   -11880.0\n",
       "1670213        0.0\n",
       "Name: AMT_APP_CRED_DIFF, Length: 1670214, dtype: float64"
      ]
     },
     "metadata": {},
     "execution_count": 33
    }
   ],
   "metadata": {}
  },
  {
   "cell_type": "code",
   "execution_count": 34,
   "source": [
    "# Is the application amount > the goods price? Is the credit amount < application amount? \n",
    "df_pa_contract_ = df_pa_contract[(df_pa_contract['AMT_APP_GOOD_DIFF'] > 0) | (df_pa_contract['AMT_APP_CRED_DIFF'] > 0)] [['SK_ID_PREV', 'NAME_CONTRACT_TYPE', 'NAME_CONTRACT_STATUS', 'AMT_APP_CRED_DIFF', 'AMT_APP_GOOD_DIFF']]"
   ],
   "outputs": [],
   "metadata": {}
  },
  {
   "cell_type": "code",
   "execution_count": 35,
   "source": [
    "df_pa_contract_.to_csv(\"out/temp.csv\")"
   ],
   "outputs": [],
   "metadata": {}
  },
  {
   "cell_type": "code",
   "execution_count": 36,
   "source": [
    "# Looks like AMT_DOWN_PAYMENT & RATE_DOWN_PAYMENT occur together. Check if there is AMT_DOWN_PAYMENT if there is no RATE_DOWN_PAYMENT? \n",
    "df_pa[ ((df_pa['RATE_DOWN_PAYMENT'] == 0) | (df_pa['RATE_DOWN_PAYMENT'].isna() == True)) & (df_pa['AMT_DOWN_PAYMENT'] > 0) ][['SK_ID_PREV', 'RATE_DOWN_PAYMENT', 'AMT_DOWN_PAYMENT']] #"
   ],
   "outputs": [
    {
     "output_type": "execute_result",
     "data": {
      "text/plain": [
       "Empty DataFrame\n",
       "Columns: [SK_ID_PREV, RATE_DOWN_PAYMENT, AMT_DOWN_PAYMENT]\n",
       "Index: []"
      ],
      "text/html": [
       "<div>\n",
       "<style scoped>\n",
       "    .dataframe tbody tr th:only-of-type {\n",
       "        vertical-align: middle;\n",
       "    }\n",
       "\n",
       "    .dataframe tbody tr th {\n",
       "        vertical-align: top;\n",
       "    }\n",
       "\n",
       "    .dataframe thead th {\n",
       "        text-align: right;\n",
       "    }\n",
       "</style>\n",
       "<table border=\"1\" class=\"dataframe\">\n",
       "  <thead>\n",
       "    <tr style=\"text-align: right;\">\n",
       "      <th></th>\n",
       "      <th>SK_ID_PREV</th>\n",
       "      <th>RATE_DOWN_PAYMENT</th>\n",
       "      <th>AMT_DOWN_PAYMENT</th>\n",
       "    </tr>\n",
       "  </thead>\n",
       "  <tbody>\n",
       "  </tbody>\n",
       "</table>\n",
       "</div>"
      ]
     },
     "metadata": {},
     "execution_count": 36
    }
   ],
   "metadata": {}
  },
  {
   "cell_type": "code",
   "execution_count": 37,
   "source": [
    "df_pa.loc[df_pa['NAME_CONTRACT_STATUS'] == 'Refused'].to_csv(\"out/refused.csv\")"
   ],
   "outputs": [],
   "metadata": {}
  },
  {
   "cell_type": "code",
   "execution_count": 38,
   "source": [
    "df_pa_curr_ids = groupByAndCount(df_pa, 'SK_ID_CURR')"
   ],
   "outputs": [],
   "metadata": {}
  },
  {
   "cell_type": "code",
   "execution_count": 39,
   "source": [
    "df_pa_curr_ids"
   ],
   "outputs": [
    {
     "output_type": "execute_result",
     "data": {
      "text/plain": [
       "        SK_ID_CURR  Count\n",
       "83581       187868     77\n",
       "157523      265681     73\n",
       "70132       173680     72\n",
       "135448      242412     68\n",
       "101569      206783     67\n",
       "...            ...    ...\n",
       "200467      310872      1\n",
       "85950       190357      1\n",
       "85951       190358      1\n",
       "33175       134814      1\n",
       "0           100001      1\n",
       "\n",
       "[338857 rows x 2 columns]"
      ],
      "text/html": [
       "<div>\n",
       "<style scoped>\n",
       "    .dataframe tbody tr th:only-of-type {\n",
       "        vertical-align: middle;\n",
       "    }\n",
       "\n",
       "    .dataframe tbody tr th {\n",
       "        vertical-align: top;\n",
       "    }\n",
       "\n",
       "    .dataframe thead th {\n",
       "        text-align: right;\n",
       "    }\n",
       "</style>\n",
       "<table border=\"1\" class=\"dataframe\">\n",
       "  <thead>\n",
       "    <tr style=\"text-align: right;\">\n",
       "      <th></th>\n",
       "      <th>SK_ID_CURR</th>\n",
       "      <th>Count</th>\n",
       "    </tr>\n",
       "  </thead>\n",
       "  <tbody>\n",
       "    <tr>\n",
       "      <th>83581</th>\n",
       "      <td>187868</td>\n",
       "      <td>77</td>\n",
       "    </tr>\n",
       "    <tr>\n",
       "      <th>157523</th>\n",
       "      <td>265681</td>\n",
       "      <td>73</td>\n",
       "    </tr>\n",
       "    <tr>\n",
       "      <th>70132</th>\n",
       "      <td>173680</td>\n",
       "      <td>72</td>\n",
       "    </tr>\n",
       "    <tr>\n",
       "      <th>135448</th>\n",
       "      <td>242412</td>\n",
       "      <td>68</td>\n",
       "    </tr>\n",
       "    <tr>\n",
       "      <th>101569</th>\n",
       "      <td>206783</td>\n",
       "      <td>67</td>\n",
       "    </tr>\n",
       "    <tr>\n",
       "      <th>...</th>\n",
       "      <td>...</td>\n",
       "      <td>...</td>\n",
       "    </tr>\n",
       "    <tr>\n",
       "      <th>200467</th>\n",
       "      <td>310872</td>\n",
       "      <td>1</td>\n",
       "    </tr>\n",
       "    <tr>\n",
       "      <th>85950</th>\n",
       "      <td>190357</td>\n",
       "      <td>1</td>\n",
       "    </tr>\n",
       "    <tr>\n",
       "      <th>85951</th>\n",
       "      <td>190358</td>\n",
       "      <td>1</td>\n",
       "    </tr>\n",
       "    <tr>\n",
       "      <th>33175</th>\n",
       "      <td>134814</td>\n",
       "      <td>1</td>\n",
       "    </tr>\n",
       "    <tr>\n",
       "      <th>0</th>\n",
       "      <td>100001</td>\n",
       "      <td>1</td>\n",
       "    </tr>\n",
       "  </tbody>\n",
       "</table>\n",
       "<p>338857 rows × 2 columns</p>\n",
       "</div>"
      ]
     },
     "metadata": {},
     "execution_count": 39
    }
   ],
   "metadata": {}
  },
  {
   "cell_type": "code",
   "execution_count": 40,
   "source": [
    "df_pa_curr_ids[df_pa_curr_ids['Count'] == 1].shape[0]"
   ],
   "outputs": [
    {
     "output_type": "execute_result",
     "data": {
      "text/plain": [
       "60458"
      ]
     },
     "metadata": {},
     "execution_count": 40
    }
   ],
   "metadata": {}
  },
  {
   "cell_type": "code",
   "execution_count": 41,
   "source": [
    "df_pa_curr_ids[df_pa_curr_ids['Count'] > 1].to_csv(\"out/multiple_curr_id.csv\")"
   ],
   "outputs": [],
   "metadata": {}
  },
  {
   "cell_type": "code",
   "execution_count": 42,
   "source": [
    "curr_ids_multiple_prev_app = df_pa_curr_ids[df_pa_curr_ids['Count'] > 1]['SK_ID_CURR'].tolist()"
   ],
   "outputs": [],
   "metadata": {}
  },
  {
   "cell_type": "code",
   "execution_count": 43,
   "source": [
    "curr_ids_multiple_prev_app[0:4]"
   ],
   "outputs": [
    {
     "output_type": "execute_result",
     "data": {
      "text/plain": [
       "[187868, 265681, 173680, 242412]"
      ]
     },
     "metadata": {},
     "execution_count": 43
    }
   ],
   "metadata": {}
  },
  {
   "cell_type": "markdown",
   "source": [
    "## Data Exploration - Current Application"
   ],
   "metadata": {}
  },
  {
   "cell_type": "code",
   "execution_count": 114,
   "source": [
    "df_ca_orig = pd.read_csv(\"data/application_data.csv\")"
   ],
   "outputs": [],
   "metadata": {}
  },
  {
   "cell_type": "markdown",
   "source": [
    "### Data Cleaning - Remove invalid data\n",
    " - EXT_SOURCE_1, EXT_SOURCE_2, EXT_SOURCE_3: Meaning of the columns/variables is not known"
   ],
   "metadata": {}
  },
  {
   "cell_type": "code",
   "execution_count": 115,
   "source": [
    "print(f\"Shape - before cleanup {df_ca_orig.shape}\")\n",
    "df_ca_orig.drop(columns = ['EXT_SOURCE_1', 'EXT_SOURCE_2', 'EXT_SOURCE_3'], inplace=True)\n",
    "print(f\"Shape - after cleanup {df_ca_orig.shape}\")"
   ],
   "outputs": [
    {
     "output_type": "stream",
     "name": "stdout",
     "text": [
      "Shape - before cleanup (307511, 122)\n",
      "Shape - after cleanup (307511, 119)\n"
     ]
    }
   ],
   "metadata": {}
  },
  {
   "cell_type": "code",
   "execution_count": 116,
   "source": [
    "df_ca_orig['TARGET'].isna().sum()"
   ],
   "outputs": [
    {
     "output_type": "execute_result",
     "data": {
      "text/plain": [
       "0"
      ]
     },
     "metadata": {},
     "execution_count": 116
    }
   ],
   "metadata": {}
  },
  {
   "cell_type": "code",
   "execution_count": 118,
   "source": [
    "df_ca = df_ca_orig.copy(deep=True)\n",
    "print(df_ca.shape)"
   ],
   "outputs": [
    {
     "output_type": "stream",
     "name": "stdout",
     "text": [
      "(307511, 119)\n"
     ]
    }
   ],
   "metadata": {}
  },
  {
   "cell_type": "markdown",
   "source": [],
   "metadata": {}
  },
  {
   "cell_type": "markdown",
   "source": [
    "### 1. Demographic\n",
    "- PERSONAL - Gender, Education Type, Family Status, Housing Type, REGION_RATING_CLIENT, REGION_RATING_CLIENT_W_CITY\n",
    "- PROFESSIONAL - Occupation Type, ORGANIZATION_TYPE, NAME_INCOME_TYPE"
   ],
   "metadata": {}
  },
  {
   "cell_type": "code",
   "execution_count": 49,
   "source": [
    "df_ca_gender = groupPerTarget(df_ca, 'CODE_GENDER')\n",
    "plotBar(df_ca['CODE_GENDER'].value_counts(), \"Gender Vs Target\", w=6, h=4)"
   ],
   "outputs": [
    {
     "output_type": "stream",
     "name": "stdout",
     "text": [
      "24825\n",
      "282686\n",
      "                Total  Target=1  Target=0  Target=1%  Target=0%\n",
      "CODE_GENDER                                                    \n",
      "F            202448.0   14170.0    188278        7.0       93.0\n",
      "M            105059.0   10655.0     94404       10.0       90.0\n",
      "XNA               NaN       NaN         4        NaN        NaN\n"
     ]
    },
    {
     "output_type": "display_data",
     "data": {
      "text/plain": [
       "<Figure size 480x320 with 1 Axes>"
      ],
      "image/png": "[encoded data removed]"
     },
     "metadata": {
      "needs_background": "light"
     }
    }
   ],
   "metadata": {}
  },
  {
   "cell_type": "code",
   "execution_count": 90,
   "source": [
    "compare(df_ca, 'CODE_GENDER', 'Gender', labels=['Female', 'Male', 'Not Known'])\n",
    "compare(df_ca, 'NAME_EDUCATION_TYPE', 'Education Type',labels=['Academic degree', 'Higher education', 'Incomplete higher', 'Lower secondary', 'Secondary / secondary special'], figsize=(20, 10))\n",
    "compare(df_ca, 'NAME_FAMILY_STATUS', 'Family Status',labels=['Civil marriage', 'Married', 'Separated', 'Single / not married', 'Unknown', 'Widow'], figsize=(20, 10))\n",
    "compare(df_ca, 'NAME_HOUSING_TYPE', 'Housing Type',labels=['Co-op apartment', 'House / apartment', 'Municipal apartment', 'Office apartment', 'Rented apartment', 'With parents'], figsize=(20, 10))"
   ],
   "outputs": [
    {
     "output_type": "stream",
     "name": "stdout",
     "text": [
      "24825\n",
      "282686\n",
      "                Total  Target=1  Target=0  Target=1%  Target=0%\n",
      "CODE_GENDER                                                    \n",
      "F            202448.0   14170.0    188278        7.0       93.0\n",
      "M            105059.0   10655.0     94404       10.0       90.0\n",
      "XNA               NaN       NaN         4        NaN        NaN\n",
      "24825\n",
      "282686\n",
      "                                Total  Target=1  Target=0  Target=1%  \\\n",
      "NAME_EDUCATION_TYPE                                                    \n",
      "Academic degree                   164         3       161        2.0   \n",
      "Higher education                74863      4009     70854        5.0   \n",
      "Incomplete higher               10277       872      9405        8.0   \n",
      "Lower secondary                  3816       417      3399       11.0   \n",
      "Secondary / secondary special  218391     19524    198867        9.0   \n",
      "\n",
      "                               Target=0%  \n",
      "NAME_EDUCATION_TYPE                       \n",
      "Academic degree                     98.0  \n",
      "Higher education                    95.0  \n",
      "Incomplete higher                   92.0  \n",
      "Lower secondary                     89.0  \n",
      "Secondary / secondary special       91.0  \n",
      "24825\n",
      "282686\n",
      "                         Total  Target=1  Target=0  Target=1%  Target=0%\n",
      "NAME_FAMILY_STATUS                                                      \n",
      "Civil marriage         29775.0    2961.0     26814       10.0       90.0\n",
      "Married               196432.0   14850.0    181582        8.0       92.0\n",
      "Separated              19770.0    1620.0     18150        8.0       92.0\n",
      "Single / not married   45444.0    4457.0     40987       10.0       90.0\n",
      "Unknown                    NaN       NaN         2        NaN        NaN\n",
      "Widow                  16088.0     937.0     15151        6.0       94.0\n",
      "24825\n",
      "282686\n",
      "                      Total  Target=1  Target=0  Target=1%  Target=0%\n",
      "NAME_HOUSING_TYPE                                                    \n",
      "Co-op apartment        1122        89      1033        8.0       92.0\n",
      "House / apartment    272868     21272    251596        8.0       92.0\n",
      "Municipal apartment   11183       955     10228        9.0       91.0\n",
      "Office apartment       2617       172      2445        7.0       93.0\n",
      "Rented apartment       4881       601      4280       12.0       88.0\n",
      "With parents          14840      1736     13104       12.0       88.0\n"
     ]
    },
    {
     "output_type": "display_data",
     "data": {
      "text/plain": [
       "<Figure size 800x480 with 2 Axes>"
      ],
      "image/png": "[encoded data removed]"
     },
     "metadata": {
      "needs_background": "light"
     }
    },
    {
     "output_type": "display_data",
     "data": {
      "text/plain": [
       "<Figure size 1600x800 with 2 Axes>"
      ],
      "image/png": "[encoded data removed]"
     },
     "metadata": {
      "needs_background": "light"
     }
    },
    {
     "output_type": "display_data",
     "data": {
      "text/plain": [
       "<Figure size 1600x800 with 2 Axes>"
      ],
      "image/png": "[encoded data removed]"
     },
     "metadata": {
      "needs_background": "light"
     }
    },
    {
     "output_type": "display_data",
     "data": {
      "text/plain": [
       "<Figure size 1600x800 with 2 Axes>"
      ],
      "image/png": "[encoded data removed]"
     },
     "metadata": {
      "needs_background": "light"
     }
    }
   ],
   "metadata": {}
  },
  {
   "cell_type": "code",
   "execution_count": 93,
   "source": [
    "print(\"ORGANIZATION_TYPE - Missing values:\", df_ca['ORGANIZATION_TYPE'].isna().sum())\n",
    "compare(df_ca,'ORGANIZATION_TYPE', \"ORGANIZATION_TYPE\",figsize=(20, 10))"
   ],
   "outputs": [
    {
     "output_type": "stream",
     "name": "stdout",
     "text": [
      "ORGANIZATION_TYPE - Missing values: 0\n",
      "24825\n",
      "282686\n",
      "                        Total  Target=1  Target=0  Target=1%  Target=0%\n",
      "ORGANIZATION_TYPE                                                      \n",
      "Advertising               429        35       394        8.0       92.0\n",
      "Agriculture              2454       257      2197       10.0       90.0\n",
      "Bank                     2507       130      2377        5.0       95.0\n",
      "Business Entity Type 1   5984       487      5497        8.0       92.0\n",
      "Business Entity Type 2  10553       900      9653        9.0       91.0\n",
      "Business Entity Type 3  67992      6323     61669        9.0       91.0\n",
      "Cleaning                  260        29       231       11.0       89.0\n",
      "Construction             6721       785      5936       12.0       88.0\n",
      "Culture                   379        21       358        6.0       94.0\n",
      "Electricity               950        63       887        7.0       93.0\n",
      "Emergency                 560        40       520        7.0       93.0\n",
      "Government              10404       726      9678        7.0       93.0\n",
      "Hotel                     966        62       904        6.0       94.0\n",
      "Housing                  2958       235      2723        8.0       92.0\n",
      "Industry: type 1         1039       115       924       11.0       89.0\n",
      "Industry: type 10         109         7       102        6.0       94.0\n",
      "Industry: type 11        2704       234      2470        9.0       91.0\n",
      "Industry: type 12         369        14       355        4.0       96.0\n",
      "Industry: type 13          67         9        58       13.0       87.0\n",
      "Industry: type 2          458        33       425        7.0       93.0\n",
      "Industry: type 3         3278       348      2930       11.0       89.0\n",
      "Industry: type 4          877        89       788       10.0       90.0\n",
      "Industry: type 5          599        41       558        7.0       93.0\n",
      "Industry: type 6          112         8       104        7.0       93.0\n",
      "Industry: type 7         1307       105      1202        8.0       92.0\n",
      "Industry: type 8           24         3        21       12.0       88.0\n",
      "Industry: type 9         3368       225      3143        7.0       93.0\n",
      "Insurance                 597        34       563        6.0       94.0\n",
      "Kindergarten             6880       484      6396        7.0       93.0\n",
      "Legal Services            305        24       281        8.0       92.0\n",
      "Medicine                11193       737     10456        7.0       93.0\n",
      "Military                 2634       135      2499        5.0       95.0\n",
      "Mobile                    317        29       288        9.0       91.0\n",
      "Other                   16683      1275     15408        8.0       92.0\n",
      "Police                   2341       117      2224        5.0       95.0\n",
      "Postal                   2157       182      1975        8.0       92.0\n",
      "Realtor                   396        42       354       11.0       89.0\n",
      "Religion                   85         5        80        6.0       94.0\n",
      "Restaurant               1811       212      1599       12.0       88.0\n",
      "School                   8893       526      8367        6.0       94.0\n",
      "Security                 3247       324      2923       10.0       90.0\n",
      "Security Ministries      1974        96      1878        5.0       95.0\n",
      "Self-employed           38412      3908     34504       10.0       90.0\n",
      "Services                 1575       104      1471        7.0       93.0\n",
      "Telecom                   577        44       533        8.0       92.0\n",
      "Trade: type 1             348        31       317        9.0       91.0\n",
      "Trade: type 2            1900       133      1767        7.0       93.0\n",
      "Trade: type 3            3492       361      3131       10.0       90.0\n",
      "Trade: type 4              64         2        62        3.0       97.0\n",
      "Trade: type 5              49         3        46        6.0       94.0\n",
      "Trade: type 6             631        29       602        5.0       95.0\n",
      "Trade: type 7            7831       740      7091        9.0       91.0\n",
      "Transport: type 1         201         9       192        4.0       96.0\n",
      "Transport: type 2        2204       172      2032        8.0       92.0\n",
      "Transport: type 3        1187       187      1000       16.0       84.0\n",
      "Transport: type 4        5398       501      4897        9.0       91.0\n",
      "University               1327        65      1262        5.0       95.0\n",
      "XNA                     55374      2990     52384        5.0       95.0\n"
     ]
    },
    {
     "output_type": "display_data",
     "data": {
      "text/plain": [
       "<Figure size 1600x800 with 2 Axes>"
      ],
      "image/png": "[encoded data removed]"
     },
     "metadata": {
      "needs_background": "light"
     }
    }
   ],
   "metadata": {}
  },
  {
   "cell_type": "code",
   "execution_count": 80,
   "source": [
    "# TODO: Repalce NaN with 0\n",
    "print(\"NAME_INCOME_TYPE - Missing values:\", df_ca['NAME_INCOME_TYPE'].isna().sum())\n",
    "compare(df_ca,'NAME_INCOME_TYPE',['Businessman', 'Commercial associate', 'Maternity leave', 'Pensioner', 'State servant',  \n",
    "            'Student', 'Unemployed','Working'], 'Income Type',figsize=(20, 10))\n",
    "\n",
    "\n",
    "print(\"NAME_INCOME_TYPE - Missing values:\", df_ca['NAME_INCOME_TYPE'].isna().sum())\n",
    "compare(df_ca,'NAME_INCOME_TYPE',['Businessman', 'Commercial associate', 'Maternity leave', 'Pensioner', 'State servant',  \n",
    "            'Student', 'Unemployed','Working'], 'Income Type',figsize=(20, 10))"
   ],
   "outputs": [
    {
     "output_type": "stream",
     "name": "stdout",
     "text": [
      "NAME_INCOME_TYPE - Missing values: 0\n",
      "24825\n",
      "282686\n",
      "                         Total  Target=1  Target=0  Target=1%  Target=0%\n",
      "NAME_INCOME_TYPE                                                        \n",
      "Businessman                NaN       NaN        10        NaN        NaN\n",
      "Commercial associate   71617.0    5360.0     66257        7.0       93.0\n",
      "Maternity leave            5.0       2.0         3       40.0       60.0\n",
      "Pensioner              55362.0    2982.0     52380        5.0       95.0\n",
      "State servant          21703.0    1249.0     20454        6.0       94.0\n",
      "Student                    NaN       NaN        18        NaN        NaN\n",
      "Unemployed                22.0       8.0        14       36.0       64.0\n",
      "Working               158774.0   15224.0    143550       10.0       90.0\n",
      "NAME_TYPE_SUITE - Missing values: 1292\n",
      "24825\n",
      "282686\n",
      "                  Total  Target=1  Target=0  Target=1%  Target=0%\n",
      "NAME_TYPE_SUITE                                                  \n",
      "Children           3267       241      3026        7.0       93.0\n",
      "Family            40149      3009     37140        7.0       93.0\n",
      "Group of people     271        23       248        8.0       92.0\n",
      "Other_A             866        76       790        9.0       91.0\n",
      "Other_B            1770       174      1596       10.0       90.0\n",
      "Spouse, partner   11370       895     10475        8.0       92.0\n",
      "Unaccompanied    248526     20337    228189        8.0       92.0\n"
     ]
    },
    {
     "output_type": "display_data",
     "data": {
      "text/plain": [
       "<Figure size 1600x800 with 2 Axes>"
      ],
      "image/png": "[encoded data removed]"
     },
     "metadata": {
      "needs_background": "light"
     }
    },
    {
     "output_type": "display_data",
     "data": {
      "text/plain": [
       "<Figure size 1600x800 with 2 Axes>"
      ],
      "image/png": "[encoded data removed]"
     },
     "metadata": {
      "needs_background": "light"
     }
    }
   ],
   "metadata": {}
  },
  {
   "cell_type": "code",
   "execution_count": 103,
   "source": [
    "# DAYS_BIRTH\n",
    "df_ca['AGE'] = (df_ca['DAYS_BIRTH']/365)*(-1)\n",
    "df_ca.boxplot(column='AGE', by='TARGET', figsize = (20, 6))\n",
    "df_ca[CA_CLIENT_COLUMNS + ['AGE']].describe()"
   ],
   "outputs": [
    {
     "output_type": "execute_result",
     "data": {
      "text/plain": [
       "        CNT_CHILDREN  AMT_INCOME_TOTAL  REGION_POPULATION_RELATIVE  \\\n",
       "count  307511.000000      3.075110e+05               307511.000000   \n",
       "mean        0.417052      1.687979e+05                    0.020868   \n",
       "std         0.722121      2.371231e+05                    0.013831   \n",
       "min         0.000000      2.565000e+04                    0.000290   \n",
       "25%         0.000000      1.125000e+05                    0.010006   \n",
       "50%         0.000000      1.471500e+05                    0.018850   \n",
       "75%         1.000000      2.025000e+05                    0.028663   \n",
       "max        19.000000      1.170000e+08                    0.072508   \n",
       "\n",
       "          DAYS_BIRTH  DAYS_EMPLOYED    OWN_CAR_AGE  CNT_FAM_MEMBERS  \\\n",
       "count  307511.000000  307511.000000  104582.000000    307509.000000   \n",
       "mean   -16036.995067   63815.045904      12.061091         2.152665   \n",
       "std      4363.988632  141275.766519      11.944812         0.910682   \n",
       "min    -25229.000000  -17912.000000       0.000000         1.000000   \n",
       "25%    -19682.000000   -2760.000000       5.000000         2.000000   \n",
       "50%    -15750.000000   -1213.000000       9.000000         2.000000   \n",
       "75%    -12413.000000    -289.000000      15.000000         3.000000   \n",
       "max     -7489.000000  365243.000000      91.000000        20.000000   \n",
       "\n",
       "       DAYS_LAST_PHONE_CHANGE            AGE  \n",
       "count           307510.000000  307511.000000  \n",
       "mean              -962.858788      43.936973  \n",
       "std                826.808487      11.956133  \n",
       "min              -4292.000000      20.517808  \n",
       "25%              -1570.000000      34.008219  \n",
       "50%               -757.000000      43.150685  \n",
       "75%               -274.000000      53.923288  \n",
       "max                  0.000000      69.120548  "
      ],
      "text/html": [
       "<div>\n",
       "<style scoped>\n",
       "    .dataframe tbody tr th:only-of-type {\n",
       "        vertical-align: middle;\n",
       "    }\n",
       "\n",
       "    .dataframe tbody tr th {\n",
       "        vertical-align: top;\n",
       "    }\n",
       "\n",
       "    .dataframe thead th {\n",
       "        text-align: right;\n",
       "    }\n",
       "</style>\n",
       "<table border=\"1\" class=\"dataframe\">\n",
       "  <thead>\n",
       "    <tr style=\"text-align: right;\">\n",
       "      <th></th>\n",
       "      <th>CNT_CHILDREN</th>\n",
       "      <th>AMT_INCOME_TOTAL</th>\n",
       "      <th>REGION_POPULATION_RELATIVE</th>\n",
       "      <th>DAYS_BIRTH</th>\n",
       "      <th>DAYS_EMPLOYED</th>\n",
       "      <th>OWN_CAR_AGE</th>\n",
       "      <th>CNT_FAM_MEMBERS</th>\n",
       "      <th>DAYS_LAST_PHONE_CHANGE</th>\n",
       "      <th>AGE</th>\n",
       "    </tr>\n",
       "  </thead>\n",
       "  <tbody>\n",
       "    <tr>\n",
       "      <th>count</th>\n",
       "      <td>307511.000000</td>\n",
       "      <td>3.075110e+05</td>\n",
       "      <td>307511.000000</td>\n",
       "      <td>307511.000000</td>\n",
       "      <td>307511.000000</td>\n",
       "      <td>104582.000000</td>\n",
       "      <td>307509.000000</td>\n",
       "      <td>307510.000000</td>\n",
       "      <td>307511.000000</td>\n",
       "    </tr>\n",
       "    <tr>\n",
       "      <th>mean</th>\n",
       "      <td>0.417052</td>\n",
       "      <td>1.687979e+05</td>\n",
       "      <td>0.020868</td>\n",
       "      <td>-16036.995067</td>\n",
       "      <td>63815.045904</td>\n",
       "      <td>12.061091</td>\n",
       "      <td>2.152665</td>\n",
       "      <td>-962.858788</td>\n",
       "      <td>43.936973</td>\n",
       "    </tr>\n",
       "    <tr>\n",
       "      <th>std</th>\n",
       "      <td>0.722121</td>\n",
       "      <td>2.371231e+05</td>\n",
       "      <td>0.013831</td>\n",
       "      <td>4363.988632</td>\n",
       "      <td>141275.766519</td>\n",
       "      <td>11.944812</td>\n",
       "      <td>0.910682</td>\n",
       "      <td>826.808487</td>\n",
       "      <td>11.956133</td>\n",
       "    </tr>\n",
       "    <tr>\n",
       "      <th>min</th>\n",
       "      <td>0.000000</td>\n",
       "      <td>2.565000e+04</td>\n",
       "      <td>0.000290</td>\n",
       "      <td>-25229.000000</td>\n",
       "      <td>-17912.000000</td>\n",
       "      <td>0.000000</td>\n",
       "      <td>1.000000</td>\n",
       "      <td>-4292.000000</td>\n",
       "      <td>20.517808</td>\n",
       "    </tr>\n",
       "    <tr>\n",
       "      <th>25%</th>\n",
       "      <td>0.000000</td>\n",
       "      <td>1.125000e+05</td>\n",
       "      <td>0.010006</td>\n",
       "      <td>-19682.000000</td>\n",
       "      <td>-2760.000000</td>\n",
       "      <td>5.000000</td>\n",
       "      <td>2.000000</td>\n",
       "      <td>-1570.000000</td>\n",
       "      <td>34.008219</td>\n",
       "    </tr>\n",
       "    <tr>\n",
       "      <th>50%</th>\n",
       "      <td>0.000000</td>\n",
       "      <td>1.471500e+05</td>\n",
       "      <td>0.018850</td>\n",
       "      <td>-15750.000000</td>\n",
       "      <td>-1213.000000</td>\n",
       "      <td>9.000000</td>\n",
       "      <td>2.000000</td>\n",
       "      <td>-757.000000</td>\n",
       "      <td>43.150685</td>\n",
       "    </tr>\n",
       "    <tr>\n",
       "      <th>75%</th>\n",
       "      <td>1.000000</td>\n",
       "      <td>2.025000e+05</td>\n",
       "      <td>0.028663</td>\n",
       "      <td>-12413.000000</td>\n",
       "      <td>-289.000000</td>\n",
       "      <td>15.000000</td>\n",
       "      <td>3.000000</td>\n",
       "      <td>-274.000000</td>\n",
       "      <td>53.923288</td>\n",
       "    </tr>\n",
       "    <tr>\n",
       "      <th>max</th>\n",
       "      <td>19.000000</td>\n",
       "      <td>1.170000e+08</td>\n",
       "      <td>0.072508</td>\n",
       "      <td>-7489.000000</td>\n",
       "      <td>365243.000000</td>\n",
       "      <td>91.000000</td>\n",
       "      <td>20.000000</td>\n",
       "      <td>0.000000</td>\n",
       "      <td>69.120548</td>\n",
       "    </tr>\n",
       "  </tbody>\n",
       "</table>\n",
       "</div>"
      ]
     },
     "metadata": {},
     "execution_count": 103
    },
    {
     "output_type": "display_data",
     "data": {
      "text/plain": [
       "<Figure size 1440x432 with 1 Axes>"
      ],
      "image/png": "[encoded data removed]"
     },
     "metadata": {
      "needs_background": "light"
     }
    }
   ],
   "metadata": {}
  },
  {
   "cell_type": "code",
   "execution_count": null,
   "source": [
    "df_ca[['REGION_RATING_CLIENT']].info()\n",
    "df_ca.astype({'REGION_RATING_CLIENT': 'category'})\n",
    "df_ca[['REGION_RATING_CLIENT']].info()\n",
    "df_ca[['REGION_RATING_CLIENT', 'REGION_RATING_CLIENT_W_CITY']].isna().sum()\n",
    "df_ca['REGION_RATING_CLIENT'] = df_ca['REGION_RATING_CLIENT'].apply(lambda x: str(x))\n",
    "df_ca['REGION_RATING_CLIENT_W_CITY'] = df_ca['REGION_RATING_CLIENT'].apply(lambda x: str(x))\n",
    "print('REGION_RATING_CLIENT:', df_ca['REGION_RATING_CLIENT'].unique().tolist()) \n",
    "print('REGION_RATING_CLIENT_W_CITY:',df_ca['REGION_RATING_CLIENT_W_CITY'].unique().tolist())\n",
    "df_ca[df_ca['REGION_RATING_CLIENT'] != df_ca['REGION_RATING_CLIENT_W_CITY']]\n",
    "# TODO: Are labels matching the plot xticks? \n",
    "compare(df_ca, 'REGION_RATING_CLIENT', ['1', '2', '3'], 'Region')\n",
    "# compare(df_ca, 'REGION_RATING_CLIENT_W_CITY', ['1', '2', '3'], 'Region W city')\n",
    "print(df_ca.loc[df_ca['REGION_RATING_CLIENT'] != df_ca['REGION_RATING_CLIENT_W_CITY']][['REGION_RATING_CLIENT', 'REGION_RATING_CLIENT_W_CITY']].shape[0])\n",
    "print(df_ca.loc[df_ca['REGION_RATING_CLIENT'] > df_ca['REGION_RATING_CLIENT_W_CITY']][['REGION_RATING_CLIENT', 'REGION_RATING_CLIENT_W_CITY']].shape[0])\n",
    "print(df_ca.loc[df_ca['REGION_RATING_CLIENT'] < df_ca['REGION_RATING_CLIENT_W_CITY']][['REGION_RATING_CLIENT', 'REGION_RATING_CLIENT_W_CITY']].shape[0])"
   ],
   "outputs": [],
   "metadata": {}
  },
  {
   "cell_type": "markdown",
   "source": [
    "- Both REGION_RATING_CLIENT and REGION_RATING_CLIENT_W_CITY have same values. So only one can be considered\n",
    "-  Clients from regions 3 have difficulty in paying off"
   ],
   "metadata": {}
  },
  {
   "cell_type": "markdown",
   "source": [
    "### 2. Character - Credit Worthiness\n",
    "- AMT_REQ_CREDIT_BUREAU_*\n",
    "- "
   ],
   "metadata": {}
  },
  {
   "cell_type": "code",
   "execution_count": null,
   "source": [
    "df_ca[(df_ca['SK_ID_CURR'].isin(curr_ids_multiple_prev_app))]['TARGET'].value_counts()\n",
    "round(100. * df_ca['TARGET'].value_counts()/ len(df_ca['TARGET']),2)\n",
    "df_ca[df_ca['TARGET'] == 1].to_csv(\"out/defaulter_curr_ids.csv\")"
   ],
   "outputs": [],
   "metadata": {}
  },
  {
   "cell_type": "code",
   "execution_count": 98,
   "source": [
    "for col in ['AMT_REQ_CREDIT_BUREAU_HOUR', 'AMT_REQ_CREDIT_BUREAU_DAY', 'AMT_REQ_CREDIT_BUREAU_WEEK', \n",
    "            'AMT_REQ_CREDIT_BUREAU_MON', 'AMT_REQ_CREDIT_BUREAU_QRT', 'AMT_REQ_CREDIT_BUREAU_YEAR']:\n",
    "    print(f\"{col}: {percent(df_ca[col].isna().sum(),df_ca.shape[0])}%\")\n",
    "    print(df_ca[col].unique().tolist())\n",
    "    #compare(df_ca, col, col,figsize=(20, 10))"
   ],
   "outputs": [
    {
     "output_type": "stream",
     "name": "stdout",
     "text": [
      "AMT_REQ_CREDIT_BUREAU_HOUR: 14%\n",
      "[0.0, nan, 1.0, 2.0, 3.0, 4.0]\n",
      "AMT_REQ_CREDIT_BUREAU_DAY: 14%\n",
      "[0.0, nan, 1.0, 3.0, 2.0, 4.0, 5.0, 6.0, 9.0, 8.0]\n",
      "AMT_REQ_CREDIT_BUREAU_WEEK: 14%\n",
      "[0.0, nan, 1.0, 3.0, 2.0, 4.0, 5.0, 6.0, 8.0, 7.0]\n",
      "AMT_REQ_CREDIT_BUREAU_MON: 14%\n",
      "[0.0, nan, 1.0, 2.0, 6.0, 5.0, 3.0, 7.0, 9.0, 4.0, 11.0, 8.0, 16.0, 12.0, 14.0, 10.0, 13.0, 17.0, 24.0, 19.0, 15.0, 23.0, 18.0, 27.0, 22.0]\n",
      "AMT_REQ_CREDIT_BUREAU_QRT: 14%\n",
      "[0.0, nan, 1.0, 2.0, 4.0, 3.0, 8.0, 5.0, 6.0, 7.0, 261.0, 19.0]\n",
      "AMT_REQ_CREDIT_BUREAU_YEAR: 14%\n",
      "[1.0, 0.0, nan, 2.0, 4.0, 5.0, 3.0, 8.0, 6.0, 9.0, 7.0, 10.0, 11.0, 13.0, 16.0, 12.0, 25.0, 23.0, 15.0, 14.0, 22.0, 17.0, 19.0, 18.0, 21.0, 20.0]\n"
     ]
    }
   ],
   "metadata": {}
  },
  {
   "cell_type": "code",
   "execution_count": 99,
   "source": [
    "col = 'AMT_REQ_CREDIT_BUREAU_QRT'\n",
    "print(f\"{col}: {percent(df_ca[col].isna().sum(),df_ca.shape[0])}%\")\n",
    "print(df_ca[col].unique().tolist())\n",
    "compare(df_ca, col, col,figsize=(20, 10))"
   ],
   "outputs": [
    {
     "output_type": "stream",
     "name": "stdout",
     "text": [
      "AMT_REQ_CREDIT_BUREAU_QRT: 14%\n",
      "[0.0, nan, 1.0, 2.0, 4.0, 3.0, 8.0, 5.0, 6.0, 7.0, 261.0, 19.0]\n",
      "24825\n",
      "282686\n",
      "                              Total  Target=1  Target=0  Target=1%  Target=0%\n",
      "AMT_REQ_CREDIT_BUREAU_QRT                                                    \n",
      "0.0                        215417.0   16905.0    198512        8.0       92.0\n",
      "1.0                         33862.0    2227.0     31635        7.0       93.0\n",
      "2.0                         14412.0    1203.0     13209        8.0       92.0\n",
      "3.0                          1717.0     126.0      1591        7.0       93.0\n",
      "4.0                           476.0      57.0       419       12.0       88.0\n",
      "5.0                            64.0       6.0        58        9.0       91.0\n",
      "6.0                            28.0       7.0        21       25.0       75.0\n",
      "7.0                             7.0       1.0         6       14.0       86.0\n",
      "8.0                             NaN       NaN         7        NaN        NaN\n",
      "261.0                           NaN       NaN         1        NaN        NaN\n"
     ]
    },
    {
     "output_type": "display_data",
     "data": {
      "text/plain": [
       "<Figure size 1600x800 with 2 Axes>"
      ],
      "image/png": "[encoded data removed]"
     },
     "metadata": {
      "needs_background": "light"
     }
    }
   ],
   "metadata": {}
  },
  {
   "cell_type": "code",
   "execution_count": 51,
   "source": [
    "compare(df_ca, 'OCCUPATION_TYPE', 'Occupation Type', ['Laborers', 'Core staff', 'Accountants', 'Managers','Drivers','Sales staff','Cleaning staff',\n",
    " 'Cooking staff', 'Private service staff', 'Medicine staff', 'Security staff','High skill tech staff','Waiters/barmen staff',\n",
    " 'Low-skill Laborers', 'Realty agents','Secretaries', 'IT staff', 'HR staff'], figsize=(20, 10))"
   ],
   "outputs": [
    {
     "output_type": "stream",
     "name": "stdout",
     "text": [
      "24825\n",
      "282686\n",
      "                       Total  Target=1  Target=0  Target=1%  Target=0%\n",
      "OCCUPATION_TYPE                                                       \n",
      "Accountants             9813       474      9339        5.0       95.0\n",
      "Cleaning staff          4653       447      4206       10.0       90.0\n",
      "Cooking staff           5946       621      5325       10.0       90.0\n",
      "Core staff             27570      1738     25832        6.0       94.0\n",
      "Drivers                18603      2107     16496       11.0       89.0\n",
      "HR staff                 563        36       527        6.0       94.0\n",
      "High skill tech staff  11380       701     10679        6.0       94.0\n",
      "IT staff                 526        34       492        6.0       94.0\n",
      "Laborers               55186      5838     49348       11.0       89.0\n",
      "Low-skill Laborers      2093       359      1734       17.0       83.0\n",
      "Managers               21371      1328     20043        6.0       94.0\n",
      "Medicine staff          8537       572      7965        7.0       93.0\n",
      "Private service staff   2652       175      2477        7.0       93.0\n",
      "Realty agents            751        59       692        8.0       92.0\n",
      "Sales staff            32102      3092     29010       10.0       90.0\n",
      "Secretaries             1305        92      1213        7.0       93.0\n",
      "Security staff          6721       722      5999       11.0       89.0\n",
      "Waiters/barmen staff    1348       152      1196       11.0       89.0\n"
     ]
    },
    {
     "output_type": "display_data",
     "data": {
      "text/plain": [
       "<Figure size 1600x800 with 2 Axes>"
      ],
      "image/png": "[encoded data removed]"
     },
     "metadata": {
      "needs_background": "light"
     }
    }
   ],
   "metadata": {}
  },
  {
   "cell_type": "markdown",
   "source": [
    "#### OBSERVATIONS:\n",
    "- **Gender**: More percentage of male clients have difficulties in paying off\n",
    "- **Education**: Clients with lower education have difficulties in paying off. Clients with academic degree are paying off. \n",
    "- **Occupation**: Clients who are private service staff find it difficult in paying off\n",
    "- **Housing Type**: Clients in REnted apartment or staying at parents house have difficulties in paying off\n",
    "\n",
    "TODO: Add income-credit info here"
   ],
   "metadata": {}
  },
  {
   "cell_type": "markdown",
   "source": [
    "#### Credit history"
   ],
   "metadata": {}
  },
  {
   "cell_type": "code",
   "execution_count": null,
   "source": [
    "df_pa.groupby(by='SK_ID_CURR').agg({'SK_ID_PREV':'count'})"
   ],
   "outputs": [],
   "metadata": {}
  },
  {
   "cell_type": "code",
   "execution_count": null,
   "source": [
    "df_pa_ca_status = df_pa.pivot_table(index='SK_ID_CURR', values=['SK_ID_PREV'],columns=['NAME_CONTRACT_STATUS'], aggfunc=['count'],fill_value=0) \n",
    "df_pa_ca_status.columns = df_pa_ca_status.columns.droplevel()\n",
    "df_pa_ca_status.columns = df_pa_ca_status.columns.droplevel()\n",
    "df_pa_ca_status"
   ],
   "outputs": [],
   "metadata": {}
  },
  {
   "cell_type": "code",
   "execution_count": null,
   "source": [
    "df_pa_ca_counts = df_pa.pivot_table(index='SK_ID_CURR', values=['SK_ID_PREV'], aggfunc=['count'],fill_value=0) \n",
    "df_pa_ca_counts.columns = df_pa_ca_counts.columns.droplevel()\n",
    "df_pa_ca_counts.rename(columns={'SK_ID_PREV':'Total Prev Apps'}, inplace=True)\n",
    "df_pa_ca_counts"
   ],
   "outputs": [],
   "metadata": {}
  },
  {
   "cell_type": "code",
   "execution_count": null,
   "source": [
    "df_pa_ca = df_pa_ca_counts.merge(df_pa_ca_status, how='inner', on='SK_ID_CURR')\n",
    "df_pa_ca.reset_index(inplace=True)\n",
    "df_pa_ca"
   ],
   "outputs": [],
   "metadata": {}
  },
  {
   "cell_type": "code",
   "execution_count": null,
   "source": [
    "df_pa_ca['Refused%'] = round((df_pa_ca['Refused']/df_pa_ca['Total Prev Apps'])*100,2)\n",
    "df_pa_ca[df_pa_ca['Refused%'] > 50].sort_values(by='Refused%', ascending= False)"
   ],
   "outputs": [],
   "metadata": {}
  },
  {
   "cell_type": "code",
   "execution_count": null,
   "source": [
    "print(df_pa.shape[0], df_pa_ca['Total Prev Apps'].sum())"
   ],
   "outputs": [],
   "metadata": {}
  },
  {
   "cell_type": "code",
   "execution_count": null,
   "source": [
    "curr_ids_rej_pa = df_pa_ca[df_pa_ca['Refused%'] > 75 ]['SK_ID_CURR']\n",
    "print(curr_ids_rej_pa.shape[0])\n",
    "curr_ids_rej_pa = curr_ids_rej_pa.tolist()\n",
    "curr_ids_rej_pa[0:4]"
   ],
   "outputs": [],
   "metadata": {}
  },
  {
   "cell_type": "code",
   "execution_count": null,
   "source": [
    "df_ca[df_ca['SK_ID_CURR'].isin(curr_ids_rej_pa)]#.groupby('TARGET').agg({'TARGET':'count'})"
   ],
   "outputs": [],
   "metadata": {}
  },
  {
   "cell_type": "code",
   "execution_count": null,
   "source": [
    "pa_curr_ids = df_pa['SK_ID_CURR'].unique().tolist(); print(type(pa_curr_ids), len(pa_curr_ids), pa_curr_ids[0:4])\n",
    "ca_curr_ids = df_ca['SK_ID_CURR'].unique().tolist(); print(type(ca_curr_ids), len(ca_curr_ids), ca_curr_ids[0:4])\n",
    "\n",
    "curr_ids_with_prev_apps = list(set(pa_curr_ids) & set(ca_curr_ids))\n",
    "print(\"Curr ids with prev apps:\", type(curr_ids_with_prev_apps), len(curr_ids_with_prev_apps), curr_ids_with_prev_apps[0:4])\n",
    "\n",
    "curr_ids_wo_prev_apps = set(ca_curr_ids).difference(set(pa_curr_ids))\n",
    "print(\"Curr ids w/o prev apps:\", type(curr_ids_wo_prev_apps), len(curr_ids_wo_prev_apps), list(curr_ids_wo_prev_apps)[0:4])\n",
    "\n",
    "print(\"Verification: \", len(curr_ids_with_prev_apps) + len(curr_ids_wo_prev_apps), len(ca_curr_ids))"
   ],
   "outputs": [],
   "metadata": {}
  },
  {
   "cell_type": "markdown",
   "source": [
    "### 3. Capacity <a class=\"anchor\" id=\"capacity\"></a>\n",
    "Borrower's ability to repay the loan\n",
    "- Debt-to-income (DTI) ratio = total monthyl dept/gross monthly income\n",
    "- DTI < 35% is safe\n",
    "- Length of time an applicant is employed at their current job\n",
    "\n",
    "Columns\n",
    "- INCOME\n",
    "- FLAG_OWN_CAR, FLAG_OWN_REALTY\n",
    "\n",
    "* [Realty & Car](#realty-car)\n",
    "* [Income](#income)\n",
    "\n",
    "Borrower's ability to repay the loan\n",
    "- Current debt\n",
    "- Income\n",
    "- Length of time employed at current job\n",
    "\n",
    "\n",
    "COLUMNS\n",
    "- FLAG_OWN_CAR      - categorical\n",
    "- FLAG_OWN_REALTY   - categorical\n",
    "- AMT_INCOME_TOTAL  - numerical, continuous, float"
   ],
   "metadata": {}
  },
  {
   "cell_type": "markdown",
   "source": [
    "- FLAG_OWN_REALTY == 'Y' does not mean the client is staying there.\n",
    "- NAME_HOUSING_TYPE indicates the type of housing where the client is staying. Not what he/she owns."
   ],
   "metadata": {}
  },
  {
   "cell_type": "code",
   "execution_count": null,
   "source": [
    "df_ca[df_ca['FLAG_OWN_REALTY'] == 'Y'][['SK_ID_CURR','NAME_HOUSING_TYPE']].sort_values(by='NAME_HOUSING_TYPE', ascending=False)\n",
    "df_ca[ (df_ca['FLAG_OWN_REALTY'] == 'N') & (~ df_ca['NAME_HOUSING_TYPE'].isna()) ][['SK_ID_CURR','FLAG_OWN_REALTY', 'NAME_HOUSING_TYPE']]"
   ],
   "outputs": [],
   "metadata": {}
  },
  {
   "cell_type": "code",
   "execution_count": null,
   "source": [
    "for col in ['FLAG_OWN_CAR', 'FLAG_OWN_REALTY','NAME_INCOME_TYPE', 'NAME_EDUCATION_TYPE','NAME_HOUSING_TYPE', 'OCCUPATION_TYPE', 'ORGANIZATION_TYPE']:\n",
    "    df_= makeDFForTargets(df_ca, col)\n",
    "    plotBar(df_, f\"{col} Vs Target\")\n",
    "df_ca['AMT_INCOME_TOTAL']\n",
    "df_ca.boxplot(column='AMT_INCOME_TOTAL', by='TARGET', figsize = (20, 6))\n",
    "df_ca.quantile([0.9, 0.95, .9999])['AMT_INCOME_TOTAL']\n",
    "CA_CLIENT_COLUMNS = df_columns[(df_columns['Table']=='application_data') & (df_columns['Category']=='CLIENT')]['Row'].tolist()\n",
    "CA_APPLICATION_COLUMNS = df_columns[(df_columns['Table']=='application_data') & (df_columns['Category']=='APPLICATION')]['Row'].tolist()\n",
    "CA_BUILDING_COLUMNS = df_columns[(df_columns['Table']=='application_data') & (df_columns['Category']=='BUILDING')]['Row'].tolist()\n",
    "df_ca_maxincome = df_ca.iloc[df_ca['AMT_INCOME_TOTAL'].idxmax()][['SK_ID_CURR','AMT_INCOME_TOTAL'] + CA_CLIENT_COLUMNS ]\n",
    "df_ca_maxincome[CA_CLIENT_COLUMNS]"
   ],
   "outputs": [],
   "metadata": {}
  },
  {
   "cell_type": "markdown",
   "source": [
    "#### Income, Credit, Goods"
   ],
   "metadata": {}
  },
  {
   "cell_type": "code",
   "execution_count": null,
   "source": [
    "df_ca.iloc[df_ca['AMT_INCOME_TOTAL'].idxmax()][['SK_ID_CURR','AMT_INCOME_TOTAL']]"
   ],
   "outputs": [],
   "metadata": {}
  },
  {
   "cell_type": "code",
   "execution_count": null,
   "source": [
    "\n",
    "df_ca_red = df_ca[df_ca['SK_ID_CURR'] != 114967]\n",
    "print(df_ca.shape[0], df_ca_red.shape[0])"
   ],
   "outputs": [],
   "metadata": {}
  },
  {
   "cell_type": "code",
   "execution_count": null,
   "source": [
    "plt.figure(figsize=(20, 6), dpi=80)\n",
    "plt.subplot(1, 3, 1)\n",
    "ax = sns.scatterplot(df_ca_red['AMT_INCOME_TOTAL'], df_ca_red['AMT_CREDIT']); ax.set_xscale('log'); ax.set_title(\"Income Vs Credit\")\n",
    "plt.subplot(1, 3, 2)\n",
    "ax = sns.scatterplot(df_ca_red['AMT_INCOME_TOTAL'], df_ca_red['AMT_GOODS_PRICE']); ax.set_xscale('log'); ax.set_title(\"Income Vs Goods Price\")\n",
    "plt.subplot(1, 3, 3)\n",
    "ax = sns.scatterplot(df_ca_red['AMT_GOODS_PRICE'], df_ca_red['AMT_CREDIT']); ax.set_title(\"Goods Price Vs Credit\")\n",
    "plt.show()\n",
    "\n",
    "# TODO: How to get the outliers? "
   ],
   "outputs": [],
   "metadata": {}
  },
  {
   "cell_type": "markdown",
   "source": [
    "#### Realty Car <a name=\"realty-car\"></a>"
   ],
   "metadata": {}
  },
  {
   "cell_type": "code",
   "execution_count": null,
   "source": [
    "print(\"Missing values: \")\n",
    "for col in ['FLAG_OWN_CAR', 'FLAG_OWN_REALTY', 'AMT_INCOME_TOTAL']:\n",
    "    print(f\"{col:27}: {df_ca[col].isna().sum():7}\")\n",
    "df_ca[df_ca['FLAG_OWN_CAR'] == 'Y'][['SK_ID_CURR','OWN_CAR_AGE']].sort_values(by='OWN_CAR_AGE', ascending=False)\n",
    "# TODO: OWN_CAR_AGE has NaN values where FLAG_OWN_CAR='Y'\n",
    "# OWN_CAR_AGE - what is the unit? Is it in months or days?\n",
    "#  Verify if car is not owned but has car age provided\n",
    "df_ca[ (df_ca['FLAG_OWN_CAR'] == 'N') & (~df_ca['OWN_CAR_AGE'].isna()) ][['SK_ID_CURR','FLAG_OWN_CAR', 'OWN_CAR_AGE']]\n",
    "for col in ['FLAG_OWN_CAR', 'FLAG_OWN_REALTY']:\n",
    "    df_= makeDFForTargets1(df_ca, col)\n",
    "    print(df_.columns.to_list())\n",
    "    plotBar(df_, f\"{col} Vs Target\")\n",
    "\n",
    "# Whether a client owns a car/house or not does not seem to impact their ability to make payment"
   ],
   "outputs": [],
   "metadata": {}
  },
  {
   "cell_type": "markdown",
   "source": [
    "#### Income <a class=\"anchor\" id=\"income\"></a>"
   ],
   "metadata": {}
  },
  {
   "cell_type": "code",
   "execution_count": null,
   "source": [
    "df_ca.boxplot(column='AMT_INCOME_TOTAL', by='TARGET', figsize = (20, 6))"
   ],
   "outputs": [],
   "metadata": {}
  },
  {
   "cell_type": "markdown",
   "source": [
    "The boxplot shows that most of the incomes lie in a small range. While a few are extremely high. Is there a better visualization of this?"
   ],
   "metadata": {}
  },
  {
   "cell_type": "code",
   "execution_count": null,
   "source": [
    "#df_ca.plot.line(x='AMT_INCOME_TOTAL')"
   ],
   "outputs": [],
   "metadata": {}
  },
  {
   "cell_type": "code",
   "execution_count": null,
   "source": [
    "df_ca.hist('AMT_INCOME_TOTAL', bins=228)"
   ],
   "outputs": [],
   "metadata": {}
  },
  {
   "cell_type": "code",
   "execution_count": null,
   "source": [
    "# AMT_INCOME_TOTAL - numerical, continuous, float\n",
    "# - No missing values\n",
    "# - The spread is very skewed. So bin the income groups\n",
    "# - Are there any particular income groups that struggle to pay back loans? or pay comfortably?\n",
    "# - Income and other variables like credit amount\n",
    "print(df_ca[['AMT_INCOME_TOTAL']].mean(), df_ca[['AMT_INCOME_TOTAL']].median())\n",
    "print(df_ca[['AMT_INCOME_TOTAL']].quantile([0, 0.00005, 0.0005, 0.005, 0.05, 0.1, 0.25, 0.5, 0.75, 0.9, 0.99999, 1]))"
   ],
   "outputs": [],
   "metadata": {}
  },
  {
   "cell_type": "code",
   "execution_count": null,
   "source": [
    "print(getIQR(df_ca,'AMT_INCOME_TOTAL'), getMaxScore(df_ca,'AMT_INCOME_TOTAL'))"
   ],
   "outputs": [],
   "metadata": {}
  },
  {
   "cell_type": "code",
   "execution_count": null,
   "source": [
    "# Bin the AMT_INCOME_TOTAL into smaller groups\n",
    "df_ca_copy = df_ca.copy()\n",
    "df_ca_copy['INCOME_GROUP'] = pd.cut(df_ca_copy['AMT_INCOME_TOTAL'], [0, 50000, 100000, 1000000, 5000000, 200000000], labels=['<50K', '<1L', '<10L', '<50L', '>50L'])\n",
    "income_groups = df_ca_copy['INCOME_GROUP'].value_counts(sort=False)\n",
    "print(income_groups)\n",
    "#plotBar(income_groups,\"Income Groups\", w=8, h=4, logy=True)\n",
    "\n",
    "# Group the income bins based on TARGET\n",
    "df_ca_copy_income = groupPerTarget(df_ca_copy, 'INCOME_GROUP')\n",
    "plotBar(df_ca_copy_income[['Target=0%','Target=1%']], \"Income Vs Target\")\n",
    "\n",
    "df_ca_copy_income\n",
    "\n",
    "# TODO: \n",
    "# - Add % in the annotation\n",
    "# - Plot according to quartile and check"
   ],
   "outputs": [],
   "metadata": {}
  },
  {
   "cell_type": "markdown",
   "source": [
    "##### **Observations**\n",
    "- The spread of the income is very high. So binned the income groups"
   ],
   "metadata": {}
  },
  {
   "cell_type": "code",
   "execution_count": null,
   "source": [
    "df_ca.iloc[df_ca['AMT_INCOME_TOTAL'].idxmax()][['SK_ID_CURR','AMT_INCOME_TOTAL', 'AMT_CREDIT', 'AMT_GOODS_PRICE']] # + CA_CLIENT_COLUMNS ]"
   ],
   "outputs": [],
   "metadata": {}
  },
  {
   "cell_type": "code",
   "execution_count": null,
   "source": [
    "df_ca_max_income = df_ca[df_ca['SK_ID_CURR'] < 114967]\n",
    "id, income, credit, goods_price = df_ca.iloc[df_ca['AMT_INCOME_TOTAL'].idxmax()][['SK_ID_CURR','AMT_INCOME_TOTAL', 'AMT_CREDIT', 'AMT_GOODS_PRICE']].to_list()\n",
    "print(id, income, credit, goods_price, round(100 * credit/income,2))\n",
    "print(100 * df_ca_max_income['AMT_CREDIT']/df_ca_max_income['AMT_INCOME_TOTAL'])"
   ],
   "outputs": [],
   "metadata": {}
  },
  {
   "cell_type": "markdown",
   "source": [
    "Max income value is 11 crores. Goods price is 4.5L and credit value is 5.6 L. The loan amount is < 1% of the income which seems bizzare. This can be removed."
   ],
   "metadata": {}
  },
  {
   "cell_type": "code",
   "execution_count": null,
   "source": [
    "df_ca_red = df_ca[df_ca['AMT_INCOME_TOTAL'] < getMaxScore(df_ca,'AMT_INCOME_TOTAL')]\n",
    "print(df_ca.shape[0], df_ca_red.shape[0])"
   ],
   "outputs": [],
   "metadata": {}
  },
  {
   "cell_type": "code",
   "execution_count": null,
   "source": [
    "# Outliers - box plot\n",
    "df_ca_red.boxplot(column='AMT_INCOME_TOTAL', by='TARGET', figsize = (20, 6))"
   ],
   "outputs": [],
   "metadata": {}
  },
  {
   "cell_type": "markdown",
   "source": [
    "### 4. Capital\n",
    "- Down payment indicates borrower's level of seriousness\n",
    "- Downpayment size\n",
    "- Overall wealth that borrower possess - Car, Realty"
   ],
   "metadata": {}
  },
  {
   "cell_type": "markdown",
   "source": [
    "#### Building"
   ],
   "metadata": {}
  },
  {
   "cell_type": "code",
   "execution_count": 102,
   "source": [
    "df_ca[CA_BUILDING_COLUMNS]\n",
    "df_ca['BUILDING'] = 0\n",
    "for col in ['APARTMENTS_MEDI', 'BASEMENTAREA_MEDI', 'YEARS_BUILD_MEDI', 'COMMONAREA_MEDI', 'LANDAREA_MEDI', 'LIVINGAREA_MEDI', 'NONLIVINGAREA_MEDI']:\n",
    "    print(f\"{col}: {percent(df_ca[col].isna().sum(), df_ca.shape[0])}%\")\n",
    "    df_ca['BUILDING'] = df_ca[col]\n",
    "print(f\"BUILDING {percent(df_ca['BUILDING'].isna().sum(), df_ca.shape[0])}%\")"
   ],
   "outputs": [
    {
     "output_type": "stream",
     "name": "stdout",
     "text": [
      "APARTMENTS_MEDI: 51%\n",
      "BASEMENTAREA_MEDI: 59%\n",
      "YEARS_BUILD_MEDI: 66%\n",
      "COMMONAREA_MEDI: 70%\n",
      "LANDAREA_MEDI: 59%\n",
      "LIVINGAREA_MEDI: 50%\n",
      "NONLIVINGAREA_MEDI: 55%\n",
      "BUILDING 55%\n"
     ]
    }
   ],
   "metadata": {}
  },
  {
   "cell_type": "markdown",
   "source": [
    "- Since most information about the building is not present we could ignore this variable in our analysis"
   ],
   "metadata": {}
  },
  {
   "cell_type": "markdown",
   "source": [
    "#### Application"
   ],
   "metadata": {}
  },
  {
   "cell_type": "code",
   "execution_count": null,
   "source": [
    "df_ca['OWN_CAR_AGE'].describe()\n",
    "for col in ['AMT_CREDIT', 'AMT_ANNUITY', 'AMT_GOODS_PRICE']:\n",
    "    df_ca.boxplot(column=col, by='TARGET', figsize = (20, 6))"
   ],
   "outputs": [],
   "metadata": {}
  },
  {
   "cell_type": "code",
   "execution_count": null,
   "source": [
    "df_ca[['SK_ID_CURR'] + CA_APPLICATION_COLUMNS]"
   ],
   "outputs": [],
   "metadata": {}
  },
  {
   "cell_type": "code",
   "execution_count": null,
   "source": [
    "CA_FLAG_DOCUMENT_COLUMNS = list(filter(lambda x: x[:14] == 'FLAG_DOCUMENT_', df_ca.columns.tolist()))\n",
    "CA_FLAG_DOCUMENT_COLUMNS"
   ],
   "outputs": [],
   "metadata": {}
  },
  {
   "cell_type": "code",
   "execution_count": null,
   "source": [
    "import functools\n",
    "#df_ca['FLAG_DOCUMENT'] = df_ca[CA_FLAG_DOCUMENT_COLUMNS].apply(lambda row: functools.reduce(lambda a, b: a+b, row))\n",
    "df_ca['FLAG_DOCUMENT'] = functools.reduce(lambda a, b: a+b, [df_ca[col] for col in CA_FLAG_DOCUMENT_COLUMNS])\n",
    "df_ca[['SK_ID_CURR', 'FLAG_DOCUMENT'] + CA_FLAG_DOCUMENT_COLUMNS]"
   ],
   "outputs": [],
   "metadata": {}
  },
  {
   "cell_type": "code",
   "execution_count": null,
   "source": [
    "df_ca['FLAG_DOCUMENT'].describe()"
   ],
   "outputs": [],
   "metadata": {}
  },
  {
   "cell_type": "code",
   "execution_count": null,
   "source": [
    "#  df_ca.plot.bar('FLAG_DOCUMENT', figsize = (20, 6))\n",
    "df_ca['FLAG_DOCUMENT'].value_counts()"
   ],
   "outputs": [],
   "metadata": {}
  },
  {
   "cell_type": "code",
   "execution_count": null,
   "source": [
    "df_ca[df_ca['FLAG_DOCUMENT']==4]"
   ],
   "outputs": [],
   "metadata": {}
  },
  {
   "cell_type": "markdown",
   "source": [
    "## Data Standardisation\n",
    "- Remove decimals from the amounts\n",
    "- Convert age to years & months - not days\n",
    "- Convert amounts to K or L? \n",
    "- Convert numeric flags to categorical values"
   ],
   "metadata": {}
  },
  {
   "cell_type": "markdown",
   "source": [
    "## Data Cleaning - Handle missing data"
   ],
   "metadata": {}
  },
  {
   "cell_type": "code",
   "execution_count": null,
   "source": [
    "## Missing Values\n",
    "listColumsWithMissingData(df_ca)"
   ],
   "outputs": [],
   "metadata": {}
  },
  {
   "cell_type": "code",
   "execution_count": null,
   "source": [
    "listColumsWithMissingData(df_pa)"
   ],
   "outputs": [],
   "metadata": {}
  },
  {
   "cell_type": "markdown",
   "source": [
    "## Outliers"
   ],
   "metadata": {}
  },
  {
   "cell_type": "markdown",
   "source": [
    "## Correlation "
   ],
   "metadata": {}
  },
  {
   "cell_type": "code",
   "execution_count": null,
   "source": [
    "df_ca.columns.tolist()[:50]"
   ],
   "outputs": [],
   "metadata": {}
  },
  {
   "cell_type": "code",
   "execution_count": null,
   "source": [
    "sns.heatmap(df_ca[['AMT_INCOME_TOTAL','AMT_CREDIT','AMT_GOODS_PRICE','TARGET']].corr());plt.show()"
   ],
   "outputs": [],
   "metadata": {}
  },
  {
   "cell_type": "code",
   "execution_count": null,
   "source": [
    "sns.pairplot(data=df_ca_red[['AMT_INCOME_TOTAL','AMT_CREDIT','AMT_GOODS_PRICE','TARGET']])"
   ],
   "outputs": [],
   "metadata": {}
  },
  {
   "cell_type": "code",
   "execution_count": null,
   "source": [
    "plotBar(df_ca_red['CNT_CHILDREN'])"
   ],
   "outputs": [],
   "metadata": {}
  }
 ],
 "metadata": {
  "kernelspec": {
   "name": "python3",
   "display_name": "Python 3.7.9 64-bit ('venv': venv)"
  },
  "language_info": {
   "codemirror_mode": {
    "name": "ipython",
    "version": 3
   },
   "file_extension": ".py",
   "mimetype": "text/x-python",
   "name": "python",
   "nbconvert_exporter": "python",
   "pygments_lexer": "ipython3",
   "version": "3.7.9"
  },
  "orig_nbformat": 3,
  "interpreter": {
   "hash": "f97d34db9510eee530bd15462a1472e6c8ea8cdd282363a5122dd2d3fb534a0c"
  }
 },
 "nbformat": 4,
 "nbformat_minor": 2
}