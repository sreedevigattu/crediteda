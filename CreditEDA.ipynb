{
 "cells": [
  {
   "cell_type": "code",
   "execution_count": 1,
   "source": [
    "# Filtering out the warnings\n",
    "import warnings\n",
    "warnings.filterwarnings('ignore')"
   ],
   "outputs": [],
   "metadata": {}
  },
  {
   "cell_type": "code",
   "execution_count": 2,
   "source": [
    "#Import the required Libraries.\n",
    "import numpy as np\n",
    "import pandas as pd\n",
    "import matplotlib.pyplot as plt\n",
    "import seaborn as sns"
   ],
   "outputs": [],
   "metadata": {}
  },
  {
   "cell_type": "markdown",
   "source": [
    "## Notes"
   ],
   "metadata": {}
  },
  {
   "cell_type": "markdown",
   "source": [
    "- There could be multiple applications from the same customer\n",
    "- Amounts -> Can they be rounded off?\n",
    "\n",
    "AMT_APPLICATION, AMT_CREDIT, AMT_GOODS_PRICE\n",
    "- Goods Vs Amount loan\n",
    "- Is lesser amount given than that is asked for? AMT_APPLICATION\tAMT_CREDIT\t\n",
    "- Is more amount asked for than that is needed? AMT_APPLICATION\tAMT_GOODS_PRICE\n",
    "- No information on whether the applicant has paid off the previous loans\n",
    "- AMT_DOWN_PAYMENT & RATE_DOWN_PAYMENT occur together\n",
    "\n",
    "Current Application & Previous Application\n",
    "- Do all clients with current application have entries in previous application?\n",
    "- For each Client, number of previous applications & how many were completed.\n",
    "- 1 curr_id has multiple prev_ids. Add number of prev_ids associated with this curr_id\n",
    "\n",
    "Others\n",
    "- Replace all FLAG_DOCUMENT with a single FLAG_DOCUMENT with the sum\n",
    "- Correlation matrix\n",
    "- No information on whether the applicant has paid off the previous loans\n",
    "- Columns have empty values\n",
    "- Merge 2 datasets\n",
    "- How to show/hide output - o"
   ],
   "metadata": {}
  },
  {
   "cell_type": "markdown",
   "source": [
    "1. Data Cleaning: \n",
    "    - Remove the irrelevant columns. \n",
    "    - Remove/impute the missing values\n",
    "2. Outlier handling:\n",
    "    - Univariate: ordered or unordered, or it may be a numerical variable.\n",
    "        - Categorical unordered:\n",
    "        - Categorical ordered\n",
    "        - Numerical variable: mean, median, mode, quantiles, and box plots, \n",
    "            - continuous\n",
    "            - discrete \n",
    "        - Convert numerical variables into categorical ones\n",
    "    - Multivariate  \n",
    "        -  Bivariate: \n",
    "            - correlation and scatter plots on numerical variables\n",
    "            - numerical and categorical variables: Boxplot\n",
    "            - two categorical variables: bar graph\n",
    "        -  Multivariate: heat maps \n",
    "3. Standardising values\n",
    "Fixing invalid values\n",
    "Filter data\n"
   ],
   "metadata": {}
  },
  {
   "cell_type": "markdown",
   "source": [
    "### Table of Contents <a class=\"anchor\" id=\"toc\"></a>\n",
    "\n",
    "* [Definitions](#definitions)\n",
    "    * [Section 1.1](#section_1_1)\n",
    "    * [Section 1.2](sSection_1_2)\n",
    "        * [Section 1.2.1](#section_1_2_1)\n",
    "        * [Section 1.2.2](#section_1_2_2)\n",
    "        * [Section 1.2.3](#section_1_2_3)\n",
    "* [Chapter 2](#chapter2)\n",
    "    * [Section 2.1](#section_2_1)\n",
    "    * [Section 2.2](#section_2_2)\n"
   ],
   "metadata": {}
  },
  {
   "cell_type": "markdown",
   "source": [
    "## Problem Statement"
   ],
   "metadata": {}
  },
  {
   "cell_type": "markdown",
   "source": [
    "## Definitions <a class=\"anchor\" id=\"definitions\"></a> [TOC](#toc)"
   ],
   "metadata": {}
  },
  {
   "cell_type": "code",
   "execution_count": 3,
   "source": [
    "def percent(val, total):\n",
    "    return round(100 * val/total, 2)\n",
    "\n",
    "def getIQR(df, col):\n",
    "    Q1, Q3 = df[col].quantile(0.25), df[col].quantile(0.75)\n",
    "    return Q3 - Q1\n",
    "\n",
    "def getMaxScore(df, col):\n",
    "    Q3 = df[col].quantile(0.75)\n",
    "    iqr = getIQR(df, col)\n",
    "    return Q3 + 1.5 * iqr\n",
    "\n",
    "def listColumsWithMissingData(df):\n",
    "    [ print(f\"{col:30}  {df[col].isna().sum(): 7d} {100 * df[col].isna().sum()/df.shape[0]: 2.1f}%\") for col in df.columns if df[col].isna().any() ]\n",
    "\n",
    "def getCategoricalValues(df):\n",
    "    cat_columns = df.select_dtypes(include=['object']).columns.tolist()\n",
    "    cat_columns.sort()\n",
    "    print(f\"Columns with categorical values {len(cat_columns)} --> {cat_columns}\")\n",
    "    for col in cat_columns:\n",
    "        count_values = df[col].unique().shape[0]\n",
    "        print(f\"{col:27} : [{count_values:2}] --> {sorted((df[col].unique().tolist())) if np.NaN not in df[col].unique().tolist() else (df[col].unique().tolist())}\")\n",
    "        \n",
    "def getNumCategoricalValues(df, ncat_columns):\n",
    "    ncat_columns.sort()\n",
    "    print(f\"Columns with categorical values {len(ncat_columns)}\")\n",
    "    for col in ncat_columns:\n",
    "        count_values = df[col].unique().shape[0]\n",
    "        if count_values > 30:\n",
    "            print(f\"{col:26} : [{count_values:4}] --> {sorted(df[col].unique().tolist()[:10])}...{sorted(df[col].unique().tolist()[-10:])}\") \n",
    "        else:\n",
    "            print(f\"{col:26} : [{count_values:4}] --> {sorted(df[col].unique().tolist())}\") \n",
    "\n",
    "def makeDFForTarget(df, col, taretVal):\n",
    "    df_ = df[df['TARGET']==taretVal][[col,'TARGET']]\n",
    "    cnt = df_.shape[0]\n",
    "    df_ = groupByAndCount(df_, col, skipPercent=False)\n",
    "    df_.rename(columns={'Count':f'Target={taretVal}'},inplace=True)\n",
    "    #print(df_)\n",
    "    return df_, cnt\n",
    "\n",
    "\n",
    "def makeDFForTargets(df, col):\n",
    "    df_1, cnt_1 = makeDFForTarget(df, col, 1)\n",
    "    df_0, cnt_0 = makeDFForTarget(df, col, 0)\n",
    "    print(cnt_1, cnt_0)\n",
    "\n",
    "    df_ = df_0.merge(df_1, how='left',on=col)\n",
    "    print(df_)\n",
    "    df_.set_index(col, inplace=True)\n",
    "    return df_\n",
    "\n",
    "\n",
    "def groupByAndCount(df, col, sort = True, skipPercent=True):\n",
    "    total_rows = df.shape[0]\n",
    "    df_ = df.groupby(by=col).agg({col:\"count\"})\n",
    "    df_.rename(columns={col:'Count'}, inplace=True)\n",
    "    df_.reset_index(inplace=True)\n",
    "    if sort == True: df_.sort_values(by='Count', ascending=False, inplace=True)\n",
    "    if not skipPercent:\n",
    "        df_['%'] = round((df_['Count']/total_rows)*100,2)\n",
    "    return df_\n",
    "    \n",
    "def groupPerTarget(df, col):\n",
    "    df_1 = df[df['TARGET']==1][[col,'TARGET']]\n",
    "    cnt_1 = df_1.shape[0]\n",
    "    df_1 = groupByAndCount(df_1, col, sort = False)\n",
    "    df_1.rename(columns={'Count':'Target=1'},inplace=True)\n",
    "    #print(df_1)\n",
    "\n",
    "    df_0 = df[df['TARGET']==0][[ col,'TARGET']]\n",
    "    cnt_0 = df_0.shape[0]\n",
    "    df_0 = groupByAndCount(df_0, col, sort = False)\n",
    "    df_0.rename(columns={'Count':'Target=0'},inplace=True)\n",
    "    #print(df_0)\n",
    "\n",
    "\n",
    "    df_ = df_0.merge(df_1, how='left',on=col)\n",
    "    df_['Total'] = df_['Target=0'] + df_['Target=1']\n",
    "    df_['Target=0%'] = percent(df_['Target=0'], df_['Total']) \n",
    "    df_['Target=1%'] = percent(df_['Target=1'], df_['Total'])\n",
    "    df_.set_index(col, inplace=True)\n",
    "\n",
    "    #df_[['Total', 'Target=1', 'Target=0']].astype('int32')\n",
    "    df_= df_[['Total', 'Target=1', 'Target=0', 'Target=1%', 'Target=0%' ]]\n",
    "\n",
    "    print(f\"df_1: {cnt_1}, df_0: {cnt_0}\")\n",
    "    print(df_)\n",
    "    \n",
    "    return df_\n",
    "\n",
    "# -----\n",
    "def groupByTargetAndCount(df, value, sort = True, skipPercent=True):\n",
    "    total_rows = df.shape[0]\n",
    "    df_ = df.groupby(by='TARGET').agg({'TARGET':\"count\"})\n",
    "    df_.rename(columns={'TARGET': f'{value}_Count'}, inplace=True)\n",
    "    df_.reset_index(inplace=True)\n",
    "    if sort == True: df_.sort_values(by=f'{value}_Count', ascending=False, inplace=True)\n",
    "    if not skipPercent:\n",
    "        df_[f'{value}_%'] = round((df_[f'{value}_Count']/total_rows)*100,2)\n",
    "    return df_\n",
    "\n",
    "def makeDFForTarget1(df, col, value):\n",
    "    df_ = df[df[col]==value][[col,'TARGET']]\n",
    "    #print(df_)\n",
    "    cnt = df_.shape[0]\n",
    "    df_ = groupByTargetAndCount(df_, value, skipPercent=False)\n",
    "    return df_, cnt\n",
    "\n",
    "\n",
    "def makeDFForTargets1(df, col):\n",
    "    df_1, cnt_1 = makeDFForTarget1(df_ca, col, 'N')\n",
    "    df_0, cnt_0 = makeDFForTarget1(df_ca, col, 'Y')\n",
    "    print(cnt_1, cnt_0)\n",
    "    df_ = df_0.merge(df_1, how='left',on='TARGET')\n",
    "    print(df_)\n",
    "    df_.set_index('TARGET', inplace=True)\n",
    "    df_ = df_.transpose()\n",
    "    df_ = df_.loc[['Y_%', 'N_%']]\n",
    "    return df_\n",
    "# ---"
   ],
   "outputs": [],
   "metadata": {}
  },
  {
   "cell_type": "code",
   "execution_count": 4,
   "source": [
    "def plotBar(df, title, w=10, h=10, logy=False):\n",
    "    plt.figure(figsize=(w, h), dpi=80)\n",
    "    ax = df.plot.bar(logy=logy) \n",
    "    # Annotate\n",
    "    for p in ax.patches:\n",
    "        ax.annotate(format(p.get_height(), '.0f'), \n",
    "                    (p.get_x() + p.get_width() / 2., p.get_height()), \n",
    "                    ha = 'center', va = 'center', \n",
    "                    xytext = (0, 9), \n",
    "                    textcoords = 'offset points')\n",
    "    ax.set_title(title)\n",
    "    plt.show()\n",
    "\n",
    "def annotate(ax):\n",
    "    for p in ax.patches:\n",
    "        ax.annotate(format(p.get_height(), '.0f'), \n",
    "                    (p.get_x() + p.get_width() / 2., p.get_height()), \n",
    "                    ha = 'center', va = 'center', \n",
    "                    xytext = (0, 9), \n",
    "                    textcoords = 'offset points')\n",
    "\n",
    "def plotScatter(df, col1, col2, title, pos=1, log=False):\n",
    "    plt.subplot(1, 2, pos)\n",
    "    ax = df.plot.scatter(col1, col2,figsize=(10, 6))\n",
    "    if log == True: ax.set_xscale('log')\n",
    "    ax.set_title(title)\n",
    "    plt.show()\n",
    "\n",
    "# TODO: annotation - add %\n",
    "def compare(df, col, title, labels=[], figsize=(10, 6)):\n",
    "    df_ = groupPerTarget(df, col)\n",
    "\n",
    "    plt.figure(dpi=80) #figsize=(20, 6),dpi=80\n",
    "    plt.subplot(1, 2, 1)\n",
    "\n",
    "    ax = df_[['Target=0','Target=1']].plot.bar(ax=plt.gca(), logy=True, figsize=figsize, rot=90)\n",
    "    annotate(ax)\n",
    "    if labels: ax.set_xticklabels(labels=labels, rotation=45)\n",
    "    ax.set_title(f\"{title} Vs Target - Absolute values\")\n",
    "\n",
    "    plt.subplot(1, 2, 2)\n",
    "    ax = df_[['Target=0%','Target=1%']].plot.bar(ax=plt.gca(), logy=True, figsize=figsize)\n",
    "    annotate(ax)\n",
    "    if labels: ax.set_xticklabels(labels=labels, rotation=45)\n",
    "    ax.set_title(f\"{title} Vs Target - %age values\")"
   ],
   "outputs": [],
   "metadata": {}
  },
  {
   "cell_type": "markdown",
   "source": [
    "## Data Exploration - Previous Application"
   ],
   "metadata": {}
  },
  {
   "cell_type": "markdown",
   "source": [
    "### Data Reading & Data Types "
   ],
   "metadata": {}
  },
  {
   "cell_type": "code",
   "execution_count": 5,
   "source": [
    "#Read the data in pandas\n",
    "df_pa = pd.read_csv(\"data/previous_application.csv\")"
   ],
   "outputs": [],
   "metadata": {}
  },
  {
   "cell_type": "code",
   "execution_count": 6,
   "source": [
    "df_pa.info()"
   ],
   "outputs": [
    {
     "output_type": "stream",
     "name": "stdout",
     "text": [
      "<class 'pandas.core.frame.DataFrame'>\n",
      "RangeIndex: 1048575 entries, 0 to 1048574\n",
      "Data columns (total 37 columns):\n",
      " #   Column                       Non-Null Count    Dtype  \n",
      "---  ------                       --------------    -----  \n",
      " 0   SK_ID_PREV                   1048575 non-null  int64  \n",
      " 1   SK_ID_CURR                   1048575 non-null  int64  \n",
      " 2   NAME_CONTRACT_TYPE           1048575 non-null  object \n",
      " 3   AMT_ANNUITY                  815566 non-null   float64\n",
      " 4   AMT_APPLICATION              1048575 non-null  float64\n",
      " 5   AMT_CREDIT                   1048575 non-null  float64\n",
      " 6   AMT_DOWN_PAYMENT             489179 non-null   float64\n",
      " 7   AMT_GOODS_PRICE              807610 non-null   float64\n",
      " 8   WEEKDAY_APPR_PROCESS_START   1048575 non-null  object \n",
      " 9   HOUR_APPR_PROCESS_START      1048575 non-null  int64  \n",
      " 10  FLAG_LAST_APPL_PER_CONTRACT  1048575 non-null  object \n",
      " 11  NFLAG_LAST_APPL_IN_DAY       1048575 non-null  int64  \n",
      " 12  RATE_DOWN_PAYMENT            489179 non-null   float64\n",
      " 13  RATE_INTEREST_PRIMARY        3721 non-null     float64\n",
      " 14  RATE_INTEREST_PRIVILEGED     3721 non-null     float64\n",
      " 15  NAME_CASH_LOAN_PURPOSE       1048575 non-null  object \n",
      " 16  NAME_CONTRACT_STATUS         1048575 non-null  object \n",
      " 17  DAYS_DECISION                1048575 non-null  int64  \n",
      " 18  NAME_PAYMENT_TYPE            1048575 non-null  object \n",
      " 19  CODE_REJECT_REASON           1048575 non-null  object \n",
      " 20  NAME_TYPE_SUITE              533435 non-null   object \n",
      " 21  NAME_CLIENT_TYPE             1048575 non-null  object \n",
      " 22  NAME_GOODS_CATEGORY          1048575 non-null  object \n",
      " 23  NAME_PORTFOLIO               1048575 non-null  object \n",
      " 24  NAME_PRODUCT_TYPE            1048575 non-null  object \n",
      " 25  CHANNEL_TYPE                 1048575 non-null  object \n",
      " 26  SELLERPLACE_AREA             1048575 non-null  int64  \n",
      " 27  NAME_SELLER_INDUSTRY         1048575 non-null  object \n",
      " 28  CNT_PAYMENT                  815569 non-null   float64\n",
      " 29  NAME_YIELD_GROUP             1048575 non-null  object \n",
      " 30  PRODUCT_COMBINATION          1048351 non-null  object \n",
      " 31  DAYS_FIRST_DRAWING           627867 non-null   float64\n",
      " 32  DAYS_FIRST_DUE               627867 non-null   float64\n",
      " 33  DAYS_LAST_DUE_1ST_VERSION    627867 non-null   float64\n",
      " 34  DAYS_LAST_DUE                627867 non-null   float64\n",
      " 35  DAYS_TERMINATION             627867 non-null   float64\n",
      " 36  NFLAG_INSURED_ON_APPROVAL    627867 non-null   float64\n",
      "dtypes: float64(15), int64(6), object(16)\n",
      "memory usage: 296.0+ MB\n"
     ]
    }
   ],
   "metadata": {}
  },
  {
   "cell_type": "code",
   "execution_count": 7,
   "source": [
    "PA_COLUMNS = df_pa.columns.tolist()\n",
    "PA_ID_COLUMNS = ['SK_ID_PREV','SK_ID_CURR']\n",
    "PA_NCAT_COLUMNS = ['NFLAG_INSURED_ON_APPROVAL', 'NFLAG_LAST_APPL_IN_DAY', 'SELLERPLACE_AREA', 'HOUR_APPR_PROCESS_START']\n",
    "print(len(max(PA_COLUMNS)))\n",
    "getNumCategoricalValues(df_pa, PA_NCAT_COLUMNS)"
   ],
   "outputs": [
    {
     "output_type": "stream",
     "name": "stdout",
     "text": [
      "26\n",
      "Columns with categorical values 4\n",
      "HOUR_APPR_PROCESS_START    : [  24] --> [0, 1, 2, 3, 4, 5, 6, 7, 8, 9, 10, 11, 12, 13, 14, 15, 16, 17, 18, 19, 20, 21, 22, 23]\n",
      "NFLAG_INSURED_ON_APPROVAL  : [   3] --> [0.0, 1.0, nan]\n",
      "NFLAG_LAST_APPL_IN_DAY     : [   2] --> [0, 1]\n",
      "SELLERPLACE_AREA           : [2023] --> [-1, 6, 20, 35, 50, 61, 83, 130, 136, 200]...[1633, 1749, 1854, 1910, 2173, 2867, 3126, 3322, 5557, 6052]\n"
     ]
    }
   ],
   "metadata": {}
  },
  {
   "cell_type": "code",
   "execution_count": 8,
   "source": [
    "getCategoricalValues(df_pa)"
   ],
   "outputs": [
    {
     "output_type": "stream",
     "name": "stdout",
     "text": [
      "Columns with categorical values 16 --> ['CHANNEL_TYPE', 'CODE_REJECT_REASON', 'FLAG_LAST_APPL_PER_CONTRACT', 'NAME_CASH_LOAN_PURPOSE', 'NAME_CLIENT_TYPE', 'NAME_CONTRACT_STATUS', 'NAME_CONTRACT_TYPE', 'NAME_GOODS_CATEGORY', 'NAME_PAYMENT_TYPE', 'NAME_PORTFOLIO', 'NAME_PRODUCT_TYPE', 'NAME_SELLER_INDUSTRY', 'NAME_TYPE_SUITE', 'NAME_YIELD_GROUP', 'PRODUCT_COMBINATION', 'WEEKDAY_APPR_PROCESS_START']\n",
      "CHANNEL_TYPE                : [ 8] --> ['AP+ (Cash loan)', 'Car dealer', 'Channel of corporate sales', 'Contact center', 'Country-wide', 'Credit and cash offices', 'Regional / Local', 'Stone']\n",
      "CODE_REJECT_REASON          : [ 9] --> ['CLIENT', 'HC', 'LIMIT', 'SCO', 'SCOFR', 'SYSTEM', 'VERIF', 'XAP', 'XNA']\n",
      "FLAG_LAST_APPL_PER_CONTRACT : [ 2] --> ['N', 'Y']\n",
      "NAME_CASH_LOAN_PURPOSE      : [25] --> ['Building a house or an annex', 'Business development', 'Buying a garage', 'Buying a holiday home / land', 'Buying a home', 'Buying a new car', 'Buying a used car', 'Car repairs', 'Education', 'Everyday expenses', 'Furniture', 'Gasification / water supply', 'Hobby', 'Journey', 'Medicine', 'Money for a third person', 'Other', 'Payments on other loans', 'Purchase of electronic equipment', 'Refusal to name the goal', 'Repairs', 'Urgent needs', 'Wedding / gift / holiday', 'XAP', 'XNA']\n",
      "NAME_CLIENT_TYPE            : [ 4] --> ['New', 'Refreshed', 'Repeater', 'XNA']\n",
      "NAME_CONTRACT_STATUS        : [ 4] --> ['Approved', 'Canceled', 'Refused', 'Unused offer']\n",
      "NAME_CONTRACT_TYPE          : [ 4] --> ['Cash loans', 'Consumer loans', 'Revolving loans', 'XNA']\n",
      "NAME_GOODS_CATEGORY         : [28] --> ['Additional Service', 'Animals', 'Audio/Video', 'Auto Accessories', 'Clothing and Accessories', 'Computers', 'Construction Materials', 'Consumer Electronics', 'Direct Sales', 'Education', 'Fitness', 'Furniture', 'Gardening', 'Homewares', 'House Construction', 'Insurance', 'Jewelry', 'Medical Supplies', 'Medicine', 'Mobile', 'Office Appliances', 'Other', 'Photo / Cinema Equipment', 'Sport and Leisure', 'Tourism', 'Vehicles', 'Weapon', 'XNA']\n",
      "NAME_PAYMENT_TYPE           : [ 4] --> ['Cash through the bank', 'Cashless from the account of the employer', 'Non-cash from your account', 'XNA']\n",
      "NAME_PORTFOLIO              : [ 5] --> ['Cards', 'Cars', 'Cash', 'POS', 'XNA']\n",
      "NAME_PRODUCT_TYPE           : [ 3] --> ['XNA', 'walk-in', 'x-sell']\n",
      "NAME_SELLER_INDUSTRY        : [11] --> ['Auto technology', 'Clothing', 'Connectivity', 'Construction', 'Consumer electronics', 'Furniture', 'Industry', 'Jewelry', 'MLM partners', 'Tourism', 'XNA']\n",
      "NAME_TYPE_SUITE             : [ 8] --> [nan, 'Unaccompanied', 'Spouse, partner', 'Family', 'Children', 'Other_B', 'Other_A', 'Group of people']\n",
      "NAME_YIELD_GROUP            : [ 5] --> ['XNA', 'high', 'low_action', 'low_normal', 'middle']\n",
      "PRODUCT_COMBINATION         : [18] --> ['POS mobile with interest', 'Cash X-Sell: low', 'Cash X-Sell: high', 'Cash X-Sell: middle', 'Cash Street: high', 'Cash', 'POS household without interest', 'POS household with interest', 'POS other with interest', 'Card X-Sell', 'POS mobile without interest', 'Card Street', 'POS industry with interest', 'Cash Street: low', 'POS industry without interest', 'Cash Street: middle', 'POS others without interest', nan]\n",
      "WEEKDAY_APPR_PROCESS_START  : [ 7] --> ['FRIDAY', 'MONDAY', 'SATURDAY', 'SUNDAY', 'THURSDAY', 'TUESDAY', 'WEDNESDAY']\n"
     ]
    }
   ],
   "metadata": {}
  },
  {
   "cell_type": "code",
   "execution_count": 9,
   "source": [
    "df_pa[df_pa.columns.difference(PA_ID_COLUMNS + PA_NCAT_COLUMNS)].describe()"
   ],
   "outputs": [
    {
     "output_type": "execute_result",
     "data": {
      "text/plain": [
       "         AMT_ANNUITY  AMT_APPLICATION    AMT_CREDIT  AMT_DOWN_PAYMENT  \\\n",
       "count  815566.000000     1.048575e+06  1.048575e+06      4.891790e+05   \n",
       "mean    15891.265151     1.742698e+05  1.950000e+05      6.700778e+03   \n",
       "std     14745.557438     2.910789e+05  3.169407e+05      2.078570e+04   \n",
       "min         0.000000     0.000000e+00  0.000000e+00     -9.000000e-01   \n",
       "25%      6301.350000     1.890000e+04  2.427750e+04      0.000000e+00   \n",
       "50%     11250.000000     7.081650e+04  8.025300e+04      1.624500e+03   \n",
       "75%     20523.003750     1.800000e+05  2.152395e+05      7.749000e+03   \n",
       "max    418058.145000     6.905160e+06  6.905160e+06      2.150100e+06   \n",
       "\n",
       "       AMT_GOODS_PRICE    CNT_PAYMENT  DAYS_DECISION  DAYS_FIRST_DRAWING  \\\n",
       "count     8.076100e+05  815569.000000   1.048575e+06       627867.000000   \n",
       "mean      2.262892e+05      15.995639  -8.820381e+02       342387.346201   \n",
       "std       3.134490e+05      14.508109   7.792649e+02        88595.441587   \n",
       "min       0.000000e+00       0.000000  -2.922000e+03        -2921.000000   \n",
       "25%       5.058000e+04       6.000000  -1.303000e+03       365243.000000   \n",
       "50%       1.115116e+05      12.000000  -5.830000e+02       365243.000000   \n",
       "75%       2.295000e+05      24.000000  -2.810000e+02       365243.000000   \n",
       "max       6.905160e+06      84.000000  -2.000000e+00       365243.000000   \n",
       "\n",
       "       DAYS_FIRST_DUE  DAYS_LAST_DUE  DAYS_LAST_DUE_1ST_VERSION  \\\n",
       "count   627867.000000  627867.000000              627867.000000   \n",
       "mean     13833.802031   76591.061435               33614.930898   \n",
       "std      72460.126454  149653.053854              106643.960780   \n",
       "min      -2892.000000   -2889.000000               -2801.000000   \n",
       "25%      -1626.000000   -1313.000000               -1241.000000   \n",
       "50%       -830.000000    -537.000000                -361.000000   \n",
       "75%       -410.000000     -74.000000                 128.000000   \n",
       "max     365243.000000  365243.000000              365243.000000   \n",
       "\n",
       "       DAYS_TERMINATION  RATE_DOWN_PAYMENT  RATE_INTEREST_PRIMARY  \\\n",
       "count     627867.000000      489179.000000            3721.000000   \n",
       "mean       81985.701661           0.079619               0.187177   \n",
       "std       153298.887247           0.107882               0.083343   \n",
       "min        -2874.000000          -0.000014               0.034781   \n",
       "25%        -1269.000000           0.000000               0.160716   \n",
       "50%         -498.000000           0.051062               0.189122   \n",
       "75%          -44.000000           0.108909               0.193330   \n",
       "max       365243.000000           0.989740               1.000000   \n",
       "\n",
       "       RATE_INTEREST_PRIVILEGED  \n",
       "count               3721.000000  \n",
       "mean                   0.774922  \n",
       "std                    0.099514  \n",
       "min                    0.373150  \n",
       "25%                    0.715645  \n",
       "50%                    0.835095  \n",
       "75%                    0.852537  \n",
       "max                    1.000000  "
      ],
      "text/html": [
       "<div>\n",
       "<style scoped>\n",
       "    .dataframe tbody tr th:only-of-type {\n",
       "        vertical-align: middle;\n",
       "    }\n",
       "\n",
       "    .dataframe tbody tr th {\n",
       "        vertical-align: top;\n",
       "    }\n",
       "\n",
       "    .dataframe thead th {\n",
       "        text-align: right;\n",
       "    }\n",
       "</style>\n",
       "<table border=\"1\" class=\"dataframe\">\n",
       "  <thead>\n",
       "    <tr style=\"text-align: right;\">\n",
       "      <th></th>\n",
       "      <th>AMT_ANNUITY</th>\n",
       "      <th>AMT_APPLICATION</th>\n",
       "      <th>AMT_CREDIT</th>\n",
       "      <th>AMT_DOWN_PAYMENT</th>\n",
       "      <th>AMT_GOODS_PRICE</th>\n",
       "      <th>CNT_PAYMENT</th>\n",
       "      <th>DAYS_DECISION</th>\n",
       "      <th>DAYS_FIRST_DRAWING</th>\n",
       "      <th>DAYS_FIRST_DUE</th>\n",
       "      <th>DAYS_LAST_DUE</th>\n",
       "      <th>DAYS_LAST_DUE_1ST_VERSION</th>\n",
       "      <th>DAYS_TERMINATION</th>\n",
       "      <th>RATE_DOWN_PAYMENT</th>\n",
       "      <th>RATE_INTEREST_PRIMARY</th>\n",
       "      <th>RATE_INTEREST_PRIVILEGED</th>\n",
       "    </tr>\n",
       "  </thead>\n",
       "  <tbody>\n",
       "    <tr>\n",
       "      <th>count</th>\n",
       "      <td>815566.000000</td>\n",
       "      <td>1.048575e+06</td>\n",
       "      <td>1.048575e+06</td>\n",
       "      <td>4.891790e+05</td>\n",
       "      <td>8.076100e+05</td>\n",
       "      <td>815569.000000</td>\n",
       "      <td>1.048575e+06</td>\n",
       "      <td>627867.000000</td>\n",
       "      <td>627867.000000</td>\n",
       "      <td>627867.000000</td>\n",
       "      <td>627867.000000</td>\n",
       "      <td>627867.000000</td>\n",
       "      <td>489179.000000</td>\n",
       "      <td>3721.000000</td>\n",
       "      <td>3721.000000</td>\n",
       "    </tr>\n",
       "    <tr>\n",
       "      <th>mean</th>\n",
       "      <td>15891.265151</td>\n",
       "      <td>1.742698e+05</td>\n",
       "      <td>1.950000e+05</td>\n",
       "      <td>6.700778e+03</td>\n",
       "      <td>2.262892e+05</td>\n",
       "      <td>15.995639</td>\n",
       "      <td>-8.820381e+02</td>\n",
       "      <td>342387.346201</td>\n",
       "      <td>13833.802031</td>\n",
       "      <td>76591.061435</td>\n",
       "      <td>33614.930898</td>\n",
       "      <td>81985.701661</td>\n",
       "      <td>0.079619</td>\n",
       "      <td>0.187177</td>\n",
       "      <td>0.774922</td>\n",
       "    </tr>\n",
       "    <tr>\n",
       "      <th>std</th>\n",
       "      <td>14745.557438</td>\n",
       "      <td>2.910789e+05</td>\n",
       "      <td>3.169407e+05</td>\n",
       "      <td>2.078570e+04</td>\n",
       "      <td>3.134490e+05</td>\n",
       "      <td>14.508109</td>\n",
       "      <td>7.792649e+02</td>\n",
       "      <td>88595.441587</td>\n",
       "      <td>72460.126454</td>\n",
       "      <td>149653.053854</td>\n",
       "      <td>106643.960780</td>\n",
       "      <td>153298.887247</td>\n",
       "      <td>0.107882</td>\n",
       "      <td>0.083343</td>\n",
       "      <td>0.099514</td>\n",
       "    </tr>\n",
       "    <tr>\n",
       "      <th>min</th>\n",
       "      <td>0.000000</td>\n",
       "      <td>0.000000e+00</td>\n",
       "      <td>0.000000e+00</td>\n",
       "      <td>-9.000000e-01</td>\n",
       "      <td>0.000000e+00</td>\n",
       "      <td>0.000000</td>\n",
       "      <td>-2.922000e+03</td>\n",
       "      <td>-2921.000000</td>\n",
       "      <td>-2892.000000</td>\n",
       "      <td>-2889.000000</td>\n",
       "      <td>-2801.000000</td>\n",
       "      <td>-2874.000000</td>\n",
       "      <td>-0.000014</td>\n",
       "      <td>0.034781</td>\n",
       "      <td>0.373150</td>\n",
       "    </tr>\n",
       "    <tr>\n",
       "      <th>25%</th>\n",
       "      <td>6301.350000</td>\n",
       "      <td>1.890000e+04</td>\n",
       "      <td>2.427750e+04</td>\n",
       "      <td>0.000000e+00</td>\n",
       "      <td>5.058000e+04</td>\n",
       "      <td>6.000000</td>\n",
       "      <td>-1.303000e+03</td>\n",
       "      <td>365243.000000</td>\n",
       "      <td>-1626.000000</td>\n",
       "      <td>-1313.000000</td>\n",
       "      <td>-1241.000000</td>\n",
       "      <td>-1269.000000</td>\n",
       "      <td>0.000000</td>\n",
       "      <td>0.160716</td>\n",
       "      <td>0.715645</td>\n",
       "    </tr>\n",
       "    <tr>\n",
       "      <th>50%</th>\n",
       "      <td>11250.000000</td>\n",
       "      <td>7.081650e+04</td>\n",
       "      <td>8.025300e+04</td>\n",
       "      <td>1.624500e+03</td>\n",
       "      <td>1.115116e+05</td>\n",
       "      <td>12.000000</td>\n",
       "      <td>-5.830000e+02</td>\n",
       "      <td>365243.000000</td>\n",
       "      <td>-830.000000</td>\n",
       "      <td>-537.000000</td>\n",
       "      <td>-361.000000</td>\n",
       "      <td>-498.000000</td>\n",
       "      <td>0.051062</td>\n",
       "      <td>0.189122</td>\n",
       "      <td>0.835095</td>\n",
       "    </tr>\n",
       "    <tr>\n",
       "      <th>75%</th>\n",
       "      <td>20523.003750</td>\n",
       "      <td>1.800000e+05</td>\n",
       "      <td>2.152395e+05</td>\n",
       "      <td>7.749000e+03</td>\n",
       "      <td>2.295000e+05</td>\n",
       "      <td>24.000000</td>\n",
       "      <td>-2.810000e+02</td>\n",
       "      <td>365243.000000</td>\n",
       "      <td>-410.000000</td>\n",
       "      <td>-74.000000</td>\n",
       "      <td>128.000000</td>\n",
       "      <td>-44.000000</td>\n",
       "      <td>0.108909</td>\n",
       "      <td>0.193330</td>\n",
       "      <td>0.852537</td>\n",
       "    </tr>\n",
       "    <tr>\n",
       "      <th>max</th>\n",
       "      <td>418058.145000</td>\n",
       "      <td>6.905160e+06</td>\n",
       "      <td>6.905160e+06</td>\n",
       "      <td>2.150100e+06</td>\n",
       "      <td>6.905160e+06</td>\n",
       "      <td>84.000000</td>\n",
       "      <td>-2.000000e+00</td>\n",
       "      <td>365243.000000</td>\n",
       "      <td>365243.000000</td>\n",
       "      <td>365243.000000</td>\n",
       "      <td>365243.000000</td>\n",
       "      <td>365243.000000</td>\n",
       "      <td>0.989740</td>\n",
       "      <td>1.000000</td>\n",
       "      <td>1.000000</td>\n",
       "    </tr>\n",
       "  </tbody>\n",
       "</table>\n",
       "</div>"
      ]
     },
     "metadata": {},
     "execution_count": 9
    }
   ],
   "metadata": {}
  },
  {
   "cell_type": "code",
   "execution_count": 10,
   "source": [
    "df_pa.loc[df_pa['NAME_PRODUCT_TYPE']!='x-sell'][['NAME_PRODUCT_TYPE','NAME_SELLER_INDUSTRY']]"
   ],
   "outputs": [
    {
     "output_type": "execute_result",
     "data": {
      "text/plain": [
       "        NAME_PRODUCT_TYPE NAME_SELLER_INDUSTRY\n",
       "0                     XNA         Connectivity\n",
       "4                 walk-in                  XNA\n",
       "6                     XNA                  XNA\n",
       "7                     XNA                  XNA\n",
       "8                     XNA                  XNA\n",
       "...                   ...                  ...\n",
       "1048570               XNA             Industry\n",
       "1048571               XNA                  XNA\n",
       "1048572               XNA         Connectivity\n",
       "1048573               XNA         Connectivity\n",
       "1048574               XNA         Connectivity\n",
       "\n",
       "[764147 rows x 2 columns]"
      ],
      "text/html": [
       "<div>\n",
       "<style scoped>\n",
       "    .dataframe tbody tr th:only-of-type {\n",
       "        vertical-align: middle;\n",
       "    }\n",
       "\n",
       "    .dataframe tbody tr th {\n",
       "        vertical-align: top;\n",
       "    }\n",
       "\n",
       "    .dataframe thead th {\n",
       "        text-align: right;\n",
       "    }\n",
       "</style>\n",
       "<table border=\"1\" class=\"dataframe\">\n",
       "  <thead>\n",
       "    <tr style=\"text-align: right;\">\n",
       "      <th></th>\n",
       "      <th>NAME_PRODUCT_TYPE</th>\n",
       "      <th>NAME_SELLER_INDUSTRY</th>\n",
       "    </tr>\n",
       "  </thead>\n",
       "  <tbody>\n",
       "    <tr>\n",
       "      <th>0</th>\n",
       "      <td>XNA</td>\n",
       "      <td>Connectivity</td>\n",
       "    </tr>\n",
       "    <tr>\n",
       "      <th>4</th>\n",
       "      <td>walk-in</td>\n",
       "      <td>XNA</td>\n",
       "    </tr>\n",
       "    <tr>\n",
       "      <th>6</th>\n",
       "      <td>XNA</td>\n",
       "      <td>XNA</td>\n",
       "    </tr>\n",
       "    <tr>\n",
       "      <th>7</th>\n",
       "      <td>XNA</td>\n",
       "      <td>XNA</td>\n",
       "    </tr>\n",
       "    <tr>\n",
       "      <th>8</th>\n",
       "      <td>XNA</td>\n",
       "      <td>XNA</td>\n",
       "    </tr>\n",
       "    <tr>\n",
       "      <th>...</th>\n",
       "      <td>...</td>\n",
       "      <td>...</td>\n",
       "    </tr>\n",
       "    <tr>\n",
       "      <th>1048570</th>\n",
       "      <td>XNA</td>\n",
       "      <td>Industry</td>\n",
       "    </tr>\n",
       "    <tr>\n",
       "      <th>1048571</th>\n",
       "      <td>XNA</td>\n",
       "      <td>XNA</td>\n",
       "    </tr>\n",
       "    <tr>\n",
       "      <th>1048572</th>\n",
       "      <td>XNA</td>\n",
       "      <td>Connectivity</td>\n",
       "    </tr>\n",
       "    <tr>\n",
       "      <th>1048573</th>\n",
       "      <td>XNA</td>\n",
       "      <td>Connectivity</td>\n",
       "    </tr>\n",
       "    <tr>\n",
       "      <th>1048574</th>\n",
       "      <td>XNA</td>\n",
       "      <td>Connectivity</td>\n",
       "    </tr>\n",
       "  </tbody>\n",
       "</table>\n",
       "<p>764147 rows × 2 columns</p>\n",
       "</div>"
      ]
     },
     "metadata": {},
     "execution_count": 10
    }
   ],
   "metadata": {}
  },
  {
   "cell_type": "code",
   "execution_count": 11,
   "source": [
    "df_pa[['NAME_PORTFOLIO', 'NAME_PRODUCT_TYPE','RATE_DOWN_PAYMENT', 'RATE_INTEREST_PRIMARY', 'RATE_INTEREST_PRIVILEGED', 'NAME_YIELD_GROUP', 'PRODUCT_COMBINATION']]"
   ],
   "outputs": [
    {
     "output_type": "execute_result",
     "data": {
      "text/plain": [
       "        NAME_PORTFOLIO NAME_PRODUCT_TYPE  RATE_DOWN_PAYMENT  \\\n",
       "0                  POS               XNA           0.000000   \n",
       "1                 Cash            x-sell                NaN   \n",
       "2                 Cash            x-sell                NaN   \n",
       "3                 Cash            x-sell                NaN   \n",
       "4                 Cash           walk-in                NaN   \n",
       "...                ...               ...                ...   \n",
       "1048570            POS               XNA           0.108909   \n",
       "1048571            XNA               XNA                NaN   \n",
       "1048572            POS               XNA           0.102797   \n",
       "1048573            POS               XNA           0.208048   \n",
       "1048574            POS               XNA           0.535864   \n",
       "\n",
       "         RATE_INTEREST_PRIMARY  RATE_INTEREST_PRIVILEGED NAME_YIELD_GROUP  \\\n",
       "0                     0.182832                  0.867336           middle   \n",
       "1                          NaN                       NaN       low_action   \n",
       "2                          NaN                       NaN             high   \n",
       "3                          NaN                       NaN           middle   \n",
       "4                          NaN                       NaN             high   \n",
       "...                        ...                       ...              ...   \n",
       "1048570                    NaN                       NaN           middle   \n",
       "1048571                    NaN                       NaN              XNA   \n",
       "1048572                    NaN                       NaN       low_normal   \n",
       "1048573                    NaN                       NaN       low_normal   \n",
       "1048574                    NaN                       NaN       low_normal   \n",
       "\n",
       "              PRODUCT_COMBINATION  \n",
       "0        POS mobile with interest  \n",
       "1                Cash X-Sell: low  \n",
       "2               Cash X-Sell: high  \n",
       "3             Cash X-Sell: middle  \n",
       "4               Cash Street: high  \n",
       "...                           ...  \n",
       "1048570   POS other with interest  \n",
       "1048571                      Cash  \n",
       "1048572  POS mobile with interest  \n",
       "1048573  POS mobile with interest  \n",
       "1048574  POS mobile with interest  \n",
       "\n",
       "[1048575 rows x 7 columns]"
      ],
      "text/html": [
       "<div>\n",
       "<style scoped>\n",
       "    .dataframe tbody tr th:only-of-type {\n",
       "        vertical-align: middle;\n",
       "    }\n",
       "\n",
       "    .dataframe tbody tr th {\n",
       "        vertical-align: top;\n",
       "    }\n",
       "\n",
       "    .dataframe thead th {\n",
       "        text-align: right;\n",
       "    }\n",
       "</style>\n",
       "<table border=\"1\" class=\"dataframe\">\n",
       "  <thead>\n",
       "    <tr style=\"text-align: right;\">\n",
       "      <th></th>\n",
       "      <th>NAME_PORTFOLIO</th>\n",
       "      <th>NAME_PRODUCT_TYPE</th>\n",
       "      <th>RATE_DOWN_PAYMENT</th>\n",
       "      <th>RATE_INTEREST_PRIMARY</th>\n",
       "      <th>RATE_INTEREST_PRIVILEGED</th>\n",
       "      <th>NAME_YIELD_GROUP</th>\n",
       "      <th>PRODUCT_COMBINATION</th>\n",
       "    </tr>\n",
       "  </thead>\n",
       "  <tbody>\n",
       "    <tr>\n",
       "      <th>0</th>\n",
       "      <td>POS</td>\n",
       "      <td>XNA</td>\n",
       "      <td>0.000000</td>\n",
       "      <td>0.182832</td>\n",
       "      <td>0.867336</td>\n",
       "      <td>middle</td>\n",
       "      <td>POS mobile with interest</td>\n",
       "    </tr>\n",
       "    <tr>\n",
       "      <th>1</th>\n",
       "      <td>Cash</td>\n",
       "      <td>x-sell</td>\n",
       "      <td>NaN</td>\n",
       "      <td>NaN</td>\n",
       "      <td>NaN</td>\n",
       "      <td>low_action</td>\n",
       "      <td>Cash X-Sell: low</td>\n",
       "    </tr>\n",
       "    <tr>\n",
       "      <th>2</th>\n",
       "      <td>Cash</td>\n",
       "      <td>x-sell</td>\n",
       "      <td>NaN</td>\n",
       "      <td>NaN</td>\n",
       "      <td>NaN</td>\n",
       "      <td>high</td>\n",
       "      <td>Cash X-Sell: high</td>\n",
       "    </tr>\n",
       "    <tr>\n",
       "      <th>3</th>\n",
       "      <td>Cash</td>\n",
       "      <td>x-sell</td>\n",
       "      <td>NaN</td>\n",
       "      <td>NaN</td>\n",
       "      <td>NaN</td>\n",
       "      <td>middle</td>\n",
       "      <td>Cash X-Sell: middle</td>\n",
       "    </tr>\n",
       "    <tr>\n",
       "      <th>4</th>\n",
       "      <td>Cash</td>\n",
       "      <td>walk-in</td>\n",
       "      <td>NaN</td>\n",
       "      <td>NaN</td>\n",
       "      <td>NaN</td>\n",
       "      <td>high</td>\n",
       "      <td>Cash Street: high</td>\n",
       "    </tr>\n",
       "    <tr>\n",
       "      <th>...</th>\n",
       "      <td>...</td>\n",
       "      <td>...</td>\n",
       "      <td>...</td>\n",
       "      <td>...</td>\n",
       "      <td>...</td>\n",
       "      <td>...</td>\n",
       "      <td>...</td>\n",
       "    </tr>\n",
       "    <tr>\n",
       "      <th>1048570</th>\n",
       "      <td>POS</td>\n",
       "      <td>XNA</td>\n",
       "      <td>0.108909</td>\n",
       "      <td>NaN</td>\n",
       "      <td>NaN</td>\n",
       "      <td>middle</td>\n",
       "      <td>POS other with interest</td>\n",
       "    </tr>\n",
       "    <tr>\n",
       "      <th>1048571</th>\n",
       "      <td>XNA</td>\n",
       "      <td>XNA</td>\n",
       "      <td>NaN</td>\n",
       "      <td>NaN</td>\n",
       "      <td>NaN</td>\n",
       "      <td>XNA</td>\n",
       "      <td>Cash</td>\n",
       "    </tr>\n",
       "    <tr>\n",
       "      <th>1048572</th>\n",
       "      <td>POS</td>\n",
       "      <td>XNA</td>\n",
       "      <td>0.102797</td>\n",
       "      <td>NaN</td>\n",
       "      <td>NaN</td>\n",
       "      <td>low_normal</td>\n",
       "      <td>POS mobile with interest</td>\n",
       "    </tr>\n",
       "    <tr>\n",
       "      <th>1048573</th>\n",
       "      <td>POS</td>\n",
       "      <td>XNA</td>\n",
       "      <td>0.208048</td>\n",
       "      <td>NaN</td>\n",
       "      <td>NaN</td>\n",
       "      <td>low_normal</td>\n",
       "      <td>POS mobile with interest</td>\n",
       "    </tr>\n",
       "    <tr>\n",
       "      <th>1048574</th>\n",
       "      <td>POS</td>\n",
       "      <td>XNA</td>\n",
       "      <td>0.535864</td>\n",
       "      <td>NaN</td>\n",
       "      <td>NaN</td>\n",
       "      <td>low_normal</td>\n",
       "      <td>POS mobile with interest</td>\n",
       "    </tr>\n",
       "  </tbody>\n",
       "</table>\n",
       "<p>1048575 rows × 7 columns</p>\n",
       "</div>"
      ]
     },
     "metadata": {},
     "execution_count": 11
    }
   ],
   "metadata": {}
  },
  {
   "cell_type": "markdown",
   "source": [
    "Check if there are multiple entries for each client in the previous application."
   ],
   "metadata": {}
  },
  {
   "cell_type": "code",
   "execution_count": 12,
   "source": [
    "groupByAndCount(df_pa, 'SK_ID_PREV')"
   ],
   "outputs": [
    {
     "output_type": "execute_result",
     "data": {
      "text/plain": [
       "         SK_ID_PREV  Count\n",
       "0           1000001      1\n",
       "699055      2230833      1\n",
       "699042      2230811      1\n",
       "699043      2230814      1\n",
       "699044      2230815      1\n",
       "...             ...    ...\n",
       "349530      1614974      1\n",
       "349531      1614975      1\n",
       "349532      1614977      1\n",
       "349533      1614978      1\n",
       "1048574     2845382      1\n",
       "\n",
       "[1048575 rows x 2 columns]"
      ],
      "text/html": [
       "<div>\n",
       "<style scoped>\n",
       "    .dataframe tbody tr th:only-of-type {\n",
       "        vertical-align: middle;\n",
       "    }\n",
       "\n",
       "    .dataframe tbody tr th {\n",
       "        vertical-align: top;\n",
       "    }\n",
       "\n",
       "    .dataframe thead th {\n",
       "        text-align: right;\n",
       "    }\n",
       "</style>\n",
       "<table border=\"1\" class=\"dataframe\">\n",
       "  <thead>\n",
       "    <tr style=\"text-align: right;\">\n",
       "      <th></th>\n",
       "      <th>SK_ID_PREV</th>\n",
       "      <th>Count</th>\n",
       "    </tr>\n",
       "  </thead>\n",
       "  <tbody>\n",
       "    <tr>\n",
       "      <th>0</th>\n",
       "      <td>1000001</td>\n",
       "      <td>1</td>\n",
       "    </tr>\n",
       "    <tr>\n",
       "      <th>699055</th>\n",
       "      <td>2230833</td>\n",
       "      <td>1</td>\n",
       "    </tr>\n",
       "    <tr>\n",
       "      <th>699042</th>\n",
       "      <td>2230811</td>\n",
       "      <td>1</td>\n",
       "    </tr>\n",
       "    <tr>\n",
       "      <th>699043</th>\n",
       "      <td>2230814</td>\n",
       "      <td>1</td>\n",
       "    </tr>\n",
       "    <tr>\n",
       "      <th>699044</th>\n",
       "      <td>2230815</td>\n",
       "      <td>1</td>\n",
       "    </tr>\n",
       "    <tr>\n",
       "      <th>...</th>\n",
       "      <td>...</td>\n",
       "      <td>...</td>\n",
       "    </tr>\n",
       "    <tr>\n",
       "      <th>349530</th>\n",
       "      <td>1614974</td>\n",
       "      <td>1</td>\n",
       "    </tr>\n",
       "    <tr>\n",
       "      <th>349531</th>\n",
       "      <td>1614975</td>\n",
       "      <td>1</td>\n",
       "    </tr>\n",
       "    <tr>\n",
       "      <th>349532</th>\n",
       "      <td>1614977</td>\n",
       "      <td>1</td>\n",
       "    </tr>\n",
       "    <tr>\n",
       "      <th>349533</th>\n",
       "      <td>1614978</td>\n",
       "      <td>1</td>\n",
       "    </tr>\n",
       "    <tr>\n",
       "      <th>1048574</th>\n",
       "      <td>2845382</td>\n",
       "      <td>1</td>\n",
       "    </tr>\n",
       "  </tbody>\n",
       "</table>\n",
       "<p>1048575 rows × 2 columns</p>\n",
       "</div>"
      ]
     },
     "metadata": {},
     "execution_count": 12
    }
   ],
   "metadata": {}
  },
  {
   "cell_type": "code",
   "execution_count": 13,
   "source": [
    "groupByAndCount(df_pa, 'SK_ID_CURR')\n"
   ],
   "outputs": [
    {
     "output_type": "execute_result",
     "data": {
      "text/plain": [
       "        SK_ID_CURR  Count\n",
       "142103      265681     52\n",
       "63263       173680     47\n",
       "75369       187868     46\n",
       "116034      235163     43\n",
       "28387       133023     42\n",
       "...            ...    ...\n",
       "144146      268062      1\n",
       "235260      374185      1\n",
       "235258      374180      1\n",
       "144149      268065      1\n",
       "0           100001      1\n",
       "\n",
       "[305828 rows x 2 columns]"
      ],
      "text/html": [
       "<div>\n",
       "<style scoped>\n",
       "    .dataframe tbody tr th:only-of-type {\n",
       "        vertical-align: middle;\n",
       "    }\n",
       "\n",
       "    .dataframe tbody tr th {\n",
       "        vertical-align: top;\n",
       "    }\n",
       "\n",
       "    .dataframe thead th {\n",
       "        text-align: right;\n",
       "    }\n",
       "</style>\n",
       "<table border=\"1\" class=\"dataframe\">\n",
       "  <thead>\n",
       "    <tr style=\"text-align: right;\">\n",
       "      <th></th>\n",
       "      <th>SK_ID_CURR</th>\n",
       "      <th>Count</th>\n",
       "    </tr>\n",
       "  </thead>\n",
       "  <tbody>\n",
       "    <tr>\n",
       "      <th>142103</th>\n",
       "      <td>265681</td>\n",
       "      <td>52</td>\n",
       "    </tr>\n",
       "    <tr>\n",
       "      <th>63263</th>\n",
       "      <td>173680</td>\n",
       "      <td>47</td>\n",
       "    </tr>\n",
       "    <tr>\n",
       "      <th>75369</th>\n",
       "      <td>187868</td>\n",
       "      <td>46</td>\n",
       "    </tr>\n",
       "    <tr>\n",
       "      <th>116034</th>\n",
       "      <td>235163</td>\n",
       "      <td>43</td>\n",
       "    </tr>\n",
       "    <tr>\n",
       "      <th>28387</th>\n",
       "      <td>133023</td>\n",
       "      <td>42</td>\n",
       "    </tr>\n",
       "    <tr>\n",
       "      <th>...</th>\n",
       "      <td>...</td>\n",
       "      <td>...</td>\n",
       "    </tr>\n",
       "    <tr>\n",
       "      <th>144146</th>\n",
       "      <td>268062</td>\n",
       "      <td>1</td>\n",
       "    </tr>\n",
       "    <tr>\n",
       "      <th>235260</th>\n",
       "      <td>374185</td>\n",
       "      <td>1</td>\n",
       "    </tr>\n",
       "    <tr>\n",
       "      <th>235258</th>\n",
       "      <td>374180</td>\n",
       "      <td>1</td>\n",
       "    </tr>\n",
       "    <tr>\n",
       "      <th>144149</th>\n",
       "      <td>268065</td>\n",
       "      <td>1</td>\n",
       "    </tr>\n",
       "    <tr>\n",
       "      <th>0</th>\n",
       "      <td>100001</td>\n",
       "      <td>1</td>\n",
       "    </tr>\n",
       "  </tbody>\n",
       "</table>\n",
       "<p>305828 rows × 2 columns</p>\n",
       "</div>"
      ]
     },
     "metadata": {},
     "execution_count": 13
    }
   ],
   "metadata": {}
  },
  {
   "cell_type": "markdown",
   "source": [
    "There is only one entry per client"
   ],
   "metadata": {}
  },
  {
   "cell_type": "markdown",
   "source": [
    "Do all clients in current application have an entry in the previous application?"
   ],
   "metadata": {}
  },
  {
   "cell_type": "code",
   "execution_count": 14,
   "source": [
    "groupByAndCount(df_pa, 'NAME_CONTRACT_STATUS', skipPercent=False)"
   ],
   "outputs": [
    {
     "output_type": "execute_result",
     "data": {
      "text/plain": [
       "  NAME_CONTRACT_STATUS   Count      %\n",
       "0             Approved  652486  62.23\n",
       "1             Canceled  197231  18.81\n",
       "2              Refused  182083  17.36\n",
       "3         Unused offer   16775   1.60"
      ],
      "text/html": [
       "<div>\n",
       "<style scoped>\n",
       "    .dataframe tbody tr th:only-of-type {\n",
       "        vertical-align: middle;\n",
       "    }\n",
       "\n",
       "    .dataframe tbody tr th {\n",
       "        vertical-align: top;\n",
       "    }\n",
       "\n",
       "    .dataframe thead th {\n",
       "        text-align: right;\n",
       "    }\n",
       "</style>\n",
       "<table border=\"1\" class=\"dataframe\">\n",
       "  <thead>\n",
       "    <tr style=\"text-align: right;\">\n",
       "      <th></th>\n",
       "      <th>NAME_CONTRACT_STATUS</th>\n",
       "      <th>Count</th>\n",
       "      <th>%</th>\n",
       "    </tr>\n",
       "  </thead>\n",
       "  <tbody>\n",
       "    <tr>\n",
       "      <th>0</th>\n",
       "      <td>Approved</td>\n",
       "      <td>652486</td>\n",
       "      <td>62.23</td>\n",
       "    </tr>\n",
       "    <tr>\n",
       "      <th>1</th>\n",
       "      <td>Canceled</td>\n",
       "      <td>197231</td>\n",
       "      <td>18.81</td>\n",
       "    </tr>\n",
       "    <tr>\n",
       "      <th>2</th>\n",
       "      <td>Refused</td>\n",
       "      <td>182083</td>\n",
       "      <td>17.36</td>\n",
       "    </tr>\n",
       "    <tr>\n",
       "      <th>3</th>\n",
       "      <td>Unused offer</td>\n",
       "      <td>16775</td>\n",
       "      <td>1.60</td>\n",
       "    </tr>\n",
       "  </tbody>\n",
       "</table>\n",
       "</div>"
      ]
     },
     "metadata": {},
     "execution_count": 14
    }
   ],
   "metadata": {}
  },
  {
   "cell_type": "code",
   "execution_count": 15,
   "source": [
    "groupByAndCount(df_pa, 'NAME_CONTRACT_TYPE', skipPercent=False)"
   ],
   "outputs": [
    {
     "output_type": "execute_result",
     "data": {
      "text/plain": [
       "  NAME_CONTRACT_TYPE   Count      %\n",
       "0         Cash loans  465861  44.43\n",
       "1     Consumer loans  461049  43.97\n",
       "2    Revolving loans  121441  11.58\n",
       "3                XNA     224   0.02"
      ],
      "text/html": [
       "<div>\n",
       "<style scoped>\n",
       "    .dataframe tbody tr th:only-of-type {\n",
       "        vertical-align: middle;\n",
       "    }\n",
       "\n",
       "    .dataframe tbody tr th {\n",
       "        vertical-align: top;\n",
       "    }\n",
       "\n",
       "    .dataframe thead th {\n",
       "        text-align: right;\n",
       "    }\n",
       "</style>\n",
       "<table border=\"1\" class=\"dataframe\">\n",
       "  <thead>\n",
       "    <tr style=\"text-align: right;\">\n",
       "      <th></th>\n",
       "      <th>NAME_CONTRACT_TYPE</th>\n",
       "      <th>Count</th>\n",
       "      <th>%</th>\n",
       "    </tr>\n",
       "  </thead>\n",
       "  <tbody>\n",
       "    <tr>\n",
       "      <th>0</th>\n",
       "      <td>Cash loans</td>\n",
       "      <td>465861</td>\n",
       "      <td>44.43</td>\n",
       "    </tr>\n",
       "    <tr>\n",
       "      <th>1</th>\n",
       "      <td>Consumer loans</td>\n",
       "      <td>461049</td>\n",
       "      <td>43.97</td>\n",
       "    </tr>\n",
       "    <tr>\n",
       "      <th>2</th>\n",
       "      <td>Revolving loans</td>\n",
       "      <td>121441</td>\n",
       "      <td>11.58</td>\n",
       "    </tr>\n",
       "    <tr>\n",
       "      <th>3</th>\n",
       "      <td>XNA</td>\n",
       "      <td>224</td>\n",
       "      <td>0.02</td>\n",
       "    </tr>\n",
       "  </tbody>\n",
       "</table>\n",
       "</div>"
      ]
     },
     "metadata": {},
     "execution_count": 15
    }
   ],
   "metadata": {}
  },
  {
   "cell_type": "code",
   "execution_count": 16,
   "source": [
    "groupByAndCount(df_pa, 'NAME_CLIENT_TYPE', skipPercent=False)"
   ],
   "outputs": [
    {
     "output_type": "execute_result",
     "data": {
      "text/plain": [
       "  NAME_CLIENT_TYPE   Count      %\n",
       "2         Repeater  771957  73.62\n",
       "0              New  189990  18.12\n",
       "1        Refreshed   85411   8.15\n",
       "3              XNA    1217   0.12"
      ],
      "text/html": [
       "<div>\n",
       "<style scoped>\n",
       "    .dataframe tbody tr th:only-of-type {\n",
       "        vertical-align: middle;\n",
       "    }\n",
       "\n",
       "    .dataframe tbody tr th {\n",
       "        vertical-align: top;\n",
       "    }\n",
       "\n",
       "    .dataframe thead th {\n",
       "        text-align: right;\n",
       "    }\n",
       "</style>\n",
       "<table border=\"1\" class=\"dataframe\">\n",
       "  <thead>\n",
       "    <tr style=\"text-align: right;\">\n",
       "      <th></th>\n",
       "      <th>NAME_CLIENT_TYPE</th>\n",
       "      <th>Count</th>\n",
       "      <th>%</th>\n",
       "    </tr>\n",
       "  </thead>\n",
       "  <tbody>\n",
       "    <tr>\n",
       "      <th>2</th>\n",
       "      <td>Repeater</td>\n",
       "      <td>771957</td>\n",
       "      <td>73.62</td>\n",
       "    </tr>\n",
       "    <tr>\n",
       "      <th>0</th>\n",
       "      <td>New</td>\n",
       "      <td>189990</td>\n",
       "      <td>18.12</td>\n",
       "    </tr>\n",
       "    <tr>\n",
       "      <th>1</th>\n",
       "      <td>Refreshed</td>\n",
       "      <td>85411</td>\n",
       "      <td>8.15</td>\n",
       "    </tr>\n",
       "    <tr>\n",
       "      <th>3</th>\n",
       "      <td>XNA</td>\n",
       "      <td>1217</td>\n",
       "      <td>0.12</td>\n",
       "    </tr>\n",
       "  </tbody>\n",
       "</table>\n",
       "</div>"
      ]
     },
     "metadata": {},
     "execution_count": 16
    }
   ],
   "metadata": {}
  },
  {
   "cell_type": "code",
   "execution_count": 17,
   "source": [
    "df_pa['NAME_CLIENT_TYPE'].value_counts()"
   ],
   "outputs": [
    {
     "output_type": "execute_result",
     "data": {
      "text/plain": [
       "Repeater     771957\n",
       "New          189990\n",
       "Refreshed     85411\n",
       "XNA            1217\n",
       "Name: NAME_CLIENT_TYPE, dtype: int64"
      ]
     },
     "metadata": {},
     "execution_count": 17
    }
   ],
   "metadata": {}
  },
  {
   "cell_type": "code",
   "execution_count": 18,
   "source": [
    "groupByAndCount(df_pa, 'NAME_PORTFOLIO', skipPercent=False)"
   ],
   "outputs": [
    {
     "output_type": "execute_result",
     "data": {
      "text/plain": [
       "  NAME_PORTFOLIO   Count      %\n",
       "3            POS  436846  41.66\n",
       "2           Cash  287509  27.42\n",
       "4            XNA  233006  22.22\n",
       "0          Cards   90935   8.67\n",
       "1           Cars     279   0.03"
      ],
      "text/html": [
       "<div>\n",
       "<style scoped>\n",
       "    .dataframe tbody tr th:only-of-type {\n",
       "        vertical-align: middle;\n",
       "    }\n",
       "\n",
       "    .dataframe tbody tr th {\n",
       "        vertical-align: top;\n",
       "    }\n",
       "\n",
       "    .dataframe thead th {\n",
       "        text-align: right;\n",
       "    }\n",
       "</style>\n",
       "<table border=\"1\" class=\"dataframe\">\n",
       "  <thead>\n",
       "    <tr style=\"text-align: right;\">\n",
       "      <th></th>\n",
       "      <th>NAME_PORTFOLIO</th>\n",
       "      <th>Count</th>\n",
       "      <th>%</th>\n",
       "    </tr>\n",
       "  </thead>\n",
       "  <tbody>\n",
       "    <tr>\n",
       "      <th>3</th>\n",
       "      <td>POS</td>\n",
       "      <td>436846</td>\n",
       "      <td>41.66</td>\n",
       "    </tr>\n",
       "    <tr>\n",
       "      <th>2</th>\n",
       "      <td>Cash</td>\n",
       "      <td>287509</td>\n",
       "      <td>27.42</td>\n",
       "    </tr>\n",
       "    <tr>\n",
       "      <th>4</th>\n",
       "      <td>XNA</td>\n",
       "      <td>233006</td>\n",
       "      <td>22.22</td>\n",
       "    </tr>\n",
       "    <tr>\n",
       "      <th>0</th>\n",
       "      <td>Cards</td>\n",
       "      <td>90935</td>\n",
       "      <td>8.67</td>\n",
       "    </tr>\n",
       "    <tr>\n",
       "      <th>1</th>\n",
       "      <td>Cars</td>\n",
       "      <td>279</td>\n",
       "      <td>0.03</td>\n",
       "    </tr>\n",
       "  </tbody>\n",
       "</table>\n",
       "</div>"
      ]
     },
     "metadata": {},
     "execution_count": 18
    }
   ],
   "metadata": {}
  },
  {
   "cell_type": "code",
   "execution_count": 19,
   "source": [
    "groupByAndCount(df_pa, 'NAME_GOODS_CATEGORY', skipPercent=False)"
   ],
   "outputs": [
    {
     "output_type": "execute_result",
     "data": {
      "text/plain": [
       "         NAME_GOODS_CATEGORY   Count      %\n",
       "27                       XNA  593690  56.62\n",
       "19                    Mobile  141737  13.52\n",
       "7       Consumer Electronics   77107   7.35\n",
       "5                  Computers   67082   6.40\n",
       "2                Audio/Video   62910   6.00\n",
       "11                 Furniture   33931   3.24\n",
       "22  Photo / Cinema Equipment   15779   1.50\n",
       "6     Construction Materials   15754   1.50\n",
       "4   Clothing and Accessories   14764   1.41\n",
       "3           Auto Accessories    4706   0.45\n",
       "16                   Jewelry    4032   0.38\n",
       "13                 Homewares    3149   0.30\n",
       "17          Medical Supplies    2461   0.23\n",
       "25                  Vehicles    2162   0.21\n",
       "23         Sport and Leisure    1906   0.18\n",
       "12                 Gardening    1686   0.16\n",
       "21                     Other    1590   0.15\n",
       "20         Office Appliances    1477   0.14\n",
       "24                   Tourism    1020   0.10\n",
       "18                  Medicine     985   0.09\n",
       "8               Direct Sales     275   0.03\n",
       "10                   Fitness     129   0.01\n",
       "0         Additional Service      89   0.01\n",
       "9                  Education      71   0.01\n",
       "26                    Weapon      46   0.00\n",
       "15                 Insurance      35   0.00\n",
       "1                    Animals       1   0.00\n",
       "14        House Construction       1   0.00"
      ],
      "text/html": [
       "<div>\n",
       "<style scoped>\n",
       "    .dataframe tbody tr th:only-of-type {\n",
       "        vertical-align: middle;\n",
       "    }\n",
       "\n",
       "    .dataframe tbody tr th {\n",
       "        vertical-align: top;\n",
       "    }\n",
       "\n",
       "    .dataframe thead th {\n",
       "        text-align: right;\n",
       "    }\n",
       "</style>\n",
       "<table border=\"1\" class=\"dataframe\">\n",
       "  <thead>\n",
       "    <tr style=\"text-align: right;\">\n",
       "      <th></th>\n",
       "      <th>NAME_GOODS_CATEGORY</th>\n",
       "      <th>Count</th>\n",
       "      <th>%</th>\n",
       "    </tr>\n",
       "  </thead>\n",
       "  <tbody>\n",
       "    <tr>\n",
       "      <th>27</th>\n",
       "      <td>XNA</td>\n",
       "      <td>593690</td>\n",
       "      <td>56.62</td>\n",
       "    </tr>\n",
       "    <tr>\n",
       "      <th>19</th>\n",
       "      <td>Mobile</td>\n",
       "      <td>141737</td>\n",
       "      <td>13.52</td>\n",
       "    </tr>\n",
       "    <tr>\n",
       "      <th>7</th>\n",
       "      <td>Consumer Electronics</td>\n",
       "      <td>77107</td>\n",
       "      <td>7.35</td>\n",
       "    </tr>\n",
       "    <tr>\n",
       "      <th>5</th>\n",
       "      <td>Computers</td>\n",
       "      <td>67082</td>\n",
       "      <td>6.40</td>\n",
       "    </tr>\n",
       "    <tr>\n",
       "      <th>2</th>\n",
       "      <td>Audio/Video</td>\n",
       "      <td>62910</td>\n",
       "      <td>6.00</td>\n",
       "    </tr>\n",
       "    <tr>\n",
       "      <th>11</th>\n",
       "      <td>Furniture</td>\n",
       "      <td>33931</td>\n",
       "      <td>3.24</td>\n",
       "    </tr>\n",
       "    <tr>\n",
       "      <th>22</th>\n",
       "      <td>Photo / Cinema Equipment</td>\n",
       "      <td>15779</td>\n",
       "      <td>1.50</td>\n",
       "    </tr>\n",
       "    <tr>\n",
       "      <th>6</th>\n",
       "      <td>Construction Materials</td>\n",
       "      <td>15754</td>\n",
       "      <td>1.50</td>\n",
       "    </tr>\n",
       "    <tr>\n",
       "      <th>4</th>\n",
       "      <td>Clothing and Accessories</td>\n",
       "      <td>14764</td>\n",
       "      <td>1.41</td>\n",
       "    </tr>\n",
       "    <tr>\n",
       "      <th>3</th>\n",
       "      <td>Auto Accessories</td>\n",
       "      <td>4706</td>\n",
       "      <td>0.45</td>\n",
       "    </tr>\n",
       "    <tr>\n",
       "      <th>16</th>\n",
       "      <td>Jewelry</td>\n",
       "      <td>4032</td>\n",
       "      <td>0.38</td>\n",
       "    </tr>\n",
       "    <tr>\n",
       "      <th>13</th>\n",
       "      <td>Homewares</td>\n",
       "      <td>3149</td>\n",
       "      <td>0.30</td>\n",
       "    </tr>\n",
       "    <tr>\n",
       "      <th>17</th>\n",
       "      <td>Medical Supplies</td>\n",
       "      <td>2461</td>\n",
       "      <td>0.23</td>\n",
       "    </tr>\n",
       "    <tr>\n",
       "      <th>25</th>\n",
       "      <td>Vehicles</td>\n",
       "      <td>2162</td>\n",
       "      <td>0.21</td>\n",
       "    </tr>\n",
       "    <tr>\n",
       "      <th>23</th>\n",
       "      <td>Sport and Leisure</td>\n",
       "      <td>1906</td>\n",
       "      <td>0.18</td>\n",
       "    </tr>\n",
       "    <tr>\n",
       "      <th>12</th>\n",
       "      <td>Gardening</td>\n",
       "      <td>1686</td>\n",
       "      <td>0.16</td>\n",
       "    </tr>\n",
       "    <tr>\n",
       "      <th>21</th>\n",
       "      <td>Other</td>\n",
       "      <td>1590</td>\n",
       "      <td>0.15</td>\n",
       "    </tr>\n",
       "    <tr>\n",
       "      <th>20</th>\n",
       "      <td>Office Appliances</td>\n",
       "      <td>1477</td>\n",
       "      <td>0.14</td>\n",
       "    </tr>\n",
       "    <tr>\n",
       "      <th>24</th>\n",
       "      <td>Tourism</td>\n",
       "      <td>1020</td>\n",
       "      <td>0.10</td>\n",
       "    </tr>\n",
       "    <tr>\n",
       "      <th>18</th>\n",
       "      <td>Medicine</td>\n",
       "      <td>985</td>\n",
       "      <td>0.09</td>\n",
       "    </tr>\n",
       "    <tr>\n",
       "      <th>8</th>\n",
       "      <td>Direct Sales</td>\n",
       "      <td>275</td>\n",
       "      <td>0.03</td>\n",
       "    </tr>\n",
       "    <tr>\n",
       "      <th>10</th>\n",
       "      <td>Fitness</td>\n",
       "      <td>129</td>\n",
       "      <td>0.01</td>\n",
       "    </tr>\n",
       "    <tr>\n",
       "      <th>0</th>\n",
       "      <td>Additional Service</td>\n",
       "      <td>89</td>\n",
       "      <td>0.01</td>\n",
       "    </tr>\n",
       "    <tr>\n",
       "      <th>9</th>\n",
       "      <td>Education</td>\n",
       "      <td>71</td>\n",
       "      <td>0.01</td>\n",
       "    </tr>\n",
       "    <tr>\n",
       "      <th>26</th>\n",
       "      <td>Weapon</td>\n",
       "      <td>46</td>\n",
       "      <td>0.00</td>\n",
       "    </tr>\n",
       "    <tr>\n",
       "      <th>15</th>\n",
       "      <td>Insurance</td>\n",
       "      <td>35</td>\n",
       "      <td>0.00</td>\n",
       "    </tr>\n",
       "    <tr>\n",
       "      <th>1</th>\n",
       "      <td>Animals</td>\n",
       "      <td>1</td>\n",
       "      <td>0.00</td>\n",
       "    </tr>\n",
       "    <tr>\n",
       "      <th>14</th>\n",
       "      <td>House Construction</td>\n",
       "      <td>1</td>\n",
       "      <td>0.00</td>\n",
       "    </tr>\n",
       "  </tbody>\n",
       "</table>\n",
       "</div>"
      ]
     },
     "metadata": {},
     "execution_count": 19
    }
   ],
   "metadata": {}
  },
  {
   "cell_type": "code",
   "execution_count": 20,
   "source": [
    "groupByAndCount(df_pa, 'NAME_PRODUCT_TYPE', skipPercent=False)"
   ],
   "outputs": [
    {
     "output_type": "execute_result",
     "data": {
      "text/plain": [
       "  NAME_PRODUCT_TYPE   Count      %\n",
       "0               XNA  670131  63.91\n",
       "2            x-sell  284428  27.13\n",
       "1           walk-in   94016   8.97"
      ],
      "text/html": [
       "<div>\n",
       "<style scoped>\n",
       "    .dataframe tbody tr th:only-of-type {\n",
       "        vertical-align: middle;\n",
       "    }\n",
       "\n",
       "    .dataframe tbody tr th {\n",
       "        vertical-align: top;\n",
       "    }\n",
       "\n",
       "    .dataframe thead th {\n",
       "        text-align: right;\n",
       "    }\n",
       "</style>\n",
       "<table border=\"1\" class=\"dataframe\">\n",
       "  <thead>\n",
       "    <tr style=\"text-align: right;\">\n",
       "      <th></th>\n",
       "      <th>NAME_PRODUCT_TYPE</th>\n",
       "      <th>Count</th>\n",
       "      <th>%</th>\n",
       "    </tr>\n",
       "  </thead>\n",
       "  <tbody>\n",
       "    <tr>\n",
       "      <th>0</th>\n",
       "      <td>XNA</td>\n",
       "      <td>670131</td>\n",
       "      <td>63.91</td>\n",
       "    </tr>\n",
       "    <tr>\n",
       "      <th>2</th>\n",
       "      <td>x-sell</td>\n",
       "      <td>284428</td>\n",
       "      <td>27.13</td>\n",
       "    </tr>\n",
       "    <tr>\n",
       "      <th>1</th>\n",
       "      <td>walk-in</td>\n",
       "      <td>94016</td>\n",
       "      <td>8.97</td>\n",
       "    </tr>\n",
       "  </tbody>\n",
       "</table>\n",
       "</div>"
      ]
     },
     "metadata": {},
     "execution_count": 20
    }
   ],
   "metadata": {}
  },
  {
   "cell_type": "code",
   "execution_count": 21,
   "source": [
    "groupByAndCount(df_pa, 'CHANNEL_TYPE', skipPercent=False)"
   ],
   "outputs": [
    {
     "output_type": "execute_result",
     "data": {
      "text/plain": [
       "                 CHANNEL_TYPE   Count      %\n",
       "5     Credit and cash offices  451047  43.02\n",
       "4                Country-wide  312690  29.82\n",
       "7                       Stone  134196  12.80\n",
       "6            Regional / Local   68621   6.54\n",
       "3              Contact center   41962   4.00\n",
       "0             AP+ (Cash loan)   35806   3.41\n",
       "2  Channel of corporate sales    3958   0.38\n",
       "1                  Car dealer     295   0.03"
      ],
      "text/html": [
       "<div>\n",
       "<style scoped>\n",
       "    .dataframe tbody tr th:only-of-type {\n",
       "        vertical-align: middle;\n",
       "    }\n",
       "\n",
       "    .dataframe tbody tr th {\n",
       "        vertical-align: top;\n",
       "    }\n",
       "\n",
       "    .dataframe thead th {\n",
       "        text-align: right;\n",
       "    }\n",
       "</style>\n",
       "<table border=\"1\" class=\"dataframe\">\n",
       "  <thead>\n",
       "    <tr style=\"text-align: right;\">\n",
       "      <th></th>\n",
       "      <th>CHANNEL_TYPE</th>\n",
       "      <th>Count</th>\n",
       "      <th>%</th>\n",
       "    </tr>\n",
       "  </thead>\n",
       "  <tbody>\n",
       "    <tr>\n",
       "      <th>5</th>\n",
       "      <td>Credit and cash offices</td>\n",
       "      <td>451047</td>\n",
       "      <td>43.02</td>\n",
       "    </tr>\n",
       "    <tr>\n",
       "      <th>4</th>\n",
       "      <td>Country-wide</td>\n",
       "      <td>312690</td>\n",
       "      <td>29.82</td>\n",
       "    </tr>\n",
       "    <tr>\n",
       "      <th>7</th>\n",
       "      <td>Stone</td>\n",
       "      <td>134196</td>\n",
       "      <td>12.80</td>\n",
       "    </tr>\n",
       "    <tr>\n",
       "      <th>6</th>\n",
       "      <td>Regional / Local</td>\n",
       "      <td>68621</td>\n",
       "      <td>6.54</td>\n",
       "    </tr>\n",
       "    <tr>\n",
       "      <th>3</th>\n",
       "      <td>Contact center</td>\n",
       "      <td>41962</td>\n",
       "      <td>4.00</td>\n",
       "    </tr>\n",
       "    <tr>\n",
       "      <th>0</th>\n",
       "      <td>AP+ (Cash loan)</td>\n",
       "      <td>35806</td>\n",
       "      <td>3.41</td>\n",
       "    </tr>\n",
       "    <tr>\n",
       "      <th>2</th>\n",
       "      <td>Channel of corporate sales</td>\n",
       "      <td>3958</td>\n",
       "      <td>0.38</td>\n",
       "    </tr>\n",
       "    <tr>\n",
       "      <th>1</th>\n",
       "      <td>Car dealer</td>\n",
       "      <td>295</td>\n",
       "      <td>0.03</td>\n",
       "    </tr>\n",
       "  </tbody>\n",
       "</table>\n",
       "</div>"
      ]
     },
     "metadata": {},
     "execution_count": 21
    }
   ],
   "metadata": {}
  },
  {
   "cell_type": "code",
   "execution_count": 22,
   "source": [
    "groupByAndCount(df_pa, 'PRODUCT_COMBINATION', skipPercent=False)"
   ],
   "outputs": [
    {
     "output_type": "execute_result",
     "data": {
      "text/plain": [
       "               PRODUCT_COMBINATION   Count      %\n",
       "2                             Cash  178352  17.01\n",
       "9      POS household with interest  166869  15.91\n",
       "13        POS mobile with interest  139176  13.27\n",
       "8              Cash X-Sell: middle   89806   8.56\n",
       "7                 Cash X-Sell: low   80873   7.71\n",
       "0                      Card Street   70951   6.77\n",
       "11      POS industry with interest   62492   5.96\n",
       "10  POS household without interest   52747   5.03\n",
       "1                      Card X-Sell   50490   4.82\n",
       "3                Cash Street: high   37235   3.55\n",
       "6                Cash X-Sell: high   36813   3.51\n",
       "5              Cash Street: middle   21616   2.06\n",
       "4                 Cash Street: low   21166   2.02\n",
       "14     POS mobile without interest   15181   1.45\n",
       "15         POS other with interest   15072   1.44\n",
       "12   POS industry without interest    7856   0.75\n",
       "16     POS others without interest    1656   0.16"
      ],
      "text/html": [
       "<div>\n",
       "<style scoped>\n",
       "    .dataframe tbody tr th:only-of-type {\n",
       "        vertical-align: middle;\n",
       "    }\n",
       "\n",
       "    .dataframe tbody tr th {\n",
       "        vertical-align: top;\n",
       "    }\n",
       "\n",
       "    .dataframe thead th {\n",
       "        text-align: right;\n",
       "    }\n",
       "</style>\n",
       "<table border=\"1\" class=\"dataframe\">\n",
       "  <thead>\n",
       "    <tr style=\"text-align: right;\">\n",
       "      <th></th>\n",
       "      <th>PRODUCT_COMBINATION</th>\n",
       "      <th>Count</th>\n",
       "      <th>%</th>\n",
       "    </tr>\n",
       "  </thead>\n",
       "  <tbody>\n",
       "    <tr>\n",
       "      <th>2</th>\n",
       "      <td>Cash</td>\n",
       "      <td>178352</td>\n",
       "      <td>17.01</td>\n",
       "    </tr>\n",
       "    <tr>\n",
       "      <th>9</th>\n",
       "      <td>POS household with interest</td>\n",
       "      <td>166869</td>\n",
       "      <td>15.91</td>\n",
       "    </tr>\n",
       "    <tr>\n",
       "      <th>13</th>\n",
       "      <td>POS mobile with interest</td>\n",
       "      <td>139176</td>\n",
       "      <td>13.27</td>\n",
       "    </tr>\n",
       "    <tr>\n",
       "      <th>8</th>\n",
       "      <td>Cash X-Sell: middle</td>\n",
       "      <td>89806</td>\n",
       "      <td>8.56</td>\n",
       "    </tr>\n",
       "    <tr>\n",
       "      <th>7</th>\n",
       "      <td>Cash X-Sell: low</td>\n",
       "      <td>80873</td>\n",
       "      <td>7.71</td>\n",
       "    </tr>\n",
       "    <tr>\n",
       "      <th>0</th>\n",
       "      <td>Card Street</td>\n",
       "      <td>70951</td>\n",
       "      <td>6.77</td>\n",
       "    </tr>\n",
       "    <tr>\n",
       "      <th>11</th>\n",
       "      <td>POS industry with interest</td>\n",
       "      <td>62492</td>\n",
       "      <td>5.96</td>\n",
       "    </tr>\n",
       "    <tr>\n",
       "      <th>10</th>\n",
       "      <td>POS household without interest</td>\n",
       "      <td>52747</td>\n",
       "      <td>5.03</td>\n",
       "    </tr>\n",
       "    <tr>\n",
       "      <th>1</th>\n",
       "      <td>Card X-Sell</td>\n",
       "      <td>50490</td>\n",
       "      <td>4.82</td>\n",
       "    </tr>\n",
       "    <tr>\n",
       "      <th>3</th>\n",
       "      <td>Cash Street: high</td>\n",
       "      <td>37235</td>\n",
       "      <td>3.55</td>\n",
       "    </tr>\n",
       "    <tr>\n",
       "      <th>6</th>\n",
       "      <td>Cash X-Sell: high</td>\n",
       "      <td>36813</td>\n",
       "      <td>3.51</td>\n",
       "    </tr>\n",
       "    <tr>\n",
       "      <th>5</th>\n",
       "      <td>Cash Street: middle</td>\n",
       "      <td>21616</td>\n",
       "      <td>2.06</td>\n",
       "    </tr>\n",
       "    <tr>\n",
       "      <th>4</th>\n",
       "      <td>Cash Street: low</td>\n",
       "      <td>21166</td>\n",
       "      <td>2.02</td>\n",
       "    </tr>\n",
       "    <tr>\n",
       "      <th>14</th>\n",
       "      <td>POS mobile without interest</td>\n",
       "      <td>15181</td>\n",
       "      <td>1.45</td>\n",
       "    </tr>\n",
       "    <tr>\n",
       "      <th>15</th>\n",
       "      <td>POS other with interest</td>\n",
       "      <td>15072</td>\n",
       "      <td>1.44</td>\n",
       "    </tr>\n",
       "    <tr>\n",
       "      <th>12</th>\n",
       "      <td>POS industry without interest</td>\n",
       "      <td>7856</td>\n",
       "      <td>0.75</td>\n",
       "    </tr>\n",
       "    <tr>\n",
       "      <th>16</th>\n",
       "      <td>POS others without interest</td>\n",
       "      <td>1656</td>\n",
       "      <td>0.16</td>\n",
       "    </tr>\n",
       "  </tbody>\n",
       "</table>\n",
       "</div>"
      ]
     },
     "metadata": {},
     "execution_count": 22
    }
   ],
   "metadata": {}
  },
  {
   "cell_type": "code",
   "execution_count": 23,
   "source": [
    "df_pa['RATE_DOWN_PAYMENT'].isna().sum() "
   ],
   "outputs": [
    {
     "output_type": "execute_result",
     "data": {
      "text/plain": [
       "559396"
      ]
     },
     "metadata": {},
     "execution_count": 23
    }
   ],
   "metadata": {}
  },
  {
   "cell_type": "code",
   "execution_count": 24,
   "source": [
    "df_pa['interest'] = np.NaN\n",
    "df_pa['interest'].isna().sum() "
   ],
   "outputs": [
    {
     "output_type": "execute_result",
     "data": {
      "text/plain": [
       "1048575"
      ]
     },
     "metadata": {},
     "execution_count": 24
    }
   ],
   "metadata": {}
  },
  {
   "cell_type": "code",
   "execution_count": 25,
   "source": [
    "df_pa['interest'] = df_pa.apply(lambda x: x['RATE_DOWN_PAYMENT'] + x['RATE_INTEREST_PRIMARY'] + x['RATE_INTEREST_PRIVILEGED'], axis=1)"
   ],
   "outputs": [],
   "metadata": {}
  },
  {
   "cell_type": "code",
   "execution_count": 26,
   "source": [
    "df_pa['interest'] "
   ],
   "outputs": [
    {
     "output_type": "execute_result",
     "data": {
      "text/plain": [
       "0          1.050168\n",
       "1               NaN\n",
       "2               NaN\n",
       "3               NaN\n",
       "4               NaN\n",
       "             ...   \n",
       "1048570         NaN\n",
       "1048571         NaN\n",
       "1048572         NaN\n",
       "1048573         NaN\n",
       "1048574         NaN\n",
       "Name: interest, Length: 1048575, dtype: float64"
      ]
     },
     "metadata": {},
     "execution_count": 26
    }
   ],
   "metadata": {}
  },
  {
   "cell_type": "code",
   "execution_count": 27,
   "source": [
    "\n",
    "PRODUCT_COMBINATION_COLUMNS = ['interest', 'NAME_PORTFOLIO', 'NAME_GOODS_CATEGORY', 'NAME_PRODUCT_TYPE',   'NAME_YIELD_GROUP', \t'PRODUCT_COMBINATION']"
   ],
   "outputs": [],
   "metadata": {}
  },
  {
   "cell_type": "code",
   "execution_count": 28,
   "source": [
    "df_pa[PRODUCT_COMBINATION_COLUMNS]"
   ],
   "outputs": [
    {
     "output_type": "execute_result",
     "data": {
      "text/plain": [
       "         interest NAME_PORTFOLIO NAME_GOODS_CATEGORY NAME_PRODUCT_TYPE  \\\n",
       "0        1.050168            POS              Mobile               XNA   \n",
       "1             NaN           Cash                 XNA            x-sell   \n",
       "2             NaN           Cash                 XNA            x-sell   \n",
       "3             NaN           Cash                 XNA            x-sell   \n",
       "4             NaN           Cash                 XNA           walk-in   \n",
       "...           ...            ...                 ...               ...   \n",
       "1048570       NaN            POS             Jewelry               XNA   \n",
       "1048571       NaN            XNA                 XNA               XNA   \n",
       "1048572       NaN            POS              Mobile               XNA   \n",
       "1048573       NaN            POS              Mobile               XNA   \n",
       "1048574       NaN            POS              Mobile               XNA   \n",
       "\n",
       "        NAME_YIELD_GROUP       PRODUCT_COMBINATION  \n",
       "0                 middle  POS mobile with interest  \n",
       "1             low_action          Cash X-Sell: low  \n",
       "2                   high         Cash X-Sell: high  \n",
       "3                 middle       Cash X-Sell: middle  \n",
       "4                   high         Cash Street: high  \n",
       "...                  ...                       ...  \n",
       "1048570           middle   POS other with interest  \n",
       "1048571              XNA                      Cash  \n",
       "1048572       low_normal  POS mobile with interest  \n",
       "1048573       low_normal  POS mobile with interest  \n",
       "1048574       low_normal  POS mobile with interest  \n",
       "\n",
       "[1048575 rows x 6 columns]"
      ],
      "text/html": [
       "<div>\n",
       "<style scoped>\n",
       "    .dataframe tbody tr th:only-of-type {\n",
       "        vertical-align: middle;\n",
       "    }\n",
       "\n",
       "    .dataframe tbody tr th {\n",
       "        vertical-align: top;\n",
       "    }\n",
       "\n",
       "    .dataframe thead th {\n",
       "        text-align: right;\n",
       "    }\n",
       "</style>\n",
       "<table border=\"1\" class=\"dataframe\">\n",
       "  <thead>\n",
       "    <tr style=\"text-align: right;\">\n",
       "      <th></th>\n",
       "      <th>interest</th>\n",
       "      <th>NAME_PORTFOLIO</th>\n",
       "      <th>NAME_GOODS_CATEGORY</th>\n",
       "      <th>NAME_PRODUCT_TYPE</th>\n",
       "      <th>NAME_YIELD_GROUP</th>\n",
       "      <th>PRODUCT_COMBINATION</th>\n",
       "    </tr>\n",
       "  </thead>\n",
       "  <tbody>\n",
       "    <tr>\n",
       "      <th>0</th>\n",
       "      <td>1.050168</td>\n",
       "      <td>POS</td>\n",
       "      <td>Mobile</td>\n",
       "      <td>XNA</td>\n",
       "      <td>middle</td>\n",
       "      <td>POS mobile with interest</td>\n",
       "    </tr>\n",
       "    <tr>\n",
       "      <th>1</th>\n",
       "      <td>NaN</td>\n",
       "      <td>Cash</td>\n",
       "      <td>XNA</td>\n",
       "      <td>x-sell</td>\n",
       "      <td>low_action</td>\n",
       "      <td>Cash X-Sell: low</td>\n",
       "    </tr>\n",
       "    <tr>\n",
       "      <th>2</th>\n",
       "      <td>NaN</td>\n",
       "      <td>Cash</td>\n",
       "      <td>XNA</td>\n",
       "      <td>x-sell</td>\n",
       "      <td>high</td>\n",
       "      <td>Cash X-Sell: high</td>\n",
       "    </tr>\n",
       "    <tr>\n",
       "      <th>3</th>\n",
       "      <td>NaN</td>\n",
       "      <td>Cash</td>\n",
       "      <td>XNA</td>\n",
       "      <td>x-sell</td>\n",
       "      <td>middle</td>\n",
       "      <td>Cash X-Sell: middle</td>\n",
       "    </tr>\n",
       "    <tr>\n",
       "      <th>4</th>\n",
       "      <td>NaN</td>\n",
       "      <td>Cash</td>\n",
       "      <td>XNA</td>\n",
       "      <td>walk-in</td>\n",
       "      <td>high</td>\n",
       "      <td>Cash Street: high</td>\n",
       "    </tr>\n",
       "    <tr>\n",
       "      <th>...</th>\n",
       "      <td>...</td>\n",
       "      <td>...</td>\n",
       "      <td>...</td>\n",
       "      <td>...</td>\n",
       "      <td>...</td>\n",
       "      <td>...</td>\n",
       "    </tr>\n",
       "    <tr>\n",
       "      <th>1048570</th>\n",
       "      <td>NaN</td>\n",
       "      <td>POS</td>\n",
       "      <td>Jewelry</td>\n",
       "      <td>XNA</td>\n",
       "      <td>middle</td>\n",
       "      <td>POS other with interest</td>\n",
       "    </tr>\n",
       "    <tr>\n",
       "      <th>1048571</th>\n",
       "      <td>NaN</td>\n",
       "      <td>XNA</td>\n",
       "      <td>XNA</td>\n",
       "      <td>XNA</td>\n",
       "      <td>XNA</td>\n",
       "      <td>Cash</td>\n",
       "    </tr>\n",
       "    <tr>\n",
       "      <th>1048572</th>\n",
       "      <td>NaN</td>\n",
       "      <td>POS</td>\n",
       "      <td>Mobile</td>\n",
       "      <td>XNA</td>\n",
       "      <td>low_normal</td>\n",
       "      <td>POS mobile with interest</td>\n",
       "    </tr>\n",
       "    <tr>\n",
       "      <th>1048573</th>\n",
       "      <td>NaN</td>\n",
       "      <td>POS</td>\n",
       "      <td>Mobile</td>\n",
       "      <td>XNA</td>\n",
       "      <td>low_normal</td>\n",
       "      <td>POS mobile with interest</td>\n",
       "    </tr>\n",
       "    <tr>\n",
       "      <th>1048574</th>\n",
       "      <td>NaN</td>\n",
       "      <td>POS</td>\n",
       "      <td>Mobile</td>\n",
       "      <td>XNA</td>\n",
       "      <td>low_normal</td>\n",
       "      <td>POS mobile with interest</td>\n",
       "    </tr>\n",
       "  </tbody>\n",
       "</table>\n",
       "<p>1048575 rows × 6 columns</p>\n",
       "</div>"
      ]
     },
     "metadata": {},
     "execution_count": 28
    }
   ],
   "metadata": {}
  },
  {
   "cell_type": "code",
   "execution_count": 29,
   "source": [
    "# TODO: Change this to .csv\n",
    "df_columns = pd.read_excel(\"data/columns_description.xlsx\")\n",
    "df_columns.info()"
   ],
   "outputs": [
    {
     "output_type": "stream",
     "name": "stdout",
     "text": [
      "<class 'pandas.core.frame.DataFrame'>\n",
      "RangeIndex: 160 entries, 0 to 159\n",
      "Data columns (total 13 columns):\n",
      " #   Column       Non-Null Count  Dtype  \n",
      "---  ------       --------------  -----  \n",
      " 0   Unnamed: 0   160 non-null    int64  \n",
      " 1   Table        160 non-null    object \n",
      " 2   Unnamed: 2   16 non-null     object \n",
      " 3   Category     154 non-null    object \n",
      " 4   Values       45 non-null     object \n",
      " 5   Common       8 non-null      float64\n",
      " 6   Type         160 non-null    object \n",
      " 7   Remarks      21 non-null     object \n",
      " 8   Unnamed: 8   36 non-null     object \n",
      " 9   Row          160 non-null    object \n",
      " 10  Description  160 non-null    object \n",
      " 11  Special      69 non-null     object \n",
      " 12  Unnamed: 12  3 non-null      object \n",
      "dtypes: float64(1), int64(1), object(11)\n",
      "memory usage: 16.4+ KB\n"
     ]
    }
   ],
   "metadata": {}
  },
  {
   "cell_type": "code",
   "execution_count": 30,
   "source": [
    "PA_CONTRACT_COLUMNS = df_columns[(df_columns['Table']=='previous_application.csv') & (df_columns['Category']=='CONTRACT')]['Row'].tolist()\n",
    "PA_CONTRACT_COLUMNS"
   ],
   "outputs": [
    {
     "output_type": "execute_result",
     "data": {
      "text/plain": [
       "['NAME_CONTRACT_TYPE',\n",
       " 'AMT_ANNUITY',\n",
       " 'AMT_APPLICATION',\n",
       " 'AMT_CREDIT',\n",
       " 'AMT_DOWN_PAYMENT',\n",
       " 'RATE_DOWN_PAYMENT',\n",
       " 'RATE_INTEREST_PRIMARY',\n",
       " 'RATE_INTEREST_PRIVILEGED',\n",
       " 'NAME_CONTRACT_STATUS',\n",
       " 'NAME_PAYMENT_TYPE']"
      ]
     },
     "metadata": {},
     "execution_count": 30
    }
   ],
   "metadata": {}
  },
  {
   "cell_type": "code",
   "execution_count": 31,
   "source": [
    "df_pa_contract = df_pa[['SK_ID_PREV']  + PA_CONTRACT_COLUMNS]"
   ],
   "outputs": [],
   "metadata": {}
  },
  {
   "cell_type": "code",
   "execution_count": 32,
   "source": [
    "df_pa_contract['AMT_APP_CRED_DIFF'] = df_pa_contract['AMT_APPLICATION'] - df_pa_contract['AMT_CREDIT']\n",
    "df_pa_contract['AMT_APP_GOOD_DIFF'] = df_pa['AMT_APPLICATION'] - df_pa['AMT_GOODS_PRICE']"
   ],
   "outputs": [],
   "metadata": {}
  },
  {
   "cell_type": "code",
   "execution_count": 33,
   "source": [
    "df_pa_contract['AMT_APP_CRED_DIFF'] "
   ],
   "outputs": [
    {
     "output_type": "execute_result",
     "data": {
      "text/plain": [
       "0              0.0\n",
       "1         -72171.0\n",
       "2         -23944.5\n",
       "3         -20790.0\n",
       "4         -66555.0\n",
       "            ...   \n",
       "1048570    21096.0\n",
       "1048571        0.0\n",
       "1048572     1543.5\n",
       "1048573     5247.0\n",
       "1048574    21757.5\n",
       "Name: AMT_APP_CRED_DIFF, Length: 1048575, dtype: float64"
      ]
     },
     "metadata": {},
     "execution_count": 33
    }
   ],
   "metadata": {}
  },
  {
   "cell_type": "code",
   "execution_count": 34,
   "source": [
    "# Is the application amount > the goods price? Is the credit amount < application amount? \n",
    "df_pa_contract_ = df_pa_contract[(df_pa_contract['AMT_APP_GOOD_DIFF'] > 0) | (df_pa_contract['AMT_APP_CRED_DIFF'] > 0)] [['SK_ID_PREV', 'NAME_CONTRACT_TYPE', 'NAME_CONTRACT_STATUS', 'AMT_APP_CRED_DIFF', 'AMT_APP_GOOD_DIFF']]"
   ],
   "outputs": [],
   "metadata": {}
  },
  {
   "cell_type": "code",
   "execution_count": 35,
   "source": [
    "df_pa_contract_.to_csv(\"out/temp.csv\")"
   ],
   "outputs": [],
   "metadata": {}
  },
  {
   "cell_type": "code",
   "execution_count": 36,
   "source": [
    "# Looks like AMT_DOWN_PAYMENT & RATE_DOWN_PAYMENT occur together. Check if there is AMT_DOWN_PAYMENT if there is no RATE_DOWN_PAYMENT? \n",
    "df_pa[ ((df_pa['RATE_DOWN_PAYMENT'] == 0) | (df_pa['RATE_DOWN_PAYMENT'].isna() == True)) & (df_pa['AMT_DOWN_PAYMENT'] > 0) ][['SK_ID_PREV', 'RATE_DOWN_PAYMENT', 'AMT_DOWN_PAYMENT']] #"
   ],
   "outputs": [
    {
     "output_type": "execute_result",
     "data": {
      "text/plain": [
       "Empty DataFrame\n",
       "Columns: [SK_ID_PREV, RATE_DOWN_PAYMENT, AMT_DOWN_PAYMENT]\n",
       "Index: []"
      ],
      "text/html": [
       "<div>\n",
       "<style scoped>\n",
       "    .dataframe tbody tr th:only-of-type {\n",
       "        vertical-align: middle;\n",
       "    }\n",
       "\n",
       "    .dataframe tbody tr th {\n",
       "        vertical-align: top;\n",
       "    }\n",
       "\n",
       "    .dataframe thead th {\n",
       "        text-align: right;\n",
       "    }\n",
       "</style>\n",
       "<table border=\"1\" class=\"dataframe\">\n",
       "  <thead>\n",
       "    <tr style=\"text-align: right;\">\n",
       "      <th></th>\n",
       "      <th>SK_ID_PREV</th>\n",
       "      <th>RATE_DOWN_PAYMENT</th>\n",
       "      <th>AMT_DOWN_PAYMENT</th>\n",
       "    </tr>\n",
       "  </thead>\n",
       "  <tbody>\n",
       "  </tbody>\n",
       "</table>\n",
       "</div>"
      ]
     },
     "metadata": {},
     "execution_count": 36
    }
   ],
   "metadata": {}
  },
  {
   "cell_type": "code",
   "execution_count": 37,
   "source": [
    "df_pa.loc[df_pa['NAME_CONTRACT_STATUS'] == 'Refused'].to_csv(\"out/refused.csv\")"
   ],
   "outputs": [],
   "metadata": {}
  },
  {
   "cell_type": "code",
   "execution_count": 38,
   "source": [
    "df_pa_curr_ids = groupByAndCount(df_pa, 'SK_ID_CURR')"
   ],
   "outputs": [],
   "metadata": {}
  },
  {
   "cell_type": "code",
   "execution_count": 39,
   "source": [
    "df_pa_curr_ids"
   ],
   "outputs": [
    {
     "output_type": "execute_result",
     "data": {
      "text/plain": [
       "        SK_ID_CURR  Count\n",
       "142103      265681     52\n",
       "63263       173680     47\n",
       "75369       187868     46\n",
       "116034      235163     43\n",
       "28387       133023     42\n",
       "...            ...    ...\n",
       "144146      268062      1\n",
       "235260      374185      1\n",
       "235258      374180      1\n",
       "144149      268065      1\n",
       "0           100001      1\n",
       "\n",
       "[305828 rows x 2 columns]"
      ],
      "text/html": [
       "<div>\n",
       "<style scoped>\n",
       "    .dataframe tbody tr th:only-of-type {\n",
       "        vertical-align: middle;\n",
       "    }\n",
       "\n",
       "    .dataframe tbody tr th {\n",
       "        vertical-align: top;\n",
       "    }\n",
       "\n",
       "    .dataframe thead th {\n",
       "        text-align: right;\n",
       "    }\n",
       "</style>\n",
       "<table border=\"1\" class=\"dataframe\">\n",
       "  <thead>\n",
       "    <tr style=\"text-align: right;\">\n",
       "      <th></th>\n",
       "      <th>SK_ID_CURR</th>\n",
       "      <th>Count</th>\n",
       "    </tr>\n",
       "  </thead>\n",
       "  <tbody>\n",
       "    <tr>\n",
       "      <th>142103</th>\n",
       "      <td>265681</td>\n",
       "      <td>52</td>\n",
       "    </tr>\n",
       "    <tr>\n",
       "      <th>63263</th>\n",
       "      <td>173680</td>\n",
       "      <td>47</td>\n",
       "    </tr>\n",
       "    <tr>\n",
       "      <th>75369</th>\n",
       "      <td>187868</td>\n",
       "      <td>46</td>\n",
       "    </tr>\n",
       "    <tr>\n",
       "      <th>116034</th>\n",
       "      <td>235163</td>\n",
       "      <td>43</td>\n",
       "    </tr>\n",
       "    <tr>\n",
       "      <th>28387</th>\n",
       "      <td>133023</td>\n",
       "      <td>42</td>\n",
       "    </tr>\n",
       "    <tr>\n",
       "      <th>...</th>\n",
       "      <td>...</td>\n",
       "      <td>...</td>\n",
       "    </tr>\n",
       "    <tr>\n",
       "      <th>144146</th>\n",
       "      <td>268062</td>\n",
       "      <td>1</td>\n",
       "    </tr>\n",
       "    <tr>\n",
       "      <th>235260</th>\n",
       "      <td>374185</td>\n",
       "      <td>1</td>\n",
       "    </tr>\n",
       "    <tr>\n",
       "      <th>235258</th>\n",
       "      <td>374180</td>\n",
       "      <td>1</td>\n",
       "    </tr>\n",
       "    <tr>\n",
       "      <th>144149</th>\n",
       "      <td>268065</td>\n",
       "      <td>1</td>\n",
       "    </tr>\n",
       "    <tr>\n",
       "      <th>0</th>\n",
       "      <td>100001</td>\n",
       "      <td>1</td>\n",
       "    </tr>\n",
       "  </tbody>\n",
       "</table>\n",
       "<p>305828 rows × 2 columns</p>\n",
       "</div>"
      ]
     },
     "metadata": {},
     "execution_count": 39
    }
   ],
   "metadata": {}
  },
  {
   "cell_type": "code",
   "execution_count": 40,
   "source": [
    "df_pa_curr_ids[df_pa_curr_ids['Count'] == 1].shape[0]"
   ],
   "outputs": [
    {
     "output_type": "execute_result",
     "data": {
      "text/plain": [
       "82414"
      ]
     },
     "metadata": {},
     "execution_count": 40
    }
   ],
   "metadata": {}
  },
  {
   "cell_type": "code",
   "execution_count": 41,
   "source": [
    "df_pa_curr_ids[df_pa_curr_ids['Count'] > 1].to_csv(\"out/multiple_curr_id.csv\")"
   ],
   "outputs": [],
   "metadata": {}
  },
  {
   "cell_type": "code",
   "execution_count": 42,
   "source": [
    "curr_ids_multiple_prev_app = df_pa_curr_ids[df_pa_curr_ids['Count'] > 1]['SK_ID_CURR'].tolist()"
   ],
   "outputs": [],
   "metadata": {}
  },
  {
   "cell_type": "code",
   "execution_count": 43,
   "source": [
    "curr_ids_multiple_prev_app[0:4]"
   ],
   "outputs": [
    {
     "output_type": "execute_result",
     "data": {
      "text/plain": [
       "[265681, 173680, 187868, 235163]"
      ]
     },
     "metadata": {},
     "execution_count": 43
    }
   ],
   "metadata": {}
  },
  {
   "cell_type": "markdown",
   "source": [
    "## Data Exploration - Current Application"
   ],
   "metadata": {}
  },
  {
   "cell_type": "code",
   "execution_count": 44,
   "source": [
    "df_ca_orig = pd.read_csv(\"data/application_data.csv\")"
   ],
   "outputs": [],
   "metadata": {}
  },
  {
   "cell_type": "code",
   "execution_count": 45,
   "source": [
    "def dropColumns(df, cols):\n",
    "    print(f\"Shape - before cleanup {df.shape}\")\n",
    "    df.drop(columns = cols, inplace=True)\n",
    "    print(f\"Shape - after cleanup {df.shape}\")"
   ],
   "outputs": [],
   "metadata": {}
  },
  {
   "cell_type": "markdown",
   "source": [
    "### Data Cleaning - Remove invalid data\n",
    " - EXT_SOURCE_1, EXT_SOURCE_2, EXT_SOURCE_3: Meaning of the columns/variables is not known"
   ],
   "metadata": {}
  },
  {
   "cell_type": "code",
   "execution_count": 46,
   "source": [
    "dropColumns(df_ca_orig, ['EXT_SOURCE_1', 'EXT_SOURCE_2', 'EXT_SOURCE_3'])"
   ],
   "outputs": [
    {
     "output_type": "stream",
     "name": "stdout",
     "text": [
      "Shape - before cleanup (307511, 122)\n",
      "Shape - after cleanup (307511, 119)\n"
     ]
    }
   ],
   "metadata": {}
  },
  {
   "cell_type": "code",
   "execution_count": 47,
   "source": [
    "df_ca_orig['TARGET'].isna().sum()"
   ],
   "outputs": [
    {
     "output_type": "execute_result",
     "data": {
      "text/plain": [
       "0"
      ]
     },
     "metadata": {},
     "execution_count": 47
    }
   ],
   "metadata": {}
  },
  {
   "cell_type": "markdown",
   "source": [
    "There are no rows with TARGET variable not filled. So nothing to drop."
   ],
   "metadata": {}
  },
  {
   "cell_type": "code",
   "execution_count": 48,
   "source": [
    "df_ca = df_ca_orig.copy(deep=True)\n",
    "print(df_ca.shape)"
   ],
   "outputs": [
    {
     "output_type": "stream",
     "name": "stdout",
     "text": [
      "(307511, 119)\n"
     ]
    }
   ],
   "metadata": {}
  },
  {
   "cell_type": "markdown",
   "source": [
    "### Categories\n",
    "Categorize the columns/variables into groups for analysis"
   ],
   "metadata": {}
  },
  {
   "cell_type": "code",
   "execution_count": 49,
   "source": [
    "DEMOGRAPHIC_PERSONAL = [ 'CODE_GENDER', 'DAYS_BIRTH', 'CNT_CHILDREN', 'CNT_FAM_MEMBERS', 'NAME_FAMILY_STATUS', \n",
    "                            'NAME_HOUSING_TYPE', 'REGION_POPULATION_RELATIVE', 'REGION_RATING_CLIENT', 'REGION_RATING_CLIENT_W_CITY']\n",
    "DEMOGRAPHIC_PROFESSIONAL = [ 'NAME_EDUCATION_TYPE', 'NAME_INCOME_TYPE', 'OCCUPATION_TYPE', 'ORGANIZATION_TYPE']"
   ],
   "outputs": [],
   "metadata": {}
  },
  {
   "cell_type": "markdown",
   "source": [
    "### 1. Demographic - PERSONAL"
   ],
   "metadata": {}
  },
  {
   "cell_type": "code",
   "execution_count": 50,
   "source": [
    "df_ca_demo_per = df_ca[DEMOGRAPHIC_PERSONAL + ['SK_ID_CURR', 'TARGET']]\n",
    "print(\"Shape:\",df_ca_demo_per.shape)\n",
    "print(\"Numerical values - describe:\\n\"); print(df_ca_demo_per.describe())\n",
    "print(\"Missing values:\"); print(df_ca_demo_per.isna().sum())"
   ],
   "outputs": [
    {
     "output_type": "stream",
     "name": "stdout",
     "text": [
      "Shape: (307511, 11)\n",
      "Numerical values - describe:\n",
      "\n",
      "          DAYS_BIRTH   CNT_CHILDREN  CNT_FAM_MEMBERS  \\\n",
      "count  307511.000000  307511.000000    307509.000000   \n",
      "mean   -16036.995067       0.417052         2.152665   \n",
      "std      4363.988632       0.722121         0.910682   \n",
      "min    -25229.000000       0.000000         1.000000   \n",
      "25%    -19682.000000       0.000000         2.000000   \n",
      "50%    -15750.000000       0.000000         2.000000   \n",
      "75%    -12413.000000       1.000000         3.000000   \n",
      "max     -7489.000000      19.000000        20.000000   \n",
      "\n",
      "       REGION_POPULATION_RELATIVE  REGION_RATING_CLIENT  \\\n",
      "count               307511.000000         307511.000000   \n",
      "mean                     0.020868              2.052463   \n",
      "std                      0.013831              0.509034   \n",
      "min                      0.000290              1.000000   \n",
      "25%                      0.010006              2.000000   \n",
      "50%                      0.018850              2.000000   \n",
      "75%                      0.028663              2.000000   \n",
      "max                      0.072508              3.000000   \n",
      "\n",
      "       REGION_RATING_CLIENT_W_CITY     SK_ID_CURR         TARGET  \n",
      "count                307511.000000  307511.000000  307511.000000  \n",
      "mean                      2.031521  278180.518577       0.080729  \n",
      "std                       0.502737  102790.175348       0.272419  \n",
      "min                       1.000000  100002.000000       0.000000  \n",
      "25%                       2.000000  189145.500000       0.000000  \n",
      "50%                       2.000000  278202.000000       0.000000  \n",
      "75%                       2.000000  367142.500000       0.000000  \n",
      "max                       3.000000  456255.000000       1.000000  \n",
      "Missing values:\n",
      "CODE_GENDER                    0\n",
      "DAYS_BIRTH                     0\n",
      "CNT_CHILDREN                   0\n",
      "CNT_FAM_MEMBERS                2\n",
      "NAME_FAMILY_STATUS             0\n",
      "NAME_HOUSING_TYPE              0\n",
      "REGION_POPULATION_RELATIVE     0\n",
      "REGION_RATING_CLIENT           0\n",
      "REGION_RATING_CLIENT_W_CITY    0\n",
      "SK_ID_CURR                     0\n",
      "TARGET                         0\n",
      "dtype: int64\n"
     ]
    }
   ],
   "metadata": {}
  },
  {
   "cell_type": "markdown",
   "source": [
    "Missing values handling: CNT_FAM_MEMBERS has 2"
   ],
   "metadata": {}
  },
  {
   "cell_type": "code",
   "execution_count": 51,
   "source": [
    "compare(df_ca_demo_per, 'CODE_GENDER', 'Gender', labels=['Female', 'Male', 'Not Known'])\n",
    "compare(df_ca_demo_per, 'NAME_FAMILY_STATUS', 'Family Status', figsize=(16, 6)) \n",
    "compare(df_ca_demo_per, 'NAME_HOUSING_TYPE', 'Housing Type', figsize=(16, 6)) \n",
    "\n",
    "# TODO: \n",
    "# NAME_FAMILY_STATUS - Unknown: What should be done? Convert NaNs to 0"
   ],
   "outputs": [
    {
     "output_type": "stream",
     "name": "stdout",
     "text": [
      "df_1: 24825, df_0: 282686\n",
      "                Total  Target=1  Target=0  Target=1%  Target=0%\n",
      "CODE_GENDER                                                    \n",
      "F            202448.0   14170.0    188278       7.00      93.00\n",
      "M            105059.0   10655.0     94404      10.14      89.86\n",
      "XNA               NaN       NaN         4        NaN        NaN\n",
      "df_1: 24825, df_0: 282686\n",
      "                         Total  Target=1  Target=0  Target=1%  Target=0%\n",
      "NAME_FAMILY_STATUS                                                      \n",
      "Civil marriage         29775.0    2961.0     26814       9.94      90.06\n",
      "Married               196432.0   14850.0    181582       7.56      92.44\n",
      "Separated              19770.0    1620.0     18150       8.19      91.81\n",
      "Single / not married   45444.0    4457.0     40987       9.81      90.19\n",
      "Unknown                    NaN       NaN         2        NaN        NaN\n",
      "Widow                  16088.0     937.0     15151       5.82      94.18\n",
      "df_1: 24825, df_0: 282686\n",
      "                      Total  Target=1  Target=0  Target=1%  Target=0%\n",
      "NAME_HOUSING_TYPE                                                    \n",
      "Co-op apartment        1122        89      1033       7.93      92.07\n",
      "House / apartment    272868     21272    251596       7.80      92.20\n",
      "Municipal apartment   11183       955     10228       8.54      91.46\n",
      "Office apartment       2617       172      2445       6.57      93.43\n",
      "Rented apartment       4881       601      4280      12.31      87.69\n",
      "With parents          14840      1736     13104      11.70      88.30\n"
     ]
    },
    {
     "output_type": "display_data",
     "data": {
      "text/plain": [
       "<Figure size 800x480 with 2 Axes>"
      ],
      "image/png": "[encoded data removed]"
     },
     "metadata": {
      "needs_background": "light"
     }
    },
    {
     "output_type": "display_data",
     "data": {
      "text/plain": [
       "<Figure size 1280x480 with 2 Axes>"
      ],
      "image/png": "[encoded data removed]"
     },
     "metadata": {
      "needs_background": "light"
     }
    },
    {
     "output_type": "display_data",
     "data": {
      "text/plain": [
       "<Figure size 1280x480 with 2 Axes>"
      ],
      "image/png": "[encoded data removed]"
     },
     "metadata": {
      "needs_background": "light"
     }
    }
   ],
   "metadata": {}
  },
  {
   "cell_type": "code",
   "execution_count": 52,
   "source": [
    "# DAYS_BIRTH \n",
    "# DAYS_BIRTH is a realative value to the application. Convert it to age.\n",
    "df_ca_demo_per['AGE'] = (df_ca_demo_per['DAYS_BIRTH']/365)*(-1)"
   ],
   "outputs": [],
   "metadata": {}
  },
  {
   "cell_type": "code",
   "execution_count": 53,
   "source": [
    "# Check for outliers\n",
    "for col in ['AGE', 'CNT_CHILDREN', 'CNT_FAM_MEMBERS']: \n",
    "    df_ca_demo_per.boxplot(column=col, by='TARGET', figsize = (10, 6))"
   ],
   "outputs": [
    {
     "output_type": "display_data",
     "data": {
      "text/plain": [
       "<Figure size 720x432 with 1 Axes>"
      ],
      "image/png": "[encoded data removed]"
     },
     "metadata": {
      "needs_background": "light"
     }
    },
    {
     "output_type": "display_data",
     "data": {
      "text/plain": [
       "<Figure size 720x432 with 1 Axes>"
      ],
      "image/png": "[encoded data removed]"
     },
     "metadata": {
      "needs_background": "light"
     }
    },
    {
     "output_type": "display_data",
     "data": {
      "text/plain": [
       "<Figure size 720x432 with 1 Axes>"
      ],
      "image/png": "[encoded data removed]"
     },
     "metadata": {
      "needs_background": "light"
     }
    }
   ],
   "metadata": {}
  },
  {
   "cell_type": "markdown",
   "source": [
    "It would make sense to group the ages into more maangeable groups"
   ],
   "metadata": {}
  },
  {
   "cell_type": "code",
   "execution_count": 54,
   "source": [
    "df_ca_demo_per['AGE'] = pd.cut(df_ca_demo_per['AGE'], [20, 30, 40, 50, 60, 70], labels=['20-30', '30-40', '40-50', '50-60', '60-70'])"
   ],
   "outputs": [],
   "metadata": {}
  },
  {
   "cell_type": "code",
   "execution_count": 55,
   "source": [
    "for col in ['AGE', 'CNT_CHILDREN', 'CNT_FAM_MEMBERS']:\n",
    "    compare(df_ca_demo_per, col, col, figsize=(16, 6)) "
   ],
   "outputs": [
    {
     "output_type": "stream",
     "name": "stdout",
     "text": [
      "df_1: 24825, df_0: 282686\n",
      "       Total  Target=1  Target=0  Target=1%  Target=0%\n",
      "AGE                                                   \n",
      "20-30  45021      5158     39863      11.46      88.54\n",
      "30-40  82308      7888     74420       9.58      90.42\n",
      "40-50  76541      5856     70685       7.65      92.35\n",
      "50-60  68062      4172     63890       6.13      93.87\n",
      "60-70  35579      1751     33828       4.92      95.08\n",
      "df_1: 24825, df_0: 282686\n",
      "                 Total  Target=1  Target=0  Target=1%  Target=0%\n",
      "CNT_CHILDREN                                                    \n",
      "0             215371.0   16609.0    198762       7.71      92.29\n",
      "1              61119.0    5454.0     55665       8.92      91.08\n",
      "2              26749.0    2333.0     24416       8.72      91.28\n",
      "3               3717.0     358.0      3359       9.63      90.37\n",
      "4                429.0      55.0       374      12.82      87.18\n",
      "5                 84.0       7.0        77       8.33      91.67\n",
      "6                 21.0       6.0        15      28.57      71.43\n",
      "7                  NaN       NaN         7        NaN        NaN\n",
      "8                  NaN       NaN         2        NaN        NaN\n",
      "10                 NaN       NaN         2        NaN        NaN\n",
      "12                 NaN       NaN         2        NaN        NaN\n",
      "14                 NaN       NaN         3        NaN        NaN\n",
      "19                 NaN       NaN         2        NaN        NaN\n",
      "df_1: 24825, df_0: 282686\n",
      "                    Total  Target=1  Target=0  Target=1%  Target=0%\n",
      "CNT_FAM_MEMBERS                                                    \n",
      "1.0               67847.0    5675.0     62172       8.36      91.64\n",
      "2.0              158357.0   12009.0    146348       7.58      92.42\n",
      "3.0               52601.0    4608.0     47993       8.76      91.24\n",
      "4.0               24697.0    2136.0     22561       8.65      91.35\n",
      "5.0                3478.0     327.0      3151       9.40      90.60\n",
      "6.0                 408.0      55.0       353      13.48      86.52\n",
      "7.0                  81.0       6.0        75       7.41      92.59\n",
      "8.0                  20.0       6.0        14      30.00      70.00\n",
      "9.0                   NaN       NaN         6        NaN        NaN\n",
      "10.0                  3.0       1.0         2      33.33      66.67\n",
      "12.0                  NaN       NaN         2        NaN        NaN\n",
      "14.0                  NaN       NaN         2        NaN        NaN\n",
      "15.0                  NaN       NaN         1        NaN        NaN\n",
      "16.0                  NaN       NaN         2        NaN        NaN\n",
      "20.0                  NaN       NaN         2        NaN        NaN\n"
     ]
    },
    {
     "output_type": "display_data",
     "data": {
      "text/plain": [
       "<Figure size 1280x480 with 2 Axes>"
      ],
      "image/png": "[encoded data removed]"
     },
     "metadata": {
      "needs_background": "light"
     }
    },
    {
     "output_type": "display_data",
     "data": {
      "text/plain": [
       "<Figure size 1280x480 with 2 Axes>"
      ],
      "image/png": "[encoded data removed]"
     },
     "metadata": {
      "needs_background": "light"
     }
    },
    {
     "output_type": "display_data",
     "data": {
      "text/plain": [
       "<Figure size 1280x480 with 2 Axes>"
      ],
      "image/png": "[encoded data removed]"
     },
     "metadata": {
      "needs_background": "light"
     }
    }
   ],
   "metadata": {}
  },
  {
   "cell_type": "code",
   "execution_count": 56,
   "source": [
    "print(df_ca_demo_per[['REGION_RATING_CLIENT', 'REGION_RATING_CLIENT_W_CITY']].info())\n",
    "print(\"REGION_RATING_CLIENT != REGION_RATING_CLIENT_W_CITY =\", df_ca_demo_per.loc[df_ca_demo_per['REGION_RATING_CLIENT'] != df_ca_demo_per['REGION_RATING_CLIENT_W_CITY']].shape[0])\n",
    "print(\"REGION_RATING_CLIENT  > REGION_RATING_CLIENT_W_CITY =\", df_ca_demo_per.loc[df_ca_demo_per['REGION_RATING_CLIENT'] > df_ca_demo_per['REGION_RATING_CLIENT_W_CITY']].shape[0])\n",
    "print(\"REGION_RATING_CLIENT  < REGION_RATING_CLIENT_W_CITY =\", df_ca_demo_per.loc[df_ca_demo_per['REGION_RATING_CLIENT'] < df_ca_demo_per['REGION_RATING_CLIENT_W_CITY']].shape[0])"
   ],
   "outputs": [
    {
     "output_type": "stream",
     "name": "stdout",
     "text": [
      "<class 'pandas.core.frame.DataFrame'>\n",
      "RangeIndex: 307511 entries, 0 to 307510\n",
      "Data columns (total 2 columns):\n",
      " #   Column                       Non-Null Count   Dtype\n",
      "---  ------                       --------------   -----\n",
      " 0   REGION_RATING_CLIENT         307511 non-null  int64\n",
      " 1   REGION_RATING_CLIENT_W_CITY  307511 non-null  int64\n",
      "dtypes: int64(2)\n",
      "memory usage: 4.7 MB\n",
      "None\n",
      "REGION_RATING_CLIENT != REGION_RATING_CLIENT_W_CITY = 5718\n",
      "REGION_RATING_CLIENT  > REGION_RATING_CLIENT_W_CITY = 5718\n",
      "REGION_RATING_CLIENT  < REGION_RATING_CLIENT_W_CITY = 0\n"
     ]
    }
   ],
   "metadata": {}
  },
  {
   "cell_type": "markdown",
   "source": [
    "Both REGION_RATING_CLIENT and REGION_RATING_CLIENT_W_CITY indicate a similar trait. So only one can be considered. REGION_RATING_CLIENT_W_CITY ratings >= REGION_RATING_CLIENT. So let's drop REGION_RATING_CLIENT and go only with REGION_RATING_CLIENT_W_CITY"
   ],
   "metadata": {}
  },
  {
   "cell_type": "code",
   "execution_count": 57,
   "source": [
    "# We need not drop the column. Just don't consider it\n",
    "# dropColumns(df_ca_demo_per, ['REGION_RATING_CLIENT'])"
   ],
   "outputs": [],
   "metadata": {}
  },
  {
   "cell_type": "code",
   "execution_count": 58,
   "source": [
    "df_ca['REGION_RATING_CLIENT_W_CITY'] = df_ca['REGION_RATING_CLIENT'].apply(lambda x: str(x))\n",
    "print('REGION_RATING_CLIENT_W_CITY:',df_ca['REGION_RATING_CLIENT_W_CITY'].unique().tolist())\n",
    "compare(df_ca, 'REGION_RATING_CLIENT_W_CITY', 'Region')"
   ],
   "outputs": [
    {
     "output_type": "stream",
     "name": "stdout",
     "text": [
      "REGION_RATING_CLIENT_W_CITY: ['2', '1', '3']\n",
      "df_1: 24825, df_0: 282686\n",
      "                              Total  Target=1  Target=0  Target=1%  Target=0%\n",
      "REGION_RATING_CLIENT_W_CITY                                                  \n",
      "1                             32197      1552     30645       4.82      95.18\n",
      "2                            226984     17907    209077       7.89      92.11\n",
      "3                             48330      5366     42964      11.10      88.90\n"
     ]
    },
    {
     "output_type": "display_data",
     "data": {
      "text/plain": [
       "<Figure size 800x480 with 2 Axes>"
      ],
      "image/png": "[encoded data removed]"
     },
     "metadata": {
      "needs_background": "light"
     }
    }
   ],
   "metadata": {}
  },
  {
   "cell_type": "markdown",
   "source": [
    "#### **OBSERVATIONS**\n",
    "| COLUMN(S) | Missing Values? | Outliers? | Observation | Difficulties in paying | No difficulties in paying | \n",
    "|---|---|---|---|---|---|\n",
    "| AGE | None | None | With increase in age, the ability to pay increases. | Younger Clients | Older clients|\n",
    "| CNT_CHILDREN | None | > 6 till 19 | With increase in number of kids, the ability to pay decreases.| More children | Less children |\n",
    "| CNT_FAM_MEMBERS | None | > 8 till 20 | With increase in number of family members, the ability to pay decreases | Larger family size | Smaller family size |\n",
    "| REGION_RATING_CLIENT, REGION_RATING_CLIENT | None | None | Higher the region, the clients find it more difficult to pay. Clients from regions 3 have difficulty in paying off | Higher Region category | Lower Region category |\n",
    "\n",
    "- TODO: Look at rows that have invalid data."
   ],
   "metadata": {}
  },
  {
   "cell_type": "markdown",
   "source": [
    "### 2. Demographic - PROFESSIONAL"
   ],
   "metadata": {}
  },
  {
   "cell_type": "code",
   "execution_count": 60,
   "source": [
    "df_ca_demo_pro = df_ca[DEMOGRAPHIC_PROFESSIONAL + ['SK_ID_CURR', 'TARGET']]\n",
    "print(\"Shape:\",df_ca_demo_pro.shape)\n",
    "print(\"Numerical values - describe:\\n\"); print(df_ca_demo_pro.describe())\n",
    "print(\"Missing values:\"); print(df_ca_demo_pro.isna().sum(), percent(df_ca_demo_pro.isna().sum(),df_ca_demo_pro.shape[0]))"
   ],
   "outputs": [
    {
     "output_type": "stream",
     "name": "stdout",
     "text": [
      "Shape: (307511, 6)\n",
      "Numerical values - describe:\n",
      "\n",
      "          SK_ID_CURR         TARGET\n",
      "count  307511.000000  307511.000000\n",
      "mean   278180.518577       0.080729\n",
      "std    102790.175348       0.272419\n",
      "min    100002.000000       0.000000\n",
      "25%    189145.500000       0.000000\n",
      "50%    278202.000000       0.000000\n",
      "75%    367142.500000       0.000000\n",
      "max    456255.000000       1.000000\n",
      "Missing values:\n",
      "NAME_EDUCATION_TYPE        0\n",
      "NAME_INCOME_TYPE           0\n",
      "OCCUPATION_TYPE        96391\n",
      "ORGANIZATION_TYPE          0\n",
      "SK_ID_CURR                 0\n",
      "TARGET                     0\n",
      "dtype: int64 NAME_EDUCATION_TYPE     0.00\n",
      "NAME_INCOME_TYPE        0.00\n",
      "OCCUPATION_TYPE        31.35\n",
      "ORGANIZATION_TYPE       0.00\n",
      "SK_ID_CURR              0.00\n",
      "TARGET                  0.00\n",
      "dtype: float64\n"
     ]
    }
   ],
   "metadata": {}
  },
  {
   "cell_type": "code",
   "execution_count": null,
   "source": [
    "def groupPerTargetLimited(df, col):\n",
    "    df_1 = df[df['TARGET']==1][[col,'TARGET']]\n",
    "    cnt_1 = df_1.shape[0]\n",
    "    df_1 = groupByAndCount(df_1, col, sort = False)\n",
    "    df_1.rename(columns={'Count':'Target=1'},inplace=True)\n",
    "    #print(df_1)\n",
    "\n",
    "    df_0 = df[df['TARGET']==0][[ col,'TARGET']]\n",
    "    cnt_0 = df_0.shape[0]\n",
    "    df_0 = groupByAndCount(df_0, col, sort = False)\n",
    "    df_0.rename(columns={'Count':'Target=0'},inplace=True)\n",
    "    #print(df_0)\n",
    "\n",
    "\n",
    "    df_ = df_0.merge(df_1, how='left',on=col)\n",
    "    df_['Total'] = df_['Target=0'] + df_['Target=1']\n",
    "    df_['Target=0%'] = percent(df_['Target=0'], df_['Total']) \n",
    "    df_['Target=1%'] = percent(df_['Target=1'], df_['Total'])\n",
    "    df_.set_index(col, inplace=True)\n",
    "\n",
    "    #df_[['Total', 'Target=1', 'Target=0']].astype('int32')\n",
    "    df_= df_[['Total', 'Target=1', 'Target=0', 'Target=1%', 'Target=0%' ]]\n",
    "\n",
    "    print(f\"df_1: {cnt_1}, df_0: {cnt_0}\")\n",
    "    print(df_)\n",
    "    \n",
    "    return df_"
   ],
   "outputs": [],
   "metadata": {}
  },
  {
   "cell_type": "code",
   "execution_count": 62,
   "source": [
    "for col in DEMOGRAPHIC_PROFESSIONAL:\n",
    "    compare(df_ca_demo_pro,col, col,figsize=(16, 6))"
   ],
   "outputs": [
    {
     "output_type": "stream",
     "name": "stdout",
     "text": [
      "df_1: 24825, df_0: 282686\n",
      "                                Total  Target=1  Target=0  Target=1%  \\\n",
      "NAME_EDUCATION_TYPE                                                    \n",
      "Academic degree                   164         3       161       1.83   \n",
      "Higher education                74863      4009     70854       5.36   \n",
      "Incomplete higher               10277       872      9405       8.48   \n",
      "Lower secondary                  3816       417      3399      10.93   \n",
      "Secondary / secondary special  218391     19524    198867       8.94   \n",
      "\n",
      "                               Target=0%  \n",
      "NAME_EDUCATION_TYPE                       \n",
      "Academic degree                    98.17  \n",
      "Higher education                   94.64  \n",
      "Incomplete higher                  91.52  \n",
      "Lower secondary                    89.07  \n",
      "Secondary / secondary special      91.06  \n",
      "df_1: 24825, df_0: 282686\n",
      "                         Total  Target=1  Target=0  Target=1%  Target=0%\n",
      "NAME_INCOME_TYPE                                                        \n",
      "Businessman                NaN       NaN        10        NaN        NaN\n",
      "Commercial associate   71617.0    5360.0     66257       7.48      92.52\n",
      "Maternity leave            5.0       2.0         3      40.00      60.00\n",
      "Pensioner              55362.0    2982.0     52380       5.39      94.61\n",
      "State servant          21703.0    1249.0     20454       5.75      94.25\n",
      "Student                    NaN       NaN        18        NaN        NaN\n",
      "Unemployed                22.0       8.0        14      36.36      63.64\n",
      "Working               158774.0   15224.0    143550       9.59      90.41\n",
      "df_1: 24825, df_0: 282686\n",
      "                       Total  Target=1  Target=0  Target=1%  Target=0%\n",
      "OCCUPATION_TYPE                                                       \n",
      "Accountants             9813       474      9339       4.83      95.17\n",
      "Cleaning staff          4653       447      4206       9.61      90.39\n",
      "Cooking staff           5946       621      5325      10.44      89.56\n",
      "Core staff             27570      1738     25832       6.30      93.70\n",
      "Drivers                18603      2107     16496      11.33      88.67\n",
      "HR staff                 563        36       527       6.39      93.61\n",
      "High skill tech staff  11380       701     10679       6.16      93.84\n",
      "IT staff                 526        34       492       6.46      93.54\n",
      "Laborers               55186      5838     49348      10.58      89.42\n",
      "Low-skill Laborers      2093       359      1734      17.15      82.85\n",
      "Managers               21371      1328     20043       6.21      93.79\n",
      "Medicine staff          8537       572      7965       6.70      93.30\n",
      "Private service staff   2652       175      2477       6.60      93.40\n",
      "Realty agents            751        59       692       7.86      92.14\n",
      "Sales staff            32102      3092     29010       9.63      90.37\n",
      "Secretaries             1305        92      1213       7.05      92.95\n",
      "Security staff          6721       722      5999      10.74      89.26\n",
      "Waiters/barmen staff    1348       152      1196      11.28      88.72\n",
      "df_1: 24825, df_0: 282686\n",
      "                        Total  Target=1  Target=0  Target=1%  Target=0%\n",
      "ORGANIZATION_TYPE                                                      \n",
      "Advertising               429        35       394       8.16      91.84\n",
      "Agriculture              2454       257      2197      10.47      89.53\n",
      "Bank                     2507       130      2377       5.19      94.81\n",
      "Business Entity Type 1   5984       487      5497       8.14      91.86\n",
      "Business Entity Type 2  10553       900      9653       8.53      91.47\n",
      "Business Entity Type 3  67992      6323     61669       9.30      90.70\n",
      "Cleaning                  260        29       231      11.15      88.85\n",
      "Construction             6721       785      5936      11.68      88.32\n",
      "Culture                   379        21       358       5.54      94.46\n",
      "Electricity               950        63       887       6.63      93.37\n",
      "Emergency                 560        40       520       7.14      92.86\n",
      "Government              10404       726      9678       6.98      93.02\n",
      "Hotel                     966        62       904       6.42      93.58\n",
      "Housing                  2958       235      2723       7.94      92.06\n",
      "Industry: type 1         1039       115       924      11.07      88.93\n",
      "Industry: type 10         109         7       102       6.42      93.58\n",
      "Industry: type 11        2704       234      2470       8.65      91.35\n",
      "Industry: type 12         369        14       355       3.79      96.21\n",
      "Industry: type 13          67         9        58      13.43      86.57\n",
      "Industry: type 2          458        33       425       7.21      92.79\n",
      "Industry: type 3         3278       348      2930      10.62      89.38\n",
      "Industry: type 4          877        89       788      10.15      89.85\n",
      "Industry: type 5          599        41       558       6.84      93.16\n",
      "Industry: type 6          112         8       104       7.14      92.86\n",
      "Industry: type 7         1307       105      1202       8.03      91.97\n",
      "Industry: type 8           24         3        21      12.50      87.50\n",
      "Industry: type 9         3368       225      3143       6.68      93.32\n",
      "Insurance                 597        34       563       5.70      94.30\n",
      "Kindergarten             6880       484      6396       7.03      92.97\n",
      "Legal Services            305        24       281       7.87      92.13\n",
      "Medicine                11193       737     10456       6.58      93.42\n",
      "Military                 2634       135      2499       5.13      94.87\n",
      "Mobile                    317        29       288       9.15      90.85\n",
      "Other                   16683      1275     15408       7.64      92.36\n",
      "Police                   2341       117      2224       5.00      95.00\n",
      "Postal                   2157       182      1975       8.44      91.56\n",
      "Realtor                   396        42       354      10.61      89.39\n",
      "Religion                   85         5        80       5.88      94.12\n",
      "Restaurant               1811       212      1599      11.71      88.29\n",
      "School                   8893       526      8367       5.91      94.09\n",
      "Security                 3247       324      2923       9.98      90.02\n",
      "Security Ministries      1974        96      1878       4.86      95.14\n",
      "Self-employed           38412      3908     34504      10.17      89.83\n",
      "Services                 1575       104      1471       6.60      93.40\n",
      "Telecom                   577        44       533       7.63      92.37\n",
      "Trade: type 1             348        31       317       8.91      91.09\n",
      "Trade: type 2            1900       133      1767       7.00      93.00\n",
      "Trade: type 3            3492       361      3131      10.34      89.66\n",
      "Trade: type 4              64         2        62       3.12      96.88\n",
      "Trade: type 5              49         3        46       6.12      93.88\n",
      "Trade: type 6             631        29       602       4.60      95.40\n",
      "Trade: type 7            7831       740      7091       9.45      90.55\n",
      "Transport: type 1         201         9       192       4.48      95.52\n",
      "Transport: type 2        2204       172      2032       7.80      92.20\n",
      "Transport: type 3        1187       187      1000      15.75      84.25\n",
      "Transport: type 4        5398       501      4897       9.28      90.72\n",
      "University               1327        65      1262       4.90      95.10\n",
      "XNA                     55374      2990     52384       5.40      94.60\n"
     ]
    },
    {
     "output_type": "display_data",
     "data": {
      "text/plain": [
       "<Figure size 1280x480 with 2 Axes>"
      ],
      "image/png": "[encoded data removed]"
     },
     "metadata": {
      "needs_background": "light"
     }
    },
    {
     "output_type": "display_data",
     "data": {
      "text/plain": [
       "<Figure size 1280x480 with 2 Axes>"
      ],
      "image/png": "[encoded data removed]"
     },
     "metadata": {
      "needs_background": "light"
     }
    },
    {
     "output_type": "display_data",
     "data": {
      "text/plain": [
       "<Figure size 1280x480 with 2 Axes>"
      ],
      "image/png": "[encoded data removed]"
     },
     "metadata": {
      "needs_background": "light"
     }
    },
    {
     "output_type": "display_data",
     "data": {
      "text/plain": [
       "<Figure size 1280x480 with 2 Axes>"
      ],
      "image/png": "[encoded data removed]"
     },
     "metadata": {
      "needs_background": "light"
     }
    }
   ],
   "metadata": {}
  },
  {
   "cell_type": "markdown",
   "source": [
    "#### **OBSERVATIONS**\n",
    "| COLUMN(S) | Missing Values? | Outliers? | Observation | Difficulties in paying | No difficulties in paying | \n",
    "|---|---|---|---|---|---|\n",
    "| NAME_EDUCATION_TYPE | None | None | With increase in education, the ability to pay increases. | Clients with lesser education | Clients with higher education |\n",
    "| NAME_INCOME_TYPE | None | None | With increase in age, the ability to pay increases. | Younger Clients | Older clients|\n",
    "| OCCUPATION_TYPE | None | None | With increase in age, the ability to pay increases. | Younger Clients | Older clients|\n",
    "| ORGANIZATION_TYPE | None | None | With increase in age, the ability to pay increases. | Younger Clients | Older clients|"
   ],
   "metadata": {}
  },
  {
   "cell_type": "markdown",
   "source": [
    "### 2. Character - Credit Worthiness\n",
    "- AMT_REQ_CREDIT_BUREAU_*\n",
    "- "
   ],
   "metadata": {}
  },
  {
   "cell_type": "code",
   "execution_count": null,
   "source": [
    "df_ca[(df_ca['SK_ID_CURR'].isin(curr_ids_multiple_prev_app))]['TARGET'].value_counts()\n",
    "round(100. * df_ca['TARGET'].value_counts()/ len(df_ca['TARGET']),2)\n",
    "df_ca[df_ca['TARGET'] == 1].to_csv(\"out/defaulter_curr_ids.csv\")"
   ],
   "outputs": [],
   "metadata": {}
  },
  {
   "cell_type": "code",
   "execution_count": null,
   "source": [
    "for col in ['AMT_REQ_CREDIT_BUREAU_HOUR', 'AMT_REQ_CREDIT_BUREAU_DAY', 'AMT_REQ_CREDIT_BUREAU_WEEK', \n",
    "            'AMT_REQ_CREDIT_BUREAU_MON', 'AMT_REQ_CREDIT_BUREAU_QRT', 'AMT_REQ_CREDIT_BUREAU_YEAR']:\n",
    "    print(f\"{col}: {percent(df_ca[col].isna().sum(),df_ca.shape[0])}%\")\n",
    "    print(df_ca[col].unique().tolist())\n",
    "    #compare(df_ca, col, col,figsize=(20, 10))"
   ],
   "outputs": [],
   "metadata": {}
  },
  {
   "cell_type": "code",
   "execution_count": null,
   "source": [
    "col = 'AMT_REQ_CREDIT_BUREAU_QRT'\n",
    "print(f\"{col}: {percent(df_ca[col].isna().sum(),df_ca.shape[0])}%\")\n",
    "print(df_ca[col].unique().tolist())\n",
    "compare(df_ca, col, col,figsize=(20, 10))"
   ],
   "outputs": [],
   "metadata": {}
  },
  {
   "cell_type": "code",
   "execution_count": null,
   "source": [
    "compare(df_ca, 'OCCUPATION_TYPE', 'Occupation Type', ['Laborers', 'Core staff', 'Accountants', 'Managers','Drivers','Sales staff','Cleaning staff',\n",
    " 'Cooking staff', 'Private service staff', 'Medicine staff', 'Security staff','High skill tech staff','Waiters/barmen staff',\n",
    " 'Low-skill Laborers', 'Realty agents','Secretaries', 'IT staff', 'HR staff'], figsize=(20, 10))"
   ],
   "outputs": [],
   "metadata": {}
  },
  {
   "cell_type": "markdown",
   "source": [
    "#### OBSERVATIONS:\n",
    "- **Gender**: More percentage of male clients have difficulties in paying off\n",
    "- **Education**: Clients with lower education have difficulties in paying off. Clients with academic degree are paying off. \n",
    "- **Occupation**: Clients who are private service staff find it difficult in paying off\n",
    "- **Housing Type**: Clients in REnted apartment or staying at parents house have difficulties in paying off\n",
    "\n",
    "TODO: Add income-credit info here"
   ],
   "metadata": {}
  },
  {
   "cell_type": "markdown",
   "source": [
    "#### Credit history"
   ],
   "metadata": {}
  },
  {
   "cell_type": "code",
   "execution_count": null,
   "source": [
    "df_pa.groupby(by='SK_ID_CURR').agg({'SK_ID_PREV':'count'})"
   ],
   "outputs": [],
   "metadata": {}
  },
  {
   "cell_type": "code",
   "execution_count": null,
   "source": [
    "df_pa_ca_status = df_pa.pivot_table(index='SK_ID_CURR', values=['SK_ID_PREV'],columns=['NAME_CONTRACT_STATUS'], aggfunc=['count'],fill_value=0) \n",
    "df_pa_ca_status.columns = df_pa_ca_status.columns.droplevel()\n",
    "df_pa_ca_status.columns = df_pa_ca_status.columns.droplevel()\n",
    "df_pa_ca_status"
   ],
   "outputs": [],
   "metadata": {}
  },
  {
   "cell_type": "code",
   "execution_count": null,
   "source": [
    "df_pa_ca_counts = df_pa.pivot_table(index='SK_ID_CURR', values=['SK_ID_PREV'], aggfunc=['count'],fill_value=0) \n",
    "df_pa_ca_counts.columns = df_pa_ca_counts.columns.droplevel()\n",
    "df_pa_ca_counts.rename(columns={'SK_ID_PREV':'Total Prev Apps'}, inplace=True)\n",
    "df_pa_ca_counts"
   ],
   "outputs": [],
   "metadata": {}
  },
  {
   "cell_type": "code",
   "execution_count": null,
   "source": [
    "df_pa_ca = df_pa_ca_counts.merge(df_pa_ca_status, how='inner', on='SK_ID_CURR')\n",
    "df_pa_ca.reset_index(inplace=True)\n",
    "df_pa_ca"
   ],
   "outputs": [],
   "metadata": {}
  },
  {
   "cell_type": "code",
   "execution_count": null,
   "source": [
    "df_pa_ca['Refused%'] = round((df_pa_ca['Refused']/df_pa_ca['Total Prev Apps'])*100,2)\n",
    "df_pa_ca[df_pa_ca['Refused%'] > 50].sort_values(by='Refused%', ascending= False)"
   ],
   "outputs": [],
   "metadata": {}
  },
  {
   "cell_type": "code",
   "execution_count": null,
   "source": [
    "print(df_pa.shape[0], df_pa_ca['Total Prev Apps'].sum())"
   ],
   "outputs": [],
   "metadata": {}
  },
  {
   "cell_type": "code",
   "execution_count": null,
   "source": [
    "curr_ids_rej_pa = df_pa_ca[df_pa_ca['Refused%'] > 75 ]['SK_ID_CURR']\n",
    "print(curr_ids_rej_pa.shape[0])\n",
    "curr_ids_rej_pa = curr_ids_rej_pa.tolist()\n",
    "curr_ids_rej_pa[0:4]"
   ],
   "outputs": [],
   "metadata": {}
  },
  {
   "cell_type": "code",
   "execution_count": null,
   "source": [
    "df_ca[df_ca['SK_ID_CURR'].isin(curr_ids_rej_pa)]#.groupby('TARGET').agg({'TARGET':'count'})"
   ],
   "outputs": [],
   "metadata": {}
  },
  {
   "cell_type": "code",
   "execution_count": null,
   "source": [
    "pa_curr_ids = df_pa['SK_ID_CURR'].unique().tolist(); print(type(pa_curr_ids), len(pa_curr_ids), pa_curr_ids[0:4])\n",
    "ca_curr_ids = df_ca['SK_ID_CURR'].unique().tolist(); print(type(ca_curr_ids), len(ca_curr_ids), ca_curr_ids[0:4])\n",
    "\n",
    "curr_ids_with_prev_apps = list(set(pa_curr_ids) & set(ca_curr_ids))\n",
    "print(\"Curr ids with prev apps:\", type(curr_ids_with_prev_apps), len(curr_ids_with_prev_apps), curr_ids_with_prev_apps[0:4])\n",
    "\n",
    "curr_ids_wo_prev_apps = set(ca_curr_ids).difference(set(pa_curr_ids))\n",
    "print(\"Curr ids w/o prev apps:\", type(curr_ids_wo_prev_apps), len(curr_ids_wo_prev_apps), list(curr_ids_wo_prev_apps)[0:4])\n",
    "\n",
    "print(\"Verification: \", len(curr_ids_with_prev_apps) + len(curr_ids_wo_prev_apps), len(ca_curr_ids))"
   ],
   "outputs": [],
   "metadata": {}
  },
  {
   "cell_type": "markdown",
   "source": [
    "### 3. Capacity <a class=\"anchor\" id=\"capacity\"></a>\n",
    "Borrower's ability to repay the loan\n",
    "- Debt-to-income (DTI) ratio = total monthyl dept/gross monthly income\n",
    "- DTI < 35% is safe\n",
    "- Length of time an applicant is employed at their current job\n",
    "\n",
    "Columns\n",
    "- INCOME\n",
    "- FLAG_OWN_CAR, FLAG_OWN_REALTY\n",
    "\n",
    "* [Realty & Car](#realty-car)\n",
    "* [Income](#income)\n",
    "\n",
    "Borrower's ability to repay the loan\n",
    "- Current debt\n",
    "- Income\n",
    "- Length of time employed at current job\n",
    "\n",
    "\n",
    "COLUMNS\n",
    "- FLAG_OWN_CAR      - categorical\n",
    "- FLAG_OWN_REALTY   - categorical\n",
    "- AMT_INCOME_TOTAL  - numerical, continuous, float"
   ],
   "metadata": {}
  },
  {
   "cell_type": "markdown",
   "source": [
    "- FLAG_OWN_REALTY == 'Y' does not mean the client is staying there.\n",
    "- NAME_HOUSING_TYPE indicates the type of housing where the client is staying. Not what he/she owns."
   ],
   "metadata": {}
  },
  {
   "cell_type": "code",
   "execution_count": null,
   "source": [
    "df_ca[df_ca['FLAG_OWN_REALTY'] == 'Y'][['SK_ID_CURR','NAME_HOUSING_TYPE']].sort_values(by='NAME_HOUSING_TYPE', ascending=False)\n",
    "df_ca[ (df_ca['FLAG_OWN_REALTY'] == 'N') & (~ df_ca['NAME_HOUSING_TYPE'].isna()) ][['SK_ID_CURR','FLAG_OWN_REALTY', 'NAME_HOUSING_TYPE']]"
   ],
   "outputs": [],
   "metadata": {}
  },
  {
   "cell_type": "code",
   "execution_count": null,
   "source": [
    "for col in ['FLAG_OWN_CAR', 'FLAG_OWN_REALTY','NAME_INCOME_TYPE', 'NAME_EDUCATION_TYPE','NAME_HOUSING_TYPE', 'OCCUPATION_TYPE', 'ORGANIZATION_TYPE']:\n",
    "    df_= makeDFForTargets(df_ca, col)\n",
    "    plotBar(df_, f\"{col} Vs Target\")\n",
    "df_ca['AMT_INCOME_TOTAL']\n",
    "df_ca.boxplot(column='AMT_INCOME_TOTAL', by='TARGET', figsize = (20, 6))\n",
    "df_ca.quantile([0.9, 0.95, .9999])['AMT_INCOME_TOTAL']\n",
    "CA_CLIENT_COLUMNS = df_columns[(df_columns['Table']=='application_data') & (df_columns['Category']=='CLIENT')]['Row'].tolist()\n",
    "CA_APPLICATION_COLUMNS = df_columns[(df_columns['Table']=='application_data') & (df_columns['Category']=='APPLICATION')]['Row'].tolist()\n",
    "CA_BUILDING_COLUMNS = df_columns[(df_columns['Table']=='application_data') & (df_columns['Category']=='BUILDING')]['Row'].tolist()\n",
    "df_ca_maxincome = df_ca.iloc[df_ca['AMT_INCOME_TOTAL'].idxmax()][['SK_ID_CURR','AMT_INCOME_TOTAL'] + CA_CLIENT_COLUMNS ]\n",
    "df_ca_maxincome[CA_CLIENT_COLUMNS]"
   ],
   "outputs": [],
   "metadata": {}
  },
  {
   "cell_type": "markdown",
   "source": [
    "#### Income, Credit, Goods"
   ],
   "metadata": {}
  },
  {
   "cell_type": "code",
   "execution_count": null,
   "source": [
    "df_ca.iloc[df_ca['AMT_INCOME_TOTAL'].idxmax()][['SK_ID_CURR','AMT_INCOME_TOTAL']]"
   ],
   "outputs": [],
   "metadata": {}
  },
  {
   "cell_type": "code",
   "execution_count": null,
   "source": [
    "\n",
    "df_ca_red = df_ca[df_ca['SK_ID_CURR'] != 114967]\n",
    "print(df_ca.shape[0], df_ca_red.shape[0])"
   ],
   "outputs": [],
   "metadata": {}
  },
  {
   "cell_type": "code",
   "execution_count": null,
   "source": [
    "plt.figure(figsize=(20, 6), dpi=80)\n",
    "plt.subplot(1, 3, 1)\n",
    "ax = sns.scatterplot(df_ca_red['AMT_INCOME_TOTAL'], df_ca_red['AMT_CREDIT']); ax.set_xscale('log'); ax.set_title(\"Income Vs Credit\")\n",
    "plt.subplot(1, 3, 2)\n",
    "ax = sns.scatterplot(df_ca_red['AMT_INCOME_TOTAL'], df_ca_red['AMT_GOODS_PRICE']); ax.set_xscale('log'); ax.set_title(\"Income Vs Goods Price\")\n",
    "plt.subplot(1, 3, 3)\n",
    "ax = sns.scatterplot(df_ca_red['AMT_GOODS_PRICE'], df_ca_red['AMT_CREDIT']); ax.set_title(\"Goods Price Vs Credit\")\n",
    "plt.show()\n",
    "\n",
    "# TODO: How to get the outliers? "
   ],
   "outputs": [],
   "metadata": {}
  },
  {
   "cell_type": "markdown",
   "source": [
    "#### Realty Car <a name=\"realty-car\"></a>"
   ],
   "metadata": {}
  },
  {
   "cell_type": "code",
   "execution_count": null,
   "source": [
    "print(\"Missing values: \")\n",
    "for col in ['FLAG_OWN_CAR', 'FLAG_OWN_REALTY', 'AMT_INCOME_TOTAL']:\n",
    "    print(f\"{col:27}: {df_ca[col].isna().sum():7}\")\n",
    "df_ca[df_ca['FLAG_OWN_CAR'] == 'Y'][['SK_ID_CURR','OWN_CAR_AGE']].sort_values(by='OWN_CAR_AGE', ascending=False)\n",
    "# TODO: OWN_CAR_AGE has NaN values where FLAG_OWN_CAR='Y'\n",
    "# OWN_CAR_AGE - what is the unit? Is it in months or days?\n",
    "#  Verify if car is not owned but has car age provided\n",
    "df_ca[ (df_ca['FLAG_OWN_CAR'] == 'N') & (~df_ca['OWN_CAR_AGE'].isna()) ][['SK_ID_CURR','FLAG_OWN_CAR', 'OWN_CAR_AGE']]\n",
    "for col in ['FLAG_OWN_CAR', 'FLAG_OWN_REALTY']:\n",
    "    df_= makeDFForTargets1(df_ca, col)\n",
    "    print(df_.columns.to_list())\n",
    "    plotBar(df_, f\"{col} Vs Target\")\n",
    "\n",
    "# Whether a client owns a car/house or not does not seem to impact their ability to make payment"
   ],
   "outputs": [],
   "metadata": {}
  },
  {
   "cell_type": "markdown",
   "source": [
    "#### Income <a class=\"anchor\" id=\"income\"></a>"
   ],
   "metadata": {}
  },
  {
   "cell_type": "code",
   "execution_count": null,
   "source": [
    "df_ca.boxplot(column='AMT_INCOME_TOTAL', by='TARGET', figsize = (20, 6))"
   ],
   "outputs": [],
   "metadata": {}
  },
  {
   "cell_type": "markdown",
   "source": [
    "The boxplot shows that most of the incomes lie in a small range. While a few are extremely high. Is there a better visualization of this?"
   ],
   "metadata": {}
  },
  {
   "cell_type": "code",
   "execution_count": null,
   "source": [
    "#df_ca.plot.line(x='AMT_INCOME_TOTAL')"
   ],
   "outputs": [],
   "metadata": {}
  },
  {
   "cell_type": "code",
   "execution_count": null,
   "source": [
    "df_ca.hist('AMT_INCOME_TOTAL', bins=228)"
   ],
   "outputs": [],
   "metadata": {}
  },
  {
   "cell_type": "code",
   "execution_count": null,
   "source": [
    "# AMT_INCOME_TOTAL - numerical, continuous, float\n",
    "# - No missing values\n",
    "# - The spread is very skewed. So bin the income groups\n",
    "# - Are there any particular income groups that struggle to pay back loans? or pay comfortably?\n",
    "# - Income and other variables like credit amount\n",
    "print(df_ca[['AMT_INCOME_TOTAL']].mean(), df_ca[['AMT_INCOME_TOTAL']].median())\n",
    "print(df_ca[['AMT_INCOME_TOTAL']].quantile([0, 0.00005, 0.0005, 0.005, 0.05, 0.1, 0.25, 0.5, 0.75, 0.9, 0.99999, 1]))"
   ],
   "outputs": [],
   "metadata": {}
  },
  {
   "cell_type": "code",
   "execution_count": null,
   "source": [
    "print(getIQR(df_ca,'AMT_INCOME_TOTAL'), getMaxScore(df_ca,'AMT_INCOME_TOTAL'))"
   ],
   "outputs": [],
   "metadata": {}
  },
  {
   "cell_type": "code",
   "execution_count": null,
   "source": [
    "# Bin the AMT_INCOME_TOTAL into smaller groups\n",
    "df_ca_copy = df_ca.copy()\n",
    "df_ca_copy['INCOME_GROUP'] = pd.cut(df_ca_copy['AMT_INCOME_TOTAL'], [0, 50000, 100000, 1000000, 5000000, 200000000], labels=['<50K', '<1L', '<10L', '<50L', '>50L'])\n",
    "income_groups = df_ca_copy['INCOME_GROUP'].value_counts(sort=False)\n",
    "print(income_groups)\n",
    "#plotBar(income_groups,\"Income Groups\", w=8, h=4, logy=True)\n",
    "\n",
    "# Group the income bins based on TARGET\n",
    "df_ca_copy_income = groupPerTarget(df_ca_copy, 'INCOME_GROUP')\n",
    "plotBar(df_ca_copy_income[['Target=0%','Target=1%']], \"Income Vs Target\")\n",
    "\n",
    "df_ca_copy_income\n",
    "\n",
    "# TODO: \n",
    "# - Add % in the annotation\n",
    "# - Plot according to quartile and check"
   ],
   "outputs": [],
   "metadata": {}
  },
  {
   "cell_type": "markdown",
   "source": [
    "##### **Observations**\n",
    "- The spread of the income is very high. So binned the income groups"
   ],
   "metadata": {}
  },
  {
   "cell_type": "code",
   "execution_count": null,
   "source": [
    "df_ca.iloc[df_ca['AMT_INCOME_TOTAL'].idxmax()][['SK_ID_CURR','AMT_INCOME_TOTAL', 'AMT_CREDIT', 'AMT_GOODS_PRICE']] # + CA_CLIENT_COLUMNS ]"
   ],
   "outputs": [],
   "metadata": {}
  },
  {
   "cell_type": "code",
   "execution_count": null,
   "source": [
    "df_ca_max_income = df_ca[df_ca['SK_ID_CURR'] < 114967]\n",
    "id, income, credit, goods_price = df_ca.iloc[df_ca['AMT_INCOME_TOTAL'].idxmax()][['SK_ID_CURR','AMT_INCOME_TOTAL', 'AMT_CREDIT', 'AMT_GOODS_PRICE']].to_list()\n",
    "print(id, income, credit, goods_price, round(100 * credit/income,2))\n",
    "print(100 * df_ca_max_income['AMT_CREDIT']/df_ca_max_income['AMT_INCOME_TOTAL'])"
   ],
   "outputs": [],
   "metadata": {}
  },
  {
   "cell_type": "markdown",
   "source": [
    "Max income value is 11 crores. Goods price is 4.5L and credit value is 5.6 L. The loan amount is < 1% of the income which seems bizzare. This can be removed."
   ],
   "metadata": {}
  },
  {
   "cell_type": "code",
   "execution_count": null,
   "source": [
    "df_ca_red = df_ca[df_ca['AMT_INCOME_TOTAL'] < getMaxScore(df_ca,'AMT_INCOME_TOTAL')]\n",
    "print(df_ca.shape[0], df_ca_red.shape[0])"
   ],
   "outputs": [],
   "metadata": {}
  },
  {
   "cell_type": "code",
   "execution_count": null,
   "source": [
    "# Outliers - box plot\n",
    "df_ca_red.boxplot(column='AMT_INCOME_TOTAL', by='TARGET', figsize = (20, 6))"
   ],
   "outputs": [],
   "metadata": {}
  },
  {
   "cell_type": "markdown",
   "source": [
    "### 4. Capital\n",
    "- Down payment indicates borrower's level of seriousness\n",
    "- Downpayment size\n",
    "- Overall wealth that borrower possess - Car, Realty"
   ],
   "metadata": {}
  },
  {
   "cell_type": "markdown",
   "source": [
    "#### Building"
   ],
   "metadata": {}
  },
  {
   "cell_type": "code",
   "execution_count": null,
   "source": [
    "df_ca[CA_BUILDING_COLUMNS]\n",
    "df_ca['BUILDING'] = 0\n",
    "for col in ['APARTMENTS_MEDI', 'BASEMENTAREA_MEDI', 'YEARS_BUILD_MEDI', 'COMMONAREA_MEDI', 'LANDAREA_MEDI', 'LIVINGAREA_MEDI', 'NONLIVINGAREA_MEDI']:\n",
    "    print(f\"{col}: {percent(df_ca[col].isna().sum(), df_ca.shape[0])}%\")\n",
    "    df_ca['BUILDING'] = df_ca[col]\n",
    "print(f\"BUILDING {percent(df_ca['BUILDING'].isna().sum(), df_ca.shape[0])}%\")"
   ],
   "outputs": [],
   "metadata": {}
  },
  {
   "cell_type": "markdown",
   "source": [
    "- Since most information about the building is not present we could ignore this variable in our analysis"
   ],
   "metadata": {}
  },
  {
   "cell_type": "markdown",
   "source": [
    "#### Application"
   ],
   "metadata": {}
  },
  {
   "cell_type": "code",
   "execution_count": null,
   "source": [
    "df_ca['OWN_CAR_AGE'].describe()\n",
    "for col in ['AMT_CREDIT', 'AMT_ANNUITY', 'AMT_GOODS_PRICE']:\n",
    "    df_ca.boxplot(column=col, by='TARGET', figsize = (20, 6))"
   ],
   "outputs": [],
   "metadata": {}
  },
  {
   "cell_type": "code",
   "execution_count": null,
   "source": [
    "df_ca[['SK_ID_CURR'] + CA_APPLICATION_COLUMNS]"
   ],
   "outputs": [],
   "metadata": {}
  },
  {
   "cell_type": "code",
   "execution_count": null,
   "source": [
    "CA_FLAG_DOCUMENT_COLUMNS = list(filter(lambda x: x[:14] == 'FLAG_DOCUMENT_', df_ca.columns.tolist()))\n",
    "CA_FLAG_DOCUMENT_COLUMNS"
   ],
   "outputs": [],
   "metadata": {}
  },
  {
   "cell_type": "code",
   "execution_count": null,
   "source": [
    "import functools\n",
    "#df_ca['FLAG_DOCUMENT'] = df_ca[CA_FLAG_DOCUMENT_COLUMNS].apply(lambda row: functools.reduce(lambda a, b: a+b, row))\n",
    "df_ca['FLAG_DOCUMENT'] = functools.reduce(lambda a, b: a+b, [df_ca[col] for col in CA_FLAG_DOCUMENT_COLUMNS])\n",
    "df_ca[['SK_ID_CURR', 'FLAG_DOCUMENT'] + CA_FLAG_DOCUMENT_COLUMNS]"
   ],
   "outputs": [],
   "metadata": {}
  },
  {
   "cell_type": "code",
   "execution_count": null,
   "source": [
    "df_ca['FLAG_DOCUMENT'].describe()"
   ],
   "outputs": [],
   "metadata": {}
  },
  {
   "cell_type": "code",
   "execution_count": null,
   "source": [
    "#  df_ca.plot.bar('FLAG_DOCUMENT', figsize = (20, 6))\n",
    "df_ca['FLAG_DOCUMENT'].value_counts()"
   ],
   "outputs": [],
   "metadata": {}
  },
  {
   "cell_type": "code",
   "execution_count": null,
   "source": [
    "df_ca[df_ca['FLAG_DOCUMENT']==4]"
   ],
   "outputs": [],
   "metadata": {}
  },
  {
   "cell_type": "markdown",
   "source": [
    "## Data Standardisation\n",
    "- Remove decimals from the amounts\n",
    "- Convert age to years & months - not days\n",
    "- Convert amounts to K or L? \n",
    "- Convert numeric flags to categorical values"
   ],
   "metadata": {}
  },
  {
   "cell_type": "markdown",
   "source": [
    "## Data Cleaning - Handle missing data"
   ],
   "metadata": {}
  },
  {
   "cell_type": "code",
   "execution_count": null,
   "source": [
    "## Missing Values\n",
    "listColumsWithMissingData(df_ca)"
   ],
   "outputs": [],
   "metadata": {}
  },
  {
   "cell_type": "code",
   "execution_count": null,
   "source": [
    "listColumsWithMissingData(df_pa)"
   ],
   "outputs": [],
   "metadata": {}
  },
  {
   "cell_type": "markdown",
   "source": [
    "## Outliers"
   ],
   "metadata": {}
  },
  {
   "cell_type": "markdown",
   "source": [
    "## Correlation "
   ],
   "metadata": {}
  },
  {
   "cell_type": "code",
   "execution_count": null,
   "source": [
    "df_ca.columns.tolist()[:50]"
   ],
   "outputs": [],
   "metadata": {}
  },
  {
   "cell_type": "code",
   "execution_count": null,
   "source": [
    "sns.heatmap(df_ca[['AMT_INCOME_TOTAL','AMT_CREDIT','AMT_GOODS_PRICE','TARGET']].corr());plt.show()"
   ],
   "outputs": [],
   "metadata": {}
  },
  {
   "cell_type": "code",
   "execution_count": null,
   "source": [
    "sns.pairplot(data=df_ca_red[['AMT_INCOME_TOTAL','AMT_CREDIT','AMT_GOODS_PRICE','TARGET']])"
   ],
   "outputs": [],
   "metadata": {}
  },
  {
   "cell_type": "code",
   "execution_count": null,
   "source": [
    "plotBar(df_ca_red['CNT_CHILDREN'])"
   ],
   "outputs": [],
   "metadata": {}
  }
 ],
 "metadata": {
  "kernelspec": {
   "name": "python3",
   "display_name": "Python 3.7.9 64-bit ('venv': venv)"
  },
  "language_info": {
   "codemirror_mode": {
    "name": "ipython",
    "version": 3
   },
   "file_extension": ".py",
   "mimetype": "text/x-python",
   "name": "python",
   "nbconvert_exporter": "python",
   "pygments_lexer": "ipython3",
   "version": "3.7.9"
  },
  "orig_nbformat": 3,
  "interpreter": {
   "hash": "f97d34db9510eee530bd15462a1472e6c8ea8cdd282363a5122dd2d3fb534a0c"
  }
 },
 "nbformat": 4,
 "nbformat_minor": 2
}